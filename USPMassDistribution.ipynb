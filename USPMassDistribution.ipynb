{
 "cells": [
  {
   "cell_type": "code",
   "execution_count": 43,
   "metadata": {
    "collapsed": true
   },
   "outputs": [],
   "source": [
    "import csv\n",
    "import numpy as np\n",
    "import matplotlib.pyplot as plt\n",
    "from ironsilicate import IronSilicateEOS\n",
    "from scipy import interpolate\n",
    "from scipy import integrate"
   ]
  },
  {
   "cell_type": "markdown",
   "metadata": {},
   "source": [
    "This reads the PhotometryPlanetRadiiSamplesRedo.csv file that I generated in USPRadiusDistribution.ipynb. It has 1000 radius samples for each USP planet. I make them all into a giant 71000-sample list that I can then slice for each planet."
   ]
  },
  {
   "cell_type": "code",
   "execution_count": 44,
   "metadata": {},
   "outputs": [],
   "source": [
    "periodsamples = []\n",
    "radiisamples = []\n",
    "kepids = []\n",
    "\n",
    "## get 1000 planetary radius samples per planet, set up period array\n",
    "with open('PhotometryPlanetRadiiSamplesRedo.csv') as File:\n",
    "     reader = csv.reader(File, delimiter=',')\n",
    "     rownum = 0\n",
    "     for row in reader:\n",
    "         kepids.append(int(row[0]))\n",
    "         samplelist = list(str(row[1]).split(','))\n",
    "         samplelist[0] = samplelist[0][1:] # remove brackets\n",
    "         samplelist[len(samplelist)-1] = samplelist[len(samplelist)-1][:-1] #remove brackets\n",
    "         sampleslist = [float(i) for i in samplelist]\n",
    "         radiisamples = radiisamples + sampleslist\n",
    "         rownum += 1"
   ]
  },
  {
   "cell_type": "code",
   "execution_count": 47,
   "metadata": {},
   "outputs": [
    {
     "name": "stdout",
     "output_type": "stream",
     "text": [
      "71\n",
      "71000\n"
     ]
    }
   ],
   "source": [
    "print(len(kepids))\n",
    "print(len(radiisamples))"
   ]
  },
  {
   "cell_type": "markdown",
   "metadata": {},
   "source": [
    "Set up spherical integration"
   ]
  },
  {
   "cell_type": "code",
   "execution_count": 48,
   "metadata": {},
   "outputs": [],
   "source": [
    "G = 6.67e-11\n",
    "epsilon = 0.00001\n",
    "\n",
    "Emass = 5.972e24 ## Earth mass\n",
    "Erad = 6371000 ## Earth radius\n",
    "\n",
    "P_cmb = np.logspace(8., 14., 32)\n",
    "P_max_hat = np.logspace(0., 2., 32)\n",
    "#eos = IronSilicateEOS(P_cmb[3], P_max_hat[3])\n",
    "#Pc = eos.P_max\n",
    "\n",
    "\n",
    "cmfarray = np.zeros((len(P_cmb), len(P_max_hat)))\n",
    "crfarray = np.zeros_like(cmfarray)\n",
    "planetmass = np.zeros_like(cmfarray)\n",
    "planetrad = np.zeros_like(cmfarray)"
   ]
  },
  {
   "cell_type": "code",
   "execution_count": 49,
   "metadata": {},
   "outputs": [],
   "source": [
    "Pcarr = []\n",
    "rhos = []\n",
    "\n",
    "for i in range(len(P_cmb)):\n",
    "    for j in range(1, len(P_cmb)):\n",
    "        \n",
    "        Pcmb = P_cmb[i]\n",
    "        eos = IronSilicateEOS(Pcmb, P_max_hat[j])\n",
    "        Pc = eos.P_max\n",
    "        Pcarr.append(Pc)\n",
    "        \n",
    "        def rho(P):\n",
    "            return eos.eqnOfState(P)\n",
    "        \n",
    "        \n",
    "        m0 = (4/3) * np.pi * rho(Pc) * (epsilon**3) ## initial mass\n",
    "        P0 = Pc - (2/3) * np.pi * G * (rho(Pc)**2) * (epsilon**2) ## initial pressure\n",
    "        \n",
    "         ## change of variables where q = ln(P)\n",
    "        def dmdq(q, m, r):\n",
    "            P = np.exp(q)\n",
    "            g = (G * m) / (r**2)\n",
    "            return (-4 * P * np.pi * (r**2)) / g\n",
    "        \n",
    "        def drdq(q, m, r):\n",
    "            P = np.exp(q)\n",
    "            g = (G * m) / (r**2)\n",
    "            return -P / (rho(P) * g)\n",
    "            \n",
    "        def fun(q, x):\n",
    "            m, r = x\n",
    "            return dmdq(q, m, r), drdq(q, m, r)\n",
    "        \n",
    "        q0 = np.log(P0)\n",
    "        \n",
    "        sol = integrate.solve_ivp(fun, t_span = (q0, 0), y0 = [m0, epsilon], method = 'LSODA', rtol = 0.5e-3, atol = 0.5e-6, max_step = .1)\n",
    "\n",
    "        ## LSODA is the only integration method that works for this order of magnitude\n",
    "        \n",
    "        pressure = np.exp(sol.t)\n",
    "        masses = sol.y[0]\n",
    "        radii = sol.y[1]\n",
    "        \n",
    "        if i == 25 and j == 25:\n",
    "             pre = np.exp(sol.t)\n",
    "             mas = sol.y[0]\n",
    "             rad = sol.y[1]\n",
    "        \n",
    "        \n",
    "\n",
    "        # interpolate masses\n",
    "        s = interpolate.interp1d(pressure, masses)\n",
    "        coremass = s(Pcmb) # mass of core\n",
    "        totalmass = s(1) # total planet mass\n",
    "        cmf = coremass / totalmass # core mass fraction\n",
    "        cmfarray[i][j] = cmf\n",
    "        planetmass[i][j] = totalmass / Emass # in Earth masses\n",
    "        \n",
    "        # interpolate radii\n",
    "        r = interpolate.interp1d(pressure, radii)\n",
    "        corerad = r(Pcmb) # radius of core\n",
    "        totalrad = r(1) # total radius\n",
    "        crf = corerad / totalrad # core radius fraction\n",
    "        crfarray[i][j] = crf\n",
    "        planetrad[i][j] = totalrad / Erad # in Earth radii\n"
   ]
  },
  {
   "cell_type": "markdown",
   "metadata": {},
   "source": [
    "Set up and flatten arrays for interpolation"
   ]
  },
  {
   "cell_type": "code",
   "execution_count": 50,
   "metadata": {
    "collapsed": true
   },
   "outputs": [],
   "source": [
    "Pcmbarray = np.zeros((len(P_cmb), len(P_cmb)))\n",
    "Pmaxhatarray = np.zeros((len(P_cmb), len(P_cmb)))\n",
    "for i in range(len(P_cmb)):\n",
    "    for j in range(len(P_cmb)):\n",
    "        Pcmbarray[i][j] = P_cmb[i]\n",
    "        Pmaxhatarray[i][j] = P_max_hat[j]"
   ]
  },
  {
   "cell_type": "code",
   "execution_count": 51,
   "metadata": {
    "collapsed": true
   },
   "outputs": [],
   "source": [
    "flatrad = planetrad.flatten()\n",
    "flatcmf = cmfarray.flatten()\n",
    "flatPcmb = Pcmbarray.flatten()\n",
    "flatPmaxhat = Pmaxhatarray.flatten()\n",
    "\n",
    "getpcmb = interpolate.LinearNDInterpolator((flatrad, flatcmf), flatPcmb)\n",
    "getpmaxhat = interpolate.LinearNDInterpolator((flatrad, flatcmf), flatPmaxhat)\n",
    "\n",
    "getmass = interpolate.RegularGridInterpolator((P_cmb, P_max_hat), planetmass)"
   ]
  },
  {
   "cell_type": "markdown",
   "metadata": {},
   "source": [
    "Interpolate massses. If the interpolation doesn't work for a sample, I put in a placeholder to maintain the order when slicing."
   ]
  },
  {
   "cell_type": "code",
   "execution_count": 74,
   "metadata": {},
   "outputs": [
    {
     "name": "stdout",
     "output_type": "stream",
     "text": [
      "could not interpolate for sample 36408\n",
      "could not interpolate for sample 36759\n"
     ]
    }
   ],
   "source": [
    "earthmasssamples = []\n",
    "i = 0\n",
    "for radsample in radiisamples:\n",
    "    try:\n",
    "        earthmasssamples.append(getmass((getpcmb(radsample, 0.33), getpmaxhat(radsample, 0.33))))\n",
    "        i = i + 1\n",
    "    except:\n",
    "        print(\"could not interpolate for sample\", i)\n",
    "        earthmasssamples.append('nan')\n",
    "        i = i + 1\n",
    "    "
   ]
  },
  {
   "cell_type": "code",
   "execution_count": 76,
   "metadata": {},
   "outputs": [
    {
     "name": "stdout",
     "output_type": "stream",
     "text": [
      "5.851136303387958\n"
     ]
    }
   ],
   "source": [
    "len(earthmasssamples)\n",
    "print(earthmasssamples[23])"
   ]
  },
  {
   "cell_type": "code",
   "execution_count": 81,
   "metadata": {},
   "outputs": [],
   "source": [
    "meanearthmasses = []\n",
    "eartherr = []\n",
    "\n",
    "\n",
    "file = open('PlanetMassSamples.csv', 'w')\n",
    "with file:\n",
    "    writer = csv.writer(file)\n",
    "    for i in range(0, (len(earthmasssamples) // 1000)):\n",
    "        list1 = []\n",
    "        list1 = earthmasssamples[(1000*i) : (1000*(i+1)) - 1]\n",
    "        for f in list1:\n",
    "            if f == 'nan':\n",
    "                list1.remove(f)\n",
    "        meanearthmasses.append(np.percentile(list1, 50))\n",
    "        eartherr.append(np.std(list1))\n",
    "        row = [kepids[i]]\n",
    "        for k in range(0, len(list1)):\n",
    "            row.append(list1[k])\n",
    "        writer.writerow(row)"
   ]
  },
  {
   "cell_type": "code",
   "execution_count": 82,
   "metadata": {},
   "outputs": [
    {
     "name": "stdout",
     "output_type": "stream",
     "text": [
      "[4.7683790533482746, 1.7088660781625495, 2.7106098405184724, 2.8669070460287491, 2.1661611399167895, 3.0952524569730113, 4.0543118993123208, 1.6656981587761086, 3.262309838109875, 1.9153542272585162, 3.8412663761174373, 1.9715394301419105, 3.9210230807892632, 3.297873123275985, 1.9857304429113727, 2.0377957645741183, 7.0935926374567853, 6.4288169622796758, 4.7098555929190384, 2.3022384090653003, 8.4486669818797324, 3.2814845108356283, 4.2565073552453869, 1.6733574735203811, 6.4986879259919181, 8.0727497742449916, 2.693177712786702, 5.1598590857001776, 4.4010445571179719, 1.7314923763340477, 0.73820471543471022, 0.75537035463882241, 5.2225960803520266, 1.4901097030463519, 2.6915002800871695, 0.95824767679245249, 30.050868129111876, 1.6792678519883686, 11.238202992465141, 1.7967154222432797, 0.74285520015319861, 1.1795402392007353, 4.3654057332236995, 0.35757111405517328, 3.1540897483953954, 4.6508825174225752, 7.7331612154715916, 5.4930891059085649, 3.1598709129938607, 2.4687858089656567, 7.4612980430889202, 7.7989560484631291, 3.9334211676584565, 2.4683142878344411, 1.1943636413243861, 8.0257267812692081, 5.023412535270344, 4.2225060449325902, 3.3820433127406591, 1.4003372914477512, 2.0951157239600606, 3.68431054907653, 1.1684671746553659, 50.41706305917473, 1.0117060256983446, 3.4310331172107871, 7.8163093696988488, 4.6210607759247075, 4.003105700706489, 1.4260205536115957, 4.6850247847843169]\n"
     ]
    }
   ],
   "source": [
    "print(meanearthmasses)"
   ]
  },
  {
   "cell_type": "code",
   "execution_count": 83,
   "metadata": {},
   "outputs": [
    {
     "name": "stdout",
     "output_type": "stream",
     "text": [
      "[1.4783213644851587, 0.21052165753743132, 0.2911494315725256, 0.28248385712615109, 0.13956611001839728, 0.62669670601751437, 0.88505412496937474, 0.21546422347517608, 0.68148416198395856, 0.42581283372697287, 0.25614159793121061, 0.3205411216331141, 0.50599859437934191, 0.22025710184177719, 0.16197250255949083, 0.44248663041505587, 1.150171050391124, 0.81986493787288339, 0.35768091397261281, 0.29030275503506686, 0.86741379911974881, 0.40340270012909085, 0.84917037357064895, 0.22891812090990638, 2.3956064589945321, 1.3930751327405595, 0.16809799219192595, 0.75488659607168829, 0.28625378438687638, 0.2274734376014392, 0.24137093312309718, 0.14280140733989891, 0.86355006229451992, 0.26771389225140912, 1.3227879764911847, 0.13002450834852947, 34.808442538055935, 0.23724329830248261, 2.5449665762988354, 0.18596132195257284, 0.054889612036587418, 0.32742890710204348, 0.71101036912384763, 0.033419552664873196, 0.78451357178438974, 0.29461148782983027, 0.90040625515496031, 0.36628343697527088, 0.60517570000386545, 0.47324531158710637, 0.86921386324262595, 0.38981295987902043, 0.32392205242629646, 0.18686745468046587, 0.1311979554811063, 1.1235744860416059, 0.28842193378581682, 0.34632243286287218, 0.96887657458250753, 0.2297832902990895, 0.24268543182255467, 0.42433106696236378, 0.12122442971831011, 13.576008088141002, 0.12827065318001815, 0.23418536475273097, 0.83048013255683328, 0.29349260936304572, 0.38726748009704098, 0.12527386008585115, 0.33233072812154718]\n"
     ]
    }
   ],
   "source": [
    "print(eartherr)"
   ]
  },
  {
   "cell_type": "code",
   "execution_count": null,
   "metadata": {
    "collapsed": true
   },
   "outputs": [],
   "source": []
  }
 ],
 "metadata": {
  "kernelspec": {
   "display_name": "Python 3",
   "language": "python",
   "name": "python3"
  },
  "language_info": {
   "codemirror_mode": {
    "name": "ipython",
    "version": 3
   },
   "file_extension": ".py",
   "mimetype": "text/x-python",
   "name": "python",
   "nbconvert_exporter": "python",
   "pygments_lexer": "ipython3",
   "version": "3.6.8"
  }
 },
 "nbformat": 4,
 "nbformat_minor": 2
}
