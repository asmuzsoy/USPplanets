{
 "cells": [
  {
   "cell_type": "code",
   "execution_count": 1,
   "metadata": {
    "collapsed": true
   },
   "outputs": [],
   "source": [
    "import csv\n",
    "import numpy as np\n",
    "import matplotlib.pyplot as plt\n"
   ]
  },
  {
   "cell_type": "markdown",
   "metadata": {},
   "source": [
    "This reads the PhotometryPlanetRadiiSamplesRedo.csv file that I generate in "
   ]
  },
  {
   "cell_type": "code",
   "execution_count": 5,
   "metadata": {},
   "outputs": [],
   "source": [
    "periodsamples = []\n",
    "radiisamples = []\n",
    "\n",
    "## get 1000 planetary radius samples per planet, set up period array\n",
    "with open('PhotometryPlanetRadiiSamplesRedo.csv') as File:\n",
    "     reader = csv.reader(File, delimiter=',')\n",
    "     rownum = 0\n",
    "     for row in reader:\n",
    "         kepid2 = (int(row[0]))\n",
    "         samplelist = list(str(row[1]).split(','))\n",
    "         samplelist[0] = samplelist[0][1:] # remove brackets\n",
    "         samplelist[len(samplelist)-1] = samplelist[len(samplelist)-1][:-1] #remove brackets\n",
    "         sampleslist = [float(i) for i in samplelist]\n",
    "         radiisamples = radiisamples + sampleslist\n",
    "         rownum += 1"
   ]
  },
  {
   "cell_type": "code",
   "execution_count": 4,
   "metadata": {},
   "outputs": [
    {
     "name": "stdout",
     "output_type": "stream",
     "text": [
      "71000\n"
     ]
    }
   ],
   "source": [
    "print(len(radiisamples))"
   ]
  },
  {
   "cell_type": "code",
   "execution_count": 13,
   "metadata": {},
   "outputs": [],
   "source": [
    "G = 6.67e-11\n",
    "epsilon = 0.00001\n",
    "\n",
    "Emass = 5.972e24 ## Earth mass\n",
    "Erad = 6371000 ## Earth radius\n",
    "\n",
    "P_cmb = np.logspace(8., 14., 32)\n",
    "P_max_hat = np.logspace(0., 2., 32)\n",
    "#eos = IronSilicateEOS(P_cmb[3], P_max_hat[3])\n",
    "#Pc = eos.P_max\n",
    "\n",
    "\n",
    "cmfarray = np.zeros((len(P_cmb), len(P_max_hat)))\n",
    "crfarray = np.zeros_like(cmfarray)\n",
    "planetmass = np.zeros_like(cmfarray)\n",
    "planetrad = np.zeros_like(cmfarray)"
   ]
  },
  {
   "cell_type": "code",
   "execution_count": 14,
   "metadata": {},
   "outputs": [
    {
     "ename": "NameError",
     "evalue": "name 'IronSilicateEOS' is not defined",
     "output_type": "error",
     "traceback": [
      "\u001b[0;31m---------------------------------------------------------------------------\u001b[0m",
      "\u001b[0;31mNameError\u001b[0m                                 Traceback (most recent call last)",
      "\u001b[0;32m<ipython-input-14-6864eebd6724>\u001b[0m in \u001b[0;36m<module>\u001b[0;34m()\u001b[0m\n\u001b[1;32m      6\u001b[0m \u001b[0;34m\u001b[0m\u001b[0m\n\u001b[1;32m      7\u001b[0m         \u001b[0mPcmb\u001b[0m \u001b[0;34m=\u001b[0m \u001b[0mP_cmb\u001b[0m\u001b[0;34m[\u001b[0m\u001b[0mi\u001b[0m\u001b[0;34m]\u001b[0m\u001b[0;34m\u001b[0m\u001b[0;34m\u001b[0m\u001b[0m\n\u001b[0;32m----> 8\u001b[0;31m         \u001b[0meos\u001b[0m \u001b[0;34m=\u001b[0m \u001b[0mIronSilicateEOS\u001b[0m\u001b[0;34m(\u001b[0m\u001b[0mPcmb\u001b[0m\u001b[0;34m,\u001b[0m \u001b[0mP_max_hat\u001b[0m\u001b[0;34m[\u001b[0m\u001b[0mj\u001b[0m\u001b[0;34m]\u001b[0m\u001b[0;34m)\u001b[0m\u001b[0;34m\u001b[0m\u001b[0;34m\u001b[0m\u001b[0m\n\u001b[0m\u001b[1;32m      9\u001b[0m         \u001b[0mPc\u001b[0m \u001b[0;34m=\u001b[0m \u001b[0meos\u001b[0m\u001b[0;34m.\u001b[0m\u001b[0mP_max\u001b[0m\u001b[0;34m\u001b[0m\u001b[0;34m\u001b[0m\u001b[0m\n\u001b[1;32m     10\u001b[0m         \u001b[0mPcarr\u001b[0m\u001b[0;34m.\u001b[0m\u001b[0mappend\u001b[0m\u001b[0;34m(\u001b[0m\u001b[0mPc\u001b[0m\u001b[0;34m)\u001b[0m\u001b[0;34m\u001b[0m\u001b[0;34m\u001b[0m\u001b[0m\n",
      "\u001b[0;31mNameError\u001b[0m: name 'IronSilicateEOS' is not defined"
     ]
    }
   ],
   "source": [
    "Pcarr = []\n",
    "rhos = []\n",
    "\n",
    "for i in range(len(P_cmb)):\n",
    "    for j in range(1, len(P_cmb)):\n",
    "        \n",
    "        Pcmb = P_cmb[i]\n",
    "        eos = IronSilicateEOS(Pcmb, P_max_hat[j])\n",
    "        Pc = eos.P_max\n",
    "        Pcarr.append(Pc)\n",
    "        \n",
    "        def rho(P):\n",
    "            return eos.eqnOfState(P)\n",
    "        \n",
    "        \n",
    "        m0 = (4/3) * np.pi * rho(Pc) * (epsilon**3) ## initial mass\n",
    "        P0 = Pc - (2/3) * np.pi * G * (rho(Pc)**2) * (epsilon**2) ## initial pressure"
   ]
  },
  {
   "cell_type": "code",
   "execution_count": null,
   "metadata": {
    "collapsed": true
   },
   "outputs": [],
   "source": []
  }
 ],
 "metadata": {
  "kernelspec": {
   "display_name": "Python 3",
   "language": "python",
   "name": "python3"
  },
  "language_info": {
   "codemirror_mode": {
    "name": "ipython",
    "version": 3
   },
   "file_extension": ".py",
   "mimetype": "text/x-python",
   "name": "python",
   "nbconvert_exporter": "python",
   "pygments_lexer": "ipython3",
   "version": "3.6.8"
  }
 },
 "nbformat": 4,
 "nbformat_minor": 2
}
