{
 "cells": [
  {
   "cell_type": "code",
   "execution_count": 2,
   "metadata": {
    "collapsed": true
   },
   "outputs": [],
   "source": [
    "import numpy as np\n",
    "import csv"
   ]
  },
  {
   "cell_type": "code",
   "execution_count": 3,
   "metadata": {
    "collapsed": true
   },
   "outputs": [],
   "source": [
    "Earthradius = 6371000\n",
    "Sunradius = 695508000"
   ]
  },
  {
   "cell_type": "markdown",
   "metadata": {},
   "source": []
  },
  {
   "cell_type": "code",
   "execution_count": 4,
   "metadata": {
    "collapsed": true
   },
   "outputs": [],
   "source": [
    "kepid = []\n",
    "koi = []\n",
    "per = []\n",
    "adivr = []\n",
    "delta = []\n",
    "derror = []"
   ]
  },
  {
   "cell_type": "markdown",
   "metadata": {},
   "source": [
    "We want our planet sample to match that of Sanchis-Ojeda et al. (2014). They present 106 candidates, but their occurrence rate calculations focus on USP planets around G and K stars, that have effective temperatures between 4100 and 6100 K, log(g) between 4.0 and 4.9, and Kepler magnitudes below 16. The \"constrain\" function that I define applies these to a CSV, where I just have to enter the column numbers for each of these. The file that I open is Table 2 from  Sanchis-Ojeda et al. (2014), where we also constrain for orbital periods between 4 and 24 hours and radii between 0.84 and 4 Earth radii.\n",
    "\n",
    "For each of these planets, we record the KIC, KOI, orbital period, transit probability, and transit depth along with its uncertainty."
   ]
  },
  {
   "cell_type": "code",
   "execution_count": 5,
   "metadata": {
    "collapsed": true
   },
   "outputs": [],
   "source": [
    "def constrain(teff, logg, mkep):\n",
    "    if ((row[teff] != \"\") and (4100 < float(row[teff]) < 6100)):\n",
    "        if (((row[logg]) != \"\") and (4.0  < float(row[logg]) < 4.9)):\n",
    "            if ((row[mkep] != \"\") and (float(row[mkep]) < 16)):\n",
    "                return True"
   ]
  },
  {
   "cell_type": "code",
   "execution_count": 6,
   "metadata": {},
   "outputs": [
    {
     "name": "stdout",
     "output_type": "stream",
     "text": [
      "72\n"
     ]
    }
   ],
   "source": [
    "with open('USPCandidates.csv', encoding='latin-1') as File:\n",
    "    reader = csv.reader(File, delimiter=',')\n",
    "    rownum = 0\n",
    "    for row in reader:\n",
    "        if rownum > 0:\n",
    "            if constrain(3,6,2):\n",
    "                if ((row[12] != \"\") and (4 < (float(row[12])*24) < 24)):\n",
    "                    if ((row[23] != \"\") and (.84 < (float(row[23])) < 4)):\n",
    "                        kepid.append(int(row[0]))\n",
    "                        koi.append(int(round(float(row[1]))))\n",
    "                        per.append(float(row[12]))\n",
    "                        adivr.append(float(row[20]))\n",
    "                        delta.append(float(row[14]))\n",
    "                        derror.append(float(row[15]))\n",
    "\n",
    "        rownum += 1 \n",
    "        \n",
    "print(len(kepid))"
   ]
  },
  {
   "cell_type": "code",
   "execution_count": 7,
   "metadata": {},
   "outputs": [
    {
     "name": "stdout",
     "output_type": "stream",
     "text": [
      "63\n"
     ]
    }
   ],
   "source": [
    "falsepositives = [4929299, 10527135, 5642620, 12170648, 3834322,6750902,7269881,10186945,12115188]\n",
    "\n",
    "todelete = []\n",
    "for j in range(0,len(falsepositives)):\n",
    "    for i in range(0, len(kepid)):\n",
    "        if kepid[i] == falsepositives[j]:\n",
    "            todelete.append(i)\n",
    "            \n",
    "todelete.reverse()\n",
    "for k in todelete:\n",
    "    del kepid[k]\n",
    "    del koi[k]\n",
    "    del per[k]\n",
    "    del adivr[k]\n",
    "    del delta[k]\n",
    "    del derror[k]\n",
    "print(len(kepid))"
   ]
  },
  {
   "cell_type": "markdown",
   "metadata": {},
   "source": [
    "There are 72 planets that fit these criteria. Their paper says they use 69, so we're pretty close.\n",
    "\n",
    "Now we have to calculate the occurrence rate of USP planets. To do this, we use the formula for Signal to Noise Ratio (SNR) from Howard et al. (2012), which is as follows:\n",
    "\n",
    "\\begin{equation}\n",
    "    SNR = \\frac{\\delta}{\\sigma_{CDPP}}\\sqrt{\\frac{T_{0}t}{(6\\: hr)P_{orb}}}\n",
    "\\end{equation}\n",
    "\n",
    "We calculate the SNR for each planet/host star pair.\n",
    "\n",
    "We use the Kepler catalog to get the host star parameters, and record the Teff, log(g), and Fe/H.  "
   ]
  },
  {
   "cell_type": "code",
   "execution_count": 8,
   "metadata": {},
   "outputs": [
    {
     "name": "stdout",
     "output_type": "stream",
     "text": [
      "Total number of stars searched:  105266\n"
     ]
    }
   ],
   "source": [
    "stars1 = []\n",
    "snr = np.zeros(len(kepid))\n",
    "teff= np.zeros(len(kepid))\n",
    "logg = np.zeros(len(kepid))\n",
    "feh = np.zeros(len(kepid))\n",
    "\n",
    "with open('keplerstellar.csv') as File:\n",
    "    reader = csv.reader(File, delimiter=',')\n",
    "    rownum = 0\n",
    "    for row in reader:\n",
    "        if rownum > 0:\n",
    "            if constrain(6,8,5):\n",
    "                if \"1\" in (str(row[19])[:16]):\n",
    "                    if ((row[1]) != \"\") and \"q1_q16\" in str(row[0]):\n",
    "                        stars1.append(int(row[1])) \n",
    "                        if row[21] != \"\" and row[22] != \"\":\n",
    "                            time = float(row[21])*float(row[22])\n",
    "                            if row[23] != \"\":\n",
    "                                for i in range(len(kepid)):\n",
    "                                    if int(row[1]) == kepid[i]:\n",
    "                                        t = (per[i]*24)*(1/adivr[i])*(1/np.pi) # transit duration\n",
    "                                        snr[i] = ((delta[i]/(float(row[23])))*np.sqrt((t*time)/(per[i]*6)))\n",
    "                                        teff[i] = (float(row[6]))\n",
    "                                        logg[i] = (float(row[8]))\n",
    "                                        feh[i] = (float(row[10]))\n",
    "                                        \n",
    "        rownum += 1\n",
    "print(\"Total number of stars searched: \", len(stars1))"
   ]
  },
  {
   "cell_type": "markdown",
   "metadata": {},
   "source": [
    "The total number of stars searched matches pretty well the number reported in Sanchis-Ojeda et al. (2014).\n",
    "\n",
    "The Kepler catalog really isn't the best place to get stellar parameters, so I'm replacing the values with ones from Winn et al. (2017) that use the updated CKS parameteters. But not all of the stars I need values for are in that population, so I'll just keep the Kepler values for those."
   ]
  },
  {
   "cell_type": "code",
   "execution_count": 9,
   "metadata": {},
   "outputs": [
    {
     "name": "stdout",
     "output_type": "stream",
     "text": [
      "43\n"
     ]
    }
   ],
   "source": [
    "loggerr = np.zeros(len(kepid))\n",
    "tefferr = np.zeros(len(kepid))\n",
    "feherr = np.zeros(len(kepid))\n",
    "\n",
    "count = 0\n",
    "with open('ajaa7b7ct1_ascii.csv') as File:\n",
    "    reader = csv.reader(File, delimiter=',')\n",
    "    rownum = 0\n",
    "    for row in reader:\n",
    "        if rownum > 2:\n",
    "            for i in range(len(kepid)):\n",
    "                if int(row[0][3:]) == koi[i]:\n",
    "                    teff[i] = (float(row[1]))\n",
    "                    tefferr[i] = np.max([(float(row[3])), (float(row[2]))])\n",
    "                    logg[i] = (float(row[4]))\n",
    "                    loggerr[i] = np.max([(float(row[6])), (float(row[5]))])\n",
    "                    feh[i] = (float(row[7]))\n",
    "                    feherr[i] = np.max([(float(row[9])), (float(row[8]))])\n",
    "                    count += 1\n",
    "                elif int(row[0][3:]) == kepid[i]:\n",
    "                    teff[i] = (float(row[1]))\n",
    "                    tefferr[i] = np.max([(float(row[3])), (float(row[2]))])\n",
    "                    logg[i] = (float(row[4]))\n",
    "                    loggerr[i] = np.max([(float(row[6])), (float(row[5]))])\n",
    "                    feh[i] = (float(row[7]))\n",
    "                    feherr[i] = np.max([(float(row[9])), (float(row[8]))])\n",
    "                    count +=1\n",
    "#                 if (int(row[0][3:]) == planets[i].koi):\n",
    "#                     planets[i].Teff = (float(row[1]))\n",
    "#                     planets[i].Tefferr = [(float(row[3])), (float(row[2]))]\n",
    "#                     print(planets[i].Tefferr)\n",
    "#                     planets[i].logg = (float(row[4]))\n",
    "#                     planets[i].loggerr = [(float(row[6])), (float(row[5]))]\n",
    "#                     planets[i].feh = (float(row[7]))\n",
    "#                     planets[i].feherr = [(float(row[9])), (float(row[8]))]\n",
    "        rownum += 1\n",
    "\n",
    "print(count)"
   ]
  },
  {
   "cell_type": "code",
   "execution_count": 10,
   "metadata": {},
   "outputs": [
    {
     "name": "stdout",
     "output_type": "stream",
     "text": [
      "63\n",
      "63\n",
      "[2718885, 3112129, 4665571, 8435766, 9642018, 9825174, 10585738, 11187332, 11550689, 1717722, 3444588, 4055304, 4144576, 5040077, 5095635, 5175986, 5513012, 5942808, 5972334, 6129524, 6265792, 6294819, 6310636, 6362874, 6867588, 6934291, 6964929, 6974658, 7102227, 7605093, 7749002, 8278371, 8558011, 8895758, 8947520, 9092504, 9149789, 9221517, 9456281, 9472074, 9473078, 9580167, 10024051, 10028535, 10319385, 10468885, 10647452, 10975146, 11030475, 11401182, 11547505, 11600889, 11752632, 11870545, 11904151, 12265786, 12405333, 5773121, 5980208, 8416523, 9353742, 9475552, 9967771]\n"
     ]
    }
   ],
   "source": [
    "print(len(tefferr))\n",
    "print(len(kepid))\n",
    "print(kepid)"
   ]
  },
  {
   "cell_type": "markdown",
   "metadata": {},
   "source": [
    "One of the main new things we want to do is incorporate new Gaia parallaxes into the radius calculations. We used the gaia-kepler.fun crossmatch database created by Megan Bedell."
   ]
  },
  {
   "cell_type": "code",
   "execution_count": 11,
   "metadata": {
    "collapsed": true
   },
   "outputs": [],
   "source": [
    "from astropy.table import Table\n",
    "data = Table.read('kepler_dr2_1arcsec.fits', format='fits')"
   ]
  },
  {
   "cell_type": "code",
   "execution_count": 12,
   "metadata": {
    "collapsed": true
   },
   "outputs": [],
   "source": [
    "kepid1 = []\n",
    "parallax2 = np.zeros(len(kepid))\n",
    "perror2 = np.zeros(len(kepid))\n",
    "\n",
    "for i in range(len(data['kepid'])):\n",
    "    for j in range(len(kepid)):\n",
    "        if kepid[j] == data['kepid'][i]:\n",
    "            parallax2[j] = (data['parallax'][i])\n",
    "            perror2[j] = (data['parallax_error'][i])\n",
    "#         if (planets[j].kepid) == data['kepid'][i]:\n",
    "#             planets[j].parallax = (data['parallax'][i])\n",
    "#             planets[j].perror = (data['parallax_error'][i])"
   ]
  },
  {
   "cell_type": "code",
   "execution_count": 13,
   "metadata": {},
   "outputs": [
    {
     "name": "stdout",
     "output_type": "stream",
     "text": [
      "63\n",
      "(array([48]),)\n",
      "11030475\n",
      "63\n"
     ]
    }
   ],
   "source": [
    "parallax3 = parallax2\n",
    "print(len(parallax3))\n",
    "print(np.where(parallax3 == 0))\n",
    "#print(noparallax)\n",
    "print(kepid[48])\n",
    "print(len(kepid))\n",
    "# del kepid[noparallax]\n",
    "# del koi[noparallax]\n",
    "# del per[noparallax]\n",
    "# del teff[noparallax]\n",
    "# del tefferr[noparallax]\n",
    "# del logg[noparallax]\n",
    "# del loggerr[noparallax]\n",
    "# del feh[noparallax]\n",
    "# del feherr[noparallax]\n",
    "# del delta[noparallax]\n",
    "# del derror[noparallax]\n",
    "# del parallax2[noparallax]\n",
    "# del perror2[noparallax]\n",
    "\n",
    "# print(len(parallax2))"
   ]
  },
  {
   "cell_type": "markdown",
   "metadata": {},
   "source": [
    "We need to remove this planet becasue it doesn't have a Gaia parallax."
   ]
  },
  {
   "cell_type": "code",
   "execution_count": 14,
   "metadata": {},
   "outputs": [
    {
     "name": "stdout",
     "output_type": "stream",
     "text": [
      "63\n"
     ]
    }
   ],
   "source": [
    "koi = [koi[i] for i in range(0,len(kepid)) if kepid[i] != 11030475]\n",
    "adivr = [adivr[i] for i in range(0,len(kepid)) if kepid[i] != 11030475]\n",
    "per = [per[i] for i in range(0,len(kepid)) if kepid[i] != 11030475]\n",
    "teff = [teff[i] for i in range(0,len(kepid)) if kepid[i] != 11030475]\n",
    "logg = [logg[i] for i in range(0,len(kepid)) if kepid[i] != 11030475]\n",
    "feh = [feh[i] for i in range(0,len(kepid)) if kepid[i] != 11030475]\n",
    "tefferr = [tefferr[i] for i in range(0,len(kepid)) if kepid[i] != 11030475]\n",
    "loggerr = [loggerr[i] for i in range(0,len(kepid)) if kepid[i] != 11030475]\n",
    "feherr = [feherr[i] for i in range(0,len(kepid)) if kepid[i] != 11030475]\n",
    "delta = [delta[i] for i in range(0,len(kepid)) if kepid[i] != 11030475]\n",
    "derror = [derror[i] for i in range(0,len(kepid)) if kepid[i] != 11030475]\n",
    "parallax2 = [parallax2[i] for i in range(0,len(kepid)) if kepid[i] != 11030475]\n",
    "perror2 = [perror2[i] for i in range(0,len(kepid)) if kepid[i] != 11030475]\n",
    "kepid = [i for i in kepid if i != 11030475] # there is no Gaia parallax for this KepID.\n",
    "\n",
    "# del planets[51]\n",
    "# print(len(planets))\n",
    "#print(len(kepid4))\n",
    "print(len(parallax3))"
   ]
  },
  {
   "cell_type": "code",
   "execution_count": 15,
   "metadata": {},
   "outputs": [
    {
     "name": "stdout",
     "output_type": "stream",
     "text": [
      "62\n"
     ]
    }
   ],
   "source": [
    "print(len(parallax2))"
   ]
  },
  {
   "cell_type": "markdown",
   "metadata": {},
   "source": [
    "Now, I'm going to record the photometric band magnitudes for each of the host stars. The bands are [Kepler, j, h, k, g, r, i, z]."
   ]
  },
  {
   "cell_type": "code",
   "execution_count": 17,
   "metadata": {},
   "outputs": [
    {
     "name": "stdout",
     "output_type": "stream",
     "text": [
      "62\n"
     ]
    }
   ],
   "source": [
    "kepid2 = np.zeros(len(kepid))\n",
    "kepmag = np.zeros(len(kepid))\n",
    "jmag = np.zeros(len(kepid))\n",
    "hmag = np.zeros(len(kepid))\n",
    "kmag = np.zeros(len(kepid))\n",
    "gmag = np.zeros(len(kepid))\n",
    "rmag = np.zeros(len(kepid))\n",
    "imag = np.zeros(len(kepid))\n",
    "zmag = np.zeros(len(kepid))\n",
    "\n",
    "with open('kepler_search.csv') as File:\n",
    "    reader = csv.reader(File, delimiter=',')\n",
    "    rownum = 0\n",
    "    for row in reader:\n",
    "        if rownum > 1:\n",
    "            if (int(row[0]) in kepid) and ((int(row[0]) in kepid2) == False):\n",
    "                for i in range(len(kepid)):\n",
    "                    if int(row[0]) == kepid[i]:\n",
    "                        kepid2[i] = int(row[0])\n",
    "                        kepmag[i] = float(row[37])\n",
    "                        jmag[i] = float(row[34])\n",
    "                        hmag[i] = float(row[35])\n",
    "                        kmag[i] = float(row[36])\n",
    "                        gmag[i] = float(row[30])\n",
    "                        rmag[i] = float(row[31])\n",
    "                        imag[i] = float(row[32])\n",
    "                        zmag[i] = float(row[33])\n",
    "#                     if int(row[0]) == planets[i].kepid:\n",
    "#                         planets[i].photoarray = [float(row[37]), float(row[34]), float(row[35]), float(row[36]),\n",
    "#                                                   float(row[30]), float(row[31]), float(row[32]), float(row[33])]\n",
    "        rownum += 1\n",
    "print(len(kepid2))"
   ]
  },
  {
   "cell_type": "code",
   "execution_count": 18,
   "metadata": {},
   "outputs": [
    {
     "name": "stdout",
     "output_type": "stream",
     "text": [
      "64.0\n",
      "4776.0\n",
      "4.6\n",
      "0.03\n",
      "-0.11\n",
      "0.04\n",
      "11401182\n",
      "0.017492997737671497\n"
     ]
    }
   ],
   "source": [
    "# for i in range(0,len(planets)):\n",
    "#     if planets[i].photoarray == 'none':\n",
    "#         print(planets[i].kepid)\n",
    "        \n",
    "# for i in range(0,len(planets)):\n",
    "#     if planets[i].Tefferr == ['none', 'none']:\n",
    "#         print(i)\n",
    "print(tefferr[48])\n",
    "print(teff[48])\n",
    "print(logg[48])\n",
    "print(loggerr[48])\n",
    "print(feh[48])\n",
    "print(feherr[48])\n",
    "print(kepid[48])\n",
    "print(perror2[48])"
   ]
  },
  {
   "cell_type": "markdown",
   "metadata": {},
   "source": [
    "All of the stars have recorded photometric band magnitudes. Now we're going to use the isochrones package to interpolate the stellar host radii based on these band magnitudes, as well as log(g), Teff, and Fe/H."
   ]
  },
  {
   "cell_type": "code",
   "execution_count": 181,
   "metadata": {
    "collapsed": true
   },
   "outputs": [],
   "source": [
    "from isochrones import StarModel\n",
    "from isochrones.mist import MIST_Isochrone\n",
    "\n",
    "bands = ['J','H','K','Kepler','g','r','i','z']\n",
    "mist = MIST_Isochrone(bands = bands)\n",
    "star_radii = []\n",
    "star_rad_sigma = []\n",
    "star_rad_array = []\n",
    "star_masses = []\n",
    "star_mass_sigma = []\n",
    "deltaarray = []\n",
    "fifteen = []\n",
    "eightyfive = []\n",
    "num_samples = 1000\n",
    "planet_radii_samples = []\n"
   ]
  },
  {
   "cell_type": "code",
   "execution_count": null,
   "metadata": {},
   "outputs": [
    {
     "name": "stderr",
     "output_type": "stream",
     "text": [
      "/Users/anasofiauzsoy/anaconda/lib/python3.6/site-packages/isochrones/mist/grid.py:190: FutureWarning: read_table is deprecated, use read_csv instead, passing sep='\\t'.\n",
      "  skip_blank_lines=True, names=column_names)\n",
      "/Users/anasofiauzsoy/anaconda/lib/python3.6/site-packages/isochrones/mist/grid.py:195: DtypeWarning: Columns (8) have mixed types. Specify dtype option on import or set low_memory=False.\n",
      "  df = super(MISTModelGrid, self).df_all(phot)\n",
      "/Users/anasofiauzsoy/anaconda/lib/python3.6/site-packages/pandas/core/generic.py:2377: PerformanceWarning: \n",
      "your performance may suffer as PyTables will pickle object types that it cannot\n",
      "map directly to c-types [inferred_type->mixed,key->block2_values] [items->['[Fe/H]']]\n",
      "\n",
      "  return pytables.to_hdf(path_or_buf, key, self, **kwargs)\n"
     ]
    },
    {
     "name": "stdout",
     "output_type": "stream",
     "text": [
      "0\n",
      "1\n",
      "2\n",
      "3\n",
      "4\n",
      "5\n",
      "6\n",
      "7\n",
      "8\n"
     ]
    }
   ],
   "source": [
    "for i in range(0, len(kepid2)):\n",
    "    radiisamples = []\n",
    "    mags = {'J':(jmag[i],0.05),'H':(hmag[i],0.05),'K':(kmag[i],0.05), 'Kepler':(kepmag[i],0.05), 'g':(gmag[i],0.05), 'r':(rmag[i],0.05), 'i':(imag[i],0.05), 'z':(zmag[i],0.05)}\n",
    "    if (tefferr[i] != 0):\n",
    "        try:\n",
    "            model = StarModel(mist, logg = (logg[i],loggerr[i]), teff = (teff[i], tefferr[i]),feh = (feh[i],feherr[i]), parallax = (parallax2[i],perror2[i]), **mags)\n",
    "        except:\n",
    "            model = StarModel(mist, parallax = (parallax2[i], perror2[i]), **mags)    \n",
    "    else:\n",
    "        model = StarModel(mist, parallax = (parallax2[i], perror2[i]), **mags)\n",
    "    StarModel.fit_multinest(model,n_live_points=1000, basename=None, verbose=False, refit=True, overwrite=True,test=False)\n",
    "    star_radii.append(model.samples.radius_0_0.quantile(0.5))\n",
    "    star_masses.append(model.samples.mass_0_0.quantile(0.5))\n",
    "    star_rad_sigma.append(np.std(model.samples.radius_0_0))\n",
    "    star_mass_sigma.append(np.std(model.samples.mass_0_0))\n",
    "    fifteen.append(np.percentile(model.samples.radius_0_0, 15.85))\n",
    "    eightyfive.append(np.percentile(model.samples.radius_0_0, 84.15))\n",
    "    star_rad_array = np.random.choice(model.samples.radius_0_0, num_samples) ## star radii\n",
    "    deltaarray = np.random.normal(delta[i],derror[i], num_samples)\n",
    "    for j in range(len(star_rad_array)):\n",
    "        if deltaarray[j] > 0:\n",
    "            radiisamples.append((star_rad_array[j]*Sunradius*np.sqrt(deltaarray[j]/1000000))/Earthradius)\n",
    "        else:\n",
    "            radiisamples.append(np.nan)\n",
    "    planet_radii_samples.append(radiisamples)\n",
    "    print(i)"
   ]
  },
  {
   "cell_type": "code",
   "execution_count": 172,
   "metadata": {},
   "outputs": [],
   "source": [
    "raderrup = [value - median for value, median in zip(eightyfive, star_radii)]\n",
    "raderrdown = [median - value for value, median in zip(fifteen, star_radii)]"
   ]
  },
  {
   "cell_type": "code",
   "execution_count": 173,
   "metadata": {},
   "outputs": [
    {
     "ename": "TypeError",
     "evalue": "Mismatch between array dtype ('object') and format specifier ('%.18e')",
     "output_type": "error",
     "traceback": [
      "\u001b[0;31m---------------------------------------------------------------------------\u001b[0m",
      "\u001b[0;31mTypeError\u001b[0m                                 Traceback (most recent call last)",
      "\u001b[0;32m/Users/anasofiauzsoy/anaconda/lib/python3.6/site-packages/numpy/lib/npyio.py\u001b[0m in \u001b[0;36msavetxt\u001b[0;34m(fname, X, fmt, delimiter, newline, header, footer, comments, encoding)\u001b[0m\n\u001b[1;32m   1421\u001b[0m                 \u001b[0;32mtry\u001b[0m\u001b[0;34m:\u001b[0m\u001b[0;34m\u001b[0m\u001b[0;34m\u001b[0m\u001b[0m\n\u001b[0;32m-> 1422\u001b[0;31m                     \u001b[0mv\u001b[0m \u001b[0;34m=\u001b[0m \u001b[0mformat\u001b[0m \u001b[0;34m%\u001b[0m \u001b[0mtuple\u001b[0m\u001b[0;34m(\u001b[0m\u001b[0mrow\u001b[0m\u001b[0;34m)\u001b[0m \u001b[0;34m+\u001b[0m \u001b[0mnewline\u001b[0m\u001b[0;34m\u001b[0m\u001b[0;34m\u001b[0m\u001b[0m\n\u001b[0m\u001b[1;32m   1423\u001b[0m                 \u001b[0;32mexcept\u001b[0m \u001b[0mTypeError\u001b[0m\u001b[0;34m:\u001b[0m\u001b[0;34m\u001b[0m\u001b[0;34m\u001b[0m\u001b[0m\n",
      "\u001b[0;31mTypeError\u001b[0m: must be real number, not list",
      "\nDuring handling of the above exception, another exception occurred:\n",
      "\u001b[0;31mTypeError\u001b[0m                                 Traceback (most recent call last)",
      "\u001b[0;32m<ipython-input-173-242d302ab0e1>\u001b[0m in \u001b[0;36m<module>\u001b[0;34m()\u001b[0m\n\u001b[0;32m----> 1\u001b[0;31m \u001b[0mnp\u001b[0m\u001b[0;34m.\u001b[0m\u001b[0msavetxt\u001b[0m\u001b[0;34m(\u001b[0m\u001b[0;34m\"stellar_radii.txt\"\u001b[0m\u001b[0;34m,\u001b[0m \u001b[0;34m(\u001b[0m\u001b[0mstar_radii\u001b[0m\u001b[0;34m,\u001b[0m \u001b[0mraderrup\u001b[0m\u001b[0;34m,\u001b[0m \u001b[0mraderrdown\u001b[0m\u001b[0;34m,\u001b[0m \u001b[0mstar_rad_sigma\u001b[0m\u001b[0;34m)\u001b[0m\u001b[0;34m,\u001b[0m \u001b[0mheader\u001b[0m \u001b[0;34m=\u001b[0m \u001b[0;34m\"median radius, errup, errdown, stdev\"\u001b[0m\u001b[0;34m)\u001b[0m\u001b[0;34m\u001b[0m\u001b[0;34m\u001b[0m\u001b[0m\n\u001b[0m",
      "\u001b[0;32m/Users/anasofiauzsoy/anaconda/lib/python3.6/site-packages/numpy/lib/npyio.py\u001b[0m in \u001b[0;36msavetxt\u001b[0;34m(fname, X, fmt, delimiter, newline, header, footer, comments, encoding)\u001b[0m\n\u001b[1;32m   1424\u001b[0m                     raise TypeError(\"Mismatch between array dtype ('%s') and \"\n\u001b[1;32m   1425\u001b[0m                                     \u001b[0;34m\"format specifier ('%s')\"\u001b[0m\u001b[0;34m\u001b[0m\u001b[0;34m\u001b[0m\u001b[0m\n\u001b[0;32m-> 1426\u001b[0;31m                                     % (str(X.dtype), format))\n\u001b[0m\u001b[1;32m   1427\u001b[0m                 \u001b[0mfh\u001b[0m\u001b[0;34m.\u001b[0m\u001b[0mwrite\u001b[0m\u001b[0;34m(\u001b[0m\u001b[0mv\u001b[0m\u001b[0;34m)\u001b[0m\u001b[0;34m\u001b[0m\u001b[0;34m\u001b[0m\u001b[0m\n\u001b[1;32m   1428\u001b[0m \u001b[0;34m\u001b[0m\u001b[0m\n",
      "\u001b[0;31mTypeError\u001b[0m: Mismatch between array dtype ('object') and format specifier ('%.18e')"
     ]
    }
   ],
   "source": [
    "np.savetxt(\"stellar_radii.txt\", (star_radii, raderrup, raderrdown, star_rad_sigma), header = \"median radius, errup, errdown, stdev\")"
   ]
  },
  {
   "cell_type": "code",
   "execution_count": 151,
   "metadata": {},
   "outputs": [],
   "source": [
    "np.savetxt(\"planet_radius_samples.txt\", planet_radii_samples)"
   ]
  },
  {
   "cell_type": "code",
   "execution_count": 155,
   "metadata": {},
   "outputs": [],
   "source": [
    "np.savetxt(\"stellar_masses.txt\", (star_masses, star_mass_sigma), header = \"median, stdev\")"
   ]
  },
  {
   "cell_type": "code",
   "execution_count": 156,
   "metadata": {},
   "outputs": [],
   "source": [
    "x, y = np.loadtxt(\"stellar_masses.txt\")"
   ]
  },
  {
   "cell_type": "markdown",
   "metadata": {},
   "source": [
    "Here I'm going to begin re-creating Figure 1, a comparison of my calculated stellar radii to those of Fulton & Petigure (2018)."
   ]
  },
  {
   "cell_type": "code",
   "execution_count": 159,
   "metadata": {
    "collapsed": true
   },
   "outputs": [],
   "source": [
    "CKSkoi = []\n",
    "CKSstarrad = []\n",
    "CKSerr_up = []\n",
    "CKSerr_down = []\n",
    "\n",
    "with open('UpdateFultonPetigura18.csv') as File:\n",
    "    reader = csv.reader(File, delimiter=',')\n",
    "    for row in reader:\n",
    "        r = int(row[0][2:])\n",
    "        if (r in koi):\n",
    "            CKSkoi.append(r)\n",
    "            CKSstarrad.append(float(row[11]))\n",
    "            CKSerr_up.append(float(row[12]))\n",
    "            CKSerr_down.append(float(row[13]))"
   ]
  },
  {
   "cell_type": "code",
   "execution_count": 160,
   "metadata": {},
   "outputs": [
    {
     "data": {
      "text/plain": [
       "39"
      ]
     },
     "execution_count": 160,
     "metadata": {},
     "output_type": "execute_result"
    }
   ],
   "source": [
    "len(CKSerr_down)"
   ]
  },
  {
   "cell_type": "code",
   "execution_count": 161,
   "metadata": {
    "collapsed": true
   },
   "outputs": [],
   "source": [
    "compare_star_radii = np.zeros(len(CKSkoi))\n",
    "compare_sigmas = np.zeros(len(CKSkoi))\n",
    "compare_errup = np.zeros(len(CKSkoi))\n",
    "compare_errdown = np.zeros(len(CKSkoi))\n",
    "\n",
    "for i in range(len(koi)):\n",
    "    for j in range(len(CKSkoi)):\n",
    "        if (koi[i]) == CKSkoi[j]:\n",
    "            compare_star_radii[j] = star_radii[i]\n",
    "            compare_sigmas[j] = star_rad_sigma[i]\n",
    "            compare_errup[j] = raderrup[i]\n",
    "            compare_errdown[j] = raderrdown[i]"
   ]
  },
  {
   "cell_type": "code",
   "execution_count": 162,
   "metadata": {},
   "outputs": [
    {
     "data": {
      "image/png": "[encoded data removed]",
      "text/plain": [
       "<Figure size 432x288 with 1 Axes>"
      ]
     },
     "metadata": {},
     "output_type": "display_data"
    }
   ],
   "source": [
    "import matplotlib.pyplot as plt\n",
    "\n",
    "myblue = (0, .45, .70)\n",
    "mygold = (.9, .6, 0)\n",
    "\n",
    "\n",
    "x = np.linspace(0.6, 1.75, 50)\n",
    "plt.plot(compare_star_radii, CKSstarrad, 'o', color = myblue, markersize = 8)\n",
    "plt.plot(x,x, lw = 2.5, color = mygold)\n",
    "plt.errorbar(compare_star_radii, CKSstarrad, xerr = [compare_errdown, compare_errup], yerr = [CKSerr_down, CKSerr_up], ls = 'None', ecolor = 'k')\n",
    "plt.ylabel('Derived stellar radii ($R_{\\odot}$)', fontsize = 'x-large')\n",
    "plt.xlabel('Stellar radii from Fulton & Petigura (2018) ($R_{\\odot}$)', fontsize = 'x-large')\n",
    "plt.xticks(fontsize = 'large')\n",
    "plt.yticks(fontsize = 'large')\n",
    "plt.show()"
   ]
  },
  {
   "cell_type": "markdown",
   "metadata": {},
   "source": [
    "Now for Figure 2: Comparing stellar host radii to those used in Sanchis-Ojeda et al. (2014)"
   ]
  },
  {
   "cell_type": "code",
   "execution_count": 30,
   "metadata": {
    "collapsed": true
   },
   "outputs": [],
   "source": [
    "SO_radii = np.zeros(len(kepid))\n",
    "SO_errup = np.zeros(len(kepid))\n",
    "SO_errdown = np.zeros(len(kepid))\n",
    "\n",
    "with open('USPCandidates.csv', encoding='latin-1') as File:\n",
    "    reader = csv.reader(File, delimiter=',')\n",
    "    rownum = 0\n",
    "    for row in reader:\n",
    "        if rownum > 0:\n",
    "             if row[24] != \"\":\n",
    "                for i in range(len(kepid)):\n",
    "                     if int(row[0]) == kepid[i]:\n",
    "                        SO_radii[i] = (float(row[9]))\n",
    "                        SO_errup[i] = (float(row[10]))\n",
    "                        SO_errdown[i] = (float(row[11]))\n",
    "        rownum += 1"
   ]
  },
  {
   "cell_type": "markdown",
   "metadata": {},
   "source": [
    "I'm going to identify the planets that had CKS spectroscopic data vs. the ones that didn't. The ones that didn't don't have an actual error for Teff."
   ]
  },
  {
   "cell_type": "code",
   "execution_count": 31,
   "metadata": {},
   "outputs": [
    {
     "name": "stdout",
     "output_type": "stream",
     "text": [
      "20\n",
      "42\n"
     ]
    }
   ],
   "source": [
    "noCKSkepid = []\n",
    "\n",
    "for i in range(len(tefferr)):\n",
    "    if tefferr[i] == 0:\n",
    "        noCKSkepid.append(kepid[i])\n",
    "\n",
    "noCKSkepidrad = [star_radii[kepid.index(i)] for i in noCKSkepid]\n",
    "radiibuds = [SO_radii[kepid.index(i)] for i in noCKSkepid] ## corresponding radii\n",
    "\n",
    "otherrad = [star_radii[kepid.index(i)] for i in kepid if i not in noCKSkepid]\n",
    "radiibuds2 = [SO_radii[kepid.index(i)] for i in kepid if i not in noCKSkepid]\n",
    "\n",
    "print(len(noCKSkepid))\n",
    "print(len(otherrad))"
   ]
  },
  {
   "cell_type": "code",
   "execution_count": 56,
   "metadata": {},
   "outputs": [
    {
     "data": {
      "image/png": "[encoded data removed]",
      "text/plain": [
       "<Figure size 432x288 with 1 Axes>"
      ]
     },
     "metadata": {},
     "output_type": "display_data"
    }
   ],
   "source": [
    "y = np.linspace(0.5, 2.5, 50)\n",
    "\n",
    "f  = plt.figure()\n",
    "plt.plot(radiibuds,noCKSkepidrad, 'o', color = myblue)\n",
    "plt.plot(radiibuds2, otherrad, 'o', color = (0.9, 0.2, 0.0))\n",
    "plt.errorbar(SO_radii, star_radii, yerr = [raderrdown, raderrup], xerr = [SO_errdown, SO_errup], ls = 'None', color = 'k')\n",
    "plt.plot(y,y, color = mygold)\n",
    "plt.xlabel(\"Stellar radii from SO-14 ($R_{\\odot}$)\", fontsize = 'x-large')\n",
    "plt.ylabel('Revised stellar radii ($R_{\\odot}$)', fontsize = 'x-large')\n",
    "plt.xticks(fontsize = 'large')\n",
    "plt.yticks(fontsize = 'large')\n",
    "f.savefig(\"PosterFig1.pdf\", bbox_inches = \"tight\")\n",
    "plt.show()\n",
    "## double check consistent with CKS"
   ]
  },
  {
   "cell_type": "code",
   "execution_count": 1,
   "metadata": {},
   "outputs": [
    {
     "ename": "NameError",
     "evalue": "name 'SO_errup' is not defined",
     "output_type": "error",
     "traceback": [
      "\u001b[0;31m---------------------------------------------------------------------------\u001b[0m",
      "\u001b[0;31mNameError\u001b[0m                                 Traceback (most recent call last)",
      "\u001b[0;32m<ipython-input-1-11733c676dd6>\u001b[0m in \u001b[0;36m<module>\u001b[0;34m()\u001b[0m\n\u001b[0;32m----> 1\u001b[0;31m \u001b[0mSO_errup\u001b[0m\u001b[0;34m\u001b[0m\u001b[0;34m\u001b[0m\u001b[0m\n\u001b[0m",
      "\u001b[0;31mNameError\u001b[0m: name 'SO_errup' is not defined"
     ]
    }
   ],
   "source": [
    "SO_errup"
   ]
  },
  {
   "cell_type": "code",
   "execution_count": 34,
   "metadata": {},
   "outputs": [
    {
     "name": "stdout",
     "output_type": "stream",
     "text": [
      "1.9\n",
      "[0.84 1.02 0.7  0.74 0.79 0.87 0.89 0.9  0.6  0.71 0.72 0.86 0.78 0.84\n",
      " 0.89 0.73 0.78 0.82 0.87 0.78 1.09 0.96 0.82 0.83 0.78 0.73 0.94 1.03\n",
      " 0.76 0.75 0.96 1.1  0.89 1.01 0.87 0.8  0.77 0.82 0.54 0.8  1.16 0.7\n",
      " 0.72 0.79 0.92 0.8  0.74 0.53 0.78 0.99 1.07 0.93 0.74 1.06 0.63 0.86\n",
      " 0.93 0.62 0.75 0.92 0.86 0.93]\n"
     ]
    }
   ],
   "source": [
    "print(np.max(SO_errup))\n",
    "print(SO_radii)"
   ]
  },
  {
   "cell_type": "markdown",
   "metadata": {},
   "source": [
    "This is a strange value in the Sanchis-Ojeda data, but I checked and it's really there."
   ]
  },
  {
   "cell_type": "code",
   "execution_count": 35,
   "metadata": {},
   "outputs": [
    {
     "name": "stderr",
     "output_type": "stream",
     "text": [
      "WARNING:matplotlib.legend:No handles with labels found to put in legend.\n"
     ]
    },
    {
     "name": "stdout",
     "output_type": "stream",
     "text": [
      "y = ((a-d)/(1+(x/c)**b)) + d\n",
      "a = -0.017876485842042024 b = 5.423514988719173 c = 15.85884523202272 d =  0.9743813210245317\n"
     ]
    },
    {
     "data": {
      "image/png": "[encoded data removed]",
      "text/plain": [
       "<Figure size 432x288 with 1 Axes>"
      ]
     },
     "metadata": {},
     "output_type": "display_data"
    },
    {
     "name": "stdout",
     "output_type": "stream",
     "text": [
      "1.8326544798203341 9.656002130909627 4.061402030356385 0.9765401508228847\n",
      "Power_divergenceResult(statistic=0.10726864454939301, pvalue=1.0)\n",
      "Power_divergenceResult(statistic=849.0632053690181, pvalue=4.622399627605344e-119)\n",
      "0.025607780521583547\n",
      "0.05276580242336572\n"
     ]
    }
   ],
   "source": [
    "from scipy.optimize import curve_fit\n",
    "from scipy import stats\n",
    "\n",
    "snr = []\n",
    "prob = []   \n",
    "\n",
    "with open('SNRProb.csv') as File:\n",
    "     reader = csv.reader(File, delimiter=',')\n",
    "     rownum = 0\n",
    "     for row in reader:\n",
    "         if rownum > 5:\n",
    "             snr.append(float(row[0]))\n",
    "             prob.append(float(row[1]))\n",
    "         rownum += 1\n",
    "         \n",
    "\n",
    "def Logistic(x,a,b,c,d):\n",
    "    return (((a-d)/(1+(x/c)**b)) + d)\n",
    "\n",
    "pguess = [0,10,10,1]\n",
    "par, con = curve_fit(Logistic, snr, prob, p0=pguess)\n",
    "a  = par[0]\n",
    "b = par[1]\n",
    "c = par[2]\n",
    "d = par[3]\n",
    "logisticfit = Logistic(snr,0,b,c,d)  \n",
    "\n",
    "print(\"y = ((a-d)/(1+(x/c)**b)) + d\")\n",
    "print(\"a =\", a, \"b =\", b, \"c =\",c, \"d = \", d)\n",
    "\n",
    "def Gamma(x,a,b,c,d):\n",
    "    return d*stats.gamma.cdf(x,a,b,c)\n",
    "\n",
    "pguess2 = [2,5,3,0.95]\n",
    "par2, con2 = curve_fit(Gamma,snr,prob,p0=pguess2)\n",
    "a2  = par2[0]\n",
    "b2 = par2[1]\n",
    "c2 = par2[2]\n",
    "d2 = par2[3]\n",
    "gammafit = Gamma(snr,a2,b2,c2,d2)\n",
    "\n",
    "plt.plot(snr, prob,'o', color = myblue)\n",
    "#plt.plot(snr, logisticfit,color = (0.9, 0.2, 0), label = 'Logistic fit', linewidth  = 3)\n",
    "plt.plot(snr,gammafit,color = (0.9, 0.2, 0), linewidth = 3)\n",
    "plt.xlabel('Signal-to-noise ratio', fontsize = 'x-large')\n",
    "plt.ylabel('Planet detection probability', fontsize = 'x-large')\n",
    "plt.xticks(fontsize = 14)\n",
    "plt.yticks(fontsize = 14)\n",
    "plt.legend()\n",
    "plt.show()\n",
    "\n",
    "print(a2,b2,c2,d2)\n",
    "\n",
    "gammafit1 = [i for i in gammafit if i != 0]\n",
    "prob1 = [prob[i] for i in range(0,len(prob)) if gammafit[i] != 0]\n",
    "\n",
    "print(stats.chisquare(prob1,gammafit1,ddof = 3))\n",
    "print(stats.chisquare(prob,logisticfit,ddof = 2))\n",
    "\n",
    "chisq=np.sum((prob-gammafit)**2)\n",
    "print(chisq)\n",
    "chisq1=np.sum((prob-logisticfit)**2)\n",
    "print(chisq1)\n"
   ]
  },
  {
   "cell_type": "markdown",
   "metadata": {},
   "source": [
    "So in the paper, I make the claim that my stellar host radii are more exact than those of Sanchis-Ojeda et al. So I need to back up that claim by comparing the size of their uncertainties to mine."
   ]
  },
  {
   "cell_type": "code",
   "execution_count": 36,
   "metadata": {},
   "outputs": [
    {
     "name": "stdout",
     "output_type": "stream",
     "text": [
      "SO Medians\n",
      "0.2805605247465712\n",
      "0.08333333333333334\n",
      "SO Averages\n",
      "0.31602739314926265\n",
      "0.0877996195121639\n",
      "My medians\n",
      "0.020714225875419785\n",
      "0.019854882589316687\n",
      "My averages\n",
      "0.025917263180610908\n",
      "0.026141306467974947\n"
     ]
    }
   ],
   "source": [
    "so_dev_up = [i/j for i,j in zip(SO_errup, SO_radii)]\n",
    "so_dev_down = [i/j for i,j in zip(SO_errdown, SO_radii)]\n",
    "print(\"SO Medians\")\n",
    "print(np.median(so_dev_up))\n",
    "print(np.median(so_dev_down))\n",
    "\n",
    "print(\"SO Averages\")\n",
    "print(np.average(so_dev_up))\n",
    "print(np.average(so_dev_down))\n",
    "\n",
    "mydev_up = [i/j for i,j in zip(raderrup, star_radii)]\n",
    "mydev_down = [i/j for i,j in zip(raderrdown, star_radii)]\n",
    "print(\"My medians\")\n",
    "print(np.median(mydev_up))\n",
    "print(np.median(mydev_down))\n",
    "\n",
    "print(\"My averages\")\n",
    "print(np.average(mydev_up))\n",
    "print(np.average(mydev_down))"
   ]
  },
  {
   "cell_type": "code",
   "execution_count": 39,
   "metadata": {},
   "outputs": [
    {
     "data": {
      "text/plain": [
       "62"
      ]
     },
     "execution_count": 39,
     "metadata": {},
     "output_type": "execute_result"
    }
   ],
   "source": [
    "adivr = [adivr[i] for i in range(0,len(kepid)) if kepid[i] != 11030475]\n",
    "len(adivr)"
   ]
  },
  {
   "cell_type": "code",
   "execution_count": 165,
   "metadata": {
    "collapsed": true
   },
   "outputs": [],
   "source": [
    "magradii = [1.3889504930655123, 1.012349375037963, 0.739130066228624, 0.7563944422477853, 0.823876769917557, 0.9164067978766238, 0.8932198598519793, 0.9630818319261146, 0.645334043908549, 0.6723896316583433, 0.6613208948593718, 0.8077453135730446, 0.8611528267826624, 0.9571941773487894, 0.9974612017804648, 0.663833475600484, 0.8815187299233647, 0.7860863270798729, 0.9405154527725256, 0.8232563996387668, 1.301991076233905, 1.0859237975652791, 1.6440594685173593, 0.8549196460812376, 1.2417550527165038, 0.7372287294610058, 1.0579153360725728, 0.8735056190406976, 0.7268924696608724, 0.7755122746531886, 0.8457720215772312, 1.4179478695948153, 0.8439629631366707, 2.0433851779610492, 0.9604664331785503, 0.9789717959873322, 0.8337367403725874, 0.8029945549430975, 0.6449459032073522, 0.8032464038285576, 0.9852878243804818, 0.7575851820437182, 0.6931019395085967, 0.8765879129755516, 1.0569271624200833, 0.8371541017237069, 0.8261212548098643, 0.7565852629408361, 0.7114643019298432, 0.9183004522975196, 1.0511264905050017, 1.0913041764526226, 0.6977050593628022, 1.058083718491809, 0.7738518648744791, 0.8026047114435471, 0.8394266383728296, 0.6269374628708656, 0.7640706734127325, 0.955365933295743, 0.7490321865807098, 0.9739648725523049]"
   ]
  },
  {
   "cell_type": "code",
   "execution_count": 167,
   "metadata": {},
   "outputs": [
    {
     "data": {
      "text/plain": [
       "64"
      ]
     },
     "execution_count": 167,
     "metadata": {},
     "output_type": "execute_result"
    }
   ],
   "source": [
    "len(star_radii)"
   ]
  },
  {
   "cell_type": "code",
   "execution_count": 166,
   "metadata": {},
   "outputs": [
    {
     "ename": "ValueError",
     "evalue": "x and y must have same first dimension, but have shapes (62,) and (64,)",
     "output_type": "error",
     "traceback": [
      "\u001b[0;31m---------------------------------------------------------------------------\u001b[0m",
      "\u001b[0;31mValueError\u001b[0m                                Traceback (most recent call last)",
      "\u001b[0;32m<ipython-input-166-b6ce47668779>\u001b[0m in \u001b[0;36m<module>\u001b[0;34m()\u001b[0m\n\u001b[0;32m----> 1\u001b[0;31m \u001b[0mplt\u001b[0m\u001b[0;34m.\u001b[0m\u001b[0mplot\u001b[0m\u001b[0;34m(\u001b[0m\u001b[0mmagradii\u001b[0m\u001b[0;34m,\u001b[0m \u001b[0mstar_radii\u001b[0m\u001b[0;34m,\u001b[0m \u001b[0;34m'o'\u001b[0m\u001b[0;34m)\u001b[0m\u001b[0;34m\u001b[0m\u001b[0;34m\u001b[0m\u001b[0m\n\u001b[0m",
      "\u001b[0;32m/Users/anasofiauzsoy/anaconda/lib/python3.6/site-packages/matplotlib/pyplot.py\u001b[0m in \u001b[0;36mplot\u001b[0;34m(scalex, scaley, data, *args, **kwargs)\u001b[0m\n\u001b[1;32m   2793\u001b[0m     return gca().plot(\n\u001b[1;32m   2794\u001b[0m         *args, scalex=scalex, scaley=scaley, **({\"data\": data} if data\n\u001b[0;32m-> 2795\u001b[0;31m         is not None else {}), **kwargs)\n\u001b[0m\u001b[1;32m   2796\u001b[0m \u001b[0;34m\u001b[0m\u001b[0m\n\u001b[1;32m   2797\u001b[0m \u001b[0;34m\u001b[0m\u001b[0m\n",
      "\u001b[0;32m/Users/anasofiauzsoy/anaconda/lib/python3.6/site-packages/matplotlib/axes/_axes.py\u001b[0m in \u001b[0;36mplot\u001b[0;34m(self, scalex, scaley, data, *args, **kwargs)\u001b[0m\n\u001b[1;32m   1664\u001b[0m         \"\"\"\n\u001b[1;32m   1665\u001b[0m         \u001b[0mkwargs\u001b[0m \u001b[0;34m=\u001b[0m \u001b[0mcbook\u001b[0m\u001b[0;34m.\u001b[0m\u001b[0mnormalize_kwargs\u001b[0m\u001b[0;34m(\u001b[0m\u001b[0mkwargs\u001b[0m\u001b[0;34m,\u001b[0m \u001b[0mmlines\u001b[0m\u001b[0;34m.\u001b[0m\u001b[0mLine2D\u001b[0m\u001b[0;34m.\u001b[0m\u001b[0m_alias_map\u001b[0m\u001b[0;34m)\u001b[0m\u001b[0;34m\u001b[0m\u001b[0;34m\u001b[0m\u001b[0m\n\u001b[0;32m-> 1666\u001b[0;31m         \u001b[0mlines\u001b[0m \u001b[0;34m=\u001b[0m \u001b[0;34m[\u001b[0m\u001b[0;34m*\u001b[0m\u001b[0mself\u001b[0m\u001b[0;34m.\u001b[0m\u001b[0m_get_lines\u001b[0m\u001b[0;34m(\u001b[0m\u001b[0;34m*\u001b[0m\u001b[0margs\u001b[0m\u001b[0;34m,\u001b[0m \u001b[0mdata\u001b[0m\u001b[0;34m=\u001b[0m\u001b[0mdata\u001b[0m\u001b[0;34m,\u001b[0m \u001b[0;34m**\u001b[0m\u001b[0mkwargs\u001b[0m\u001b[0;34m)\u001b[0m\u001b[0;34m]\u001b[0m\u001b[0;34m\u001b[0m\u001b[0;34m\u001b[0m\u001b[0m\n\u001b[0m\u001b[1;32m   1667\u001b[0m         \u001b[0;32mfor\u001b[0m \u001b[0mline\u001b[0m \u001b[0;32min\u001b[0m \u001b[0mlines\u001b[0m\u001b[0;34m:\u001b[0m\u001b[0;34m\u001b[0m\u001b[0;34m\u001b[0m\u001b[0m\n\u001b[1;32m   1668\u001b[0m             \u001b[0mself\u001b[0m\u001b[0;34m.\u001b[0m\u001b[0madd_line\u001b[0m\u001b[0;34m(\u001b[0m\u001b[0mline\u001b[0m\u001b[0;34m)\u001b[0m\u001b[0;34m\u001b[0m\u001b[0;34m\u001b[0m\u001b[0m\n",
      "\u001b[0;32m/Users/anasofiauzsoy/anaconda/lib/python3.6/site-packages/matplotlib/axes/_base.py\u001b[0m in \u001b[0;36m__call__\u001b[0;34m(self, *args, **kwargs)\u001b[0m\n\u001b[1;32m    223\u001b[0m                 \u001b[0mthis\u001b[0m \u001b[0;34m+=\u001b[0m \u001b[0margs\u001b[0m\u001b[0;34m[\u001b[0m\u001b[0;36m0\u001b[0m\u001b[0;34m]\u001b[0m\u001b[0;34m,\u001b[0m\u001b[0;34m\u001b[0m\u001b[0;34m\u001b[0m\u001b[0m\n\u001b[1;32m    224\u001b[0m                 \u001b[0margs\u001b[0m \u001b[0;34m=\u001b[0m \u001b[0margs\u001b[0m\u001b[0;34m[\u001b[0m\u001b[0;36m1\u001b[0m\u001b[0;34m:\u001b[0m\u001b[0;34m]\u001b[0m\u001b[0;34m\u001b[0m\u001b[0;34m\u001b[0m\u001b[0m\n\u001b[0;32m--> 225\u001b[0;31m             \u001b[0;32myield\u001b[0m \u001b[0;32mfrom\u001b[0m \u001b[0mself\u001b[0m\u001b[0;34m.\u001b[0m\u001b[0m_plot_args\u001b[0m\u001b[0;34m(\u001b[0m\u001b[0mthis\u001b[0m\u001b[0;34m,\u001b[0m \u001b[0mkwargs\u001b[0m\u001b[0;34m)\u001b[0m\u001b[0;34m\u001b[0m\u001b[0;34m\u001b[0m\u001b[0m\n\u001b[0m\u001b[1;32m    226\u001b[0m \u001b[0;34m\u001b[0m\u001b[0m\n\u001b[1;32m    227\u001b[0m     \u001b[0;32mdef\u001b[0m \u001b[0mget_next_color\u001b[0m\u001b[0;34m(\u001b[0m\u001b[0mself\u001b[0m\u001b[0;34m)\u001b[0m\u001b[0;34m:\u001b[0m\u001b[0;34m\u001b[0m\u001b[0;34m\u001b[0m\u001b[0m\n",
      "\u001b[0;32m/Users/anasofiauzsoy/anaconda/lib/python3.6/site-packages/matplotlib/axes/_base.py\u001b[0m in \u001b[0;36m_plot_args\u001b[0;34m(self, tup, kwargs)\u001b[0m\n\u001b[1;32m    389\u001b[0m             \u001b[0mx\u001b[0m\u001b[0;34m,\u001b[0m \u001b[0my\u001b[0m \u001b[0;34m=\u001b[0m \u001b[0mindex_of\u001b[0m\u001b[0;34m(\u001b[0m\u001b[0mtup\u001b[0m\u001b[0;34m[\u001b[0m\u001b[0;34m-\u001b[0m\u001b[0;36m1\u001b[0m\u001b[0;34m]\u001b[0m\u001b[0;34m)\u001b[0m\u001b[0;34m\u001b[0m\u001b[0;34m\u001b[0m\u001b[0m\n\u001b[1;32m    390\u001b[0m \u001b[0;34m\u001b[0m\u001b[0m\n\u001b[0;32m--> 391\u001b[0;31m         \u001b[0mx\u001b[0m\u001b[0;34m,\u001b[0m \u001b[0my\u001b[0m \u001b[0;34m=\u001b[0m \u001b[0mself\u001b[0m\u001b[0;34m.\u001b[0m\u001b[0m_xy_from_xy\u001b[0m\u001b[0;34m(\u001b[0m\u001b[0mx\u001b[0m\u001b[0;34m,\u001b[0m \u001b[0my\u001b[0m\u001b[0;34m)\u001b[0m\u001b[0;34m\u001b[0m\u001b[0;34m\u001b[0m\u001b[0m\n\u001b[0m\u001b[1;32m    392\u001b[0m \u001b[0;34m\u001b[0m\u001b[0m\n\u001b[1;32m    393\u001b[0m         \u001b[0;32mif\u001b[0m \u001b[0mself\u001b[0m\u001b[0;34m.\u001b[0m\u001b[0mcommand\u001b[0m \u001b[0;34m==\u001b[0m \u001b[0;34m'plot'\u001b[0m\u001b[0;34m:\u001b[0m\u001b[0;34m\u001b[0m\u001b[0;34m\u001b[0m\u001b[0m\n",
      "\u001b[0;32m/Users/anasofiauzsoy/anaconda/lib/python3.6/site-packages/matplotlib/axes/_base.py\u001b[0m in \u001b[0;36m_xy_from_xy\u001b[0;34m(self, x, y)\u001b[0m\n\u001b[1;32m    268\u001b[0m         \u001b[0;32mif\u001b[0m \u001b[0mx\u001b[0m\u001b[0;34m.\u001b[0m\u001b[0mshape\u001b[0m\u001b[0;34m[\u001b[0m\u001b[0;36m0\u001b[0m\u001b[0;34m]\u001b[0m \u001b[0;34m!=\u001b[0m \u001b[0my\u001b[0m\u001b[0;34m.\u001b[0m\u001b[0mshape\u001b[0m\u001b[0;34m[\u001b[0m\u001b[0;36m0\u001b[0m\u001b[0;34m]\u001b[0m\u001b[0;34m:\u001b[0m\u001b[0;34m\u001b[0m\u001b[0;34m\u001b[0m\u001b[0m\n\u001b[1;32m    269\u001b[0m             raise ValueError(\"x and y must have same first dimension, but \"\n\u001b[0;32m--> 270\u001b[0;31m                              \"have shapes {} and {}\".format(x.shape, y.shape))\n\u001b[0m\u001b[1;32m    271\u001b[0m         \u001b[0;32mif\u001b[0m \u001b[0mx\u001b[0m\u001b[0;34m.\u001b[0m\u001b[0mndim\u001b[0m \u001b[0;34m>\u001b[0m \u001b[0;36m2\u001b[0m \u001b[0;32mor\u001b[0m \u001b[0my\u001b[0m\u001b[0;34m.\u001b[0m\u001b[0mndim\u001b[0m \u001b[0;34m>\u001b[0m \u001b[0;36m2\u001b[0m\u001b[0;34m:\u001b[0m\u001b[0;34m\u001b[0m\u001b[0;34m\u001b[0m\u001b[0m\n\u001b[1;32m    272\u001b[0m             raise ValueError(\"x and y can be no greater than 2-D, but have \"\n",
      "\u001b[0;31mValueError\u001b[0m: x and y must have same first dimension, but have shapes (62,) and (64,)"
     ]
    }
   ],
   "source": [
    "plt.plot(magradii, star_radii, 'o')"
   ]
  },
  {
   "cell_type": "code",
   "execution_count": 41,
   "metadata": {},
   "outputs": [
    {
     "data": {
      "text/plain": [
       "62"
      ]
     },
     "execution_count": 41,
     "metadata": {},
     "output_type": "execute_result"
    }
   ],
   "source": [
    "len(magradii)"
   ]
  },
  {
   "cell_type": "code",
   "execution_count": 42,
   "metadata": {},
   "outputs": [],
   "source": [
    "a_hope = [i*j for i, j in zip(adivr, magradii)]"
   ]
  },
  {
   "cell_type": "code",
   "execution_count": 43,
   "metadata": {},
   "outputs": [
    {
     "name": "stdout",
     "output_type": "stream",
     "text": [
      "[3313469.7957913587, 2584036.317121426, 2714294.2152613997, 1772884.159940001, 2143068.1879994078, 3543767.5210273163, 2801799.4278695458, 3630484.6636752333, 1144529.225037405, 2441145.36062295, 2621737.6457685567, 2235937.443659193, 2677255.9007173027, 4120907.1268979167, 6319991.856759419, 2954889.5548668257, 2654737.4137539663, 2296263.1825336064, 2302558.7957747364, 3040407.297719784, 4138341.6071832594, 2031672.7723260163, 3075898.019511547, 2729229.8502186122, 5561909.691438591, 2189436.0060557513, 2155860.538114208, 5832289.402442471, 2608687.1633906933, 2820931.203554932, 2147080.4062184496, 2672585.9754614686, 2336192.310409733, 6722232.192411267, 3794308.6598805953, 3098016.3572701863, 1600442.7809916383, 3222482.3200247292, 3893544.505952112, 2977680.71811518, 2377906.207632494, 2566034.9218412396, 1899308.2983503554, 2774016.27310899, 2367026.1759551046, 2713272.7674144977, 3349766.080054444, 2278494.07623878, 2558266.5178632326, 3468061.23860263, 2280928.675453437, 2785569.5815232927, 2474823.19717925, 2568310.861173996, 4526431.5694433525, 2819000.8881157264, 2907463.153159022, 2795016.5341381603, 1445454.9633131241, 3421992.945103477, 2385987.0813516434, 1849302.9843809663]\n"
     ]
    }
   ],
   "source": [
    "print([i*Sunradius/1000 for i in a_hope])"
   ]
  },
  {
   "cell_type": "code",
   "execution_count": 44,
   "metadata": {},
   "outputs": [],
   "source": [
    "per = [per[i] for i in range(0,len(kepid)) if kepid[i] != 11030475]\n"
   ]
  },
  {
   "cell_type": "code",
   "execution_count": 45,
   "metadata": {},
   "outputs": [
    {
     "name": "stdout",
     "output_type": "stream",
     "text": [
      "[0.1973335, 0.48765719, 0.76669043, 0.35500753, 0.25255594, 0.74092963, 0.6364249, 0.30598391, 0.30160087, 0.97730809, 0.92831093, 0.57103885, 0.81316598, 0.89638348, 0.75445863, 0.86838702, 0.67933587, 0.62628076, 0.70862545, 0.88183821, 0.93512027, 0.675652, 0.92103467, 0.97486662, 0.82628363, 0.56785704, 0.66502914, 0.7165313, 0.76401932, 0.63400313, 0.60992303, 0.67737578, 0.63816268, 0.96896529, 0.96852469, 0.96286621, 0.35251639, 0.76985432, 0.70194345, 0.55884253, 0.69384332, 0.82715274, 0.57736948, 0.66308666, 0.68920948, 0.66407444, 0.76295078, 0.63133223, 0.92785963, 0.93846561, 0.66931017, 0.9849389, 0.8399616, 0.8374906, 0.59701811, 0.76486301, 0.52417582, 0.78916057, 0.341842, 0.93875053, 0.84338039, 0.53835457]\n"
     ]
    }
   ],
   "source": [
    "print(per)"
   ]
  },
  {
   "cell_type": "code",
   "execution_count": 46,
   "metadata": {},
   "outputs": [
    {
     "data": {
      "text/plain": [
       "62"
      ]
     },
     "execution_count": 46,
     "metadata": {},
     "output_type": "execute_result"
    }
   ],
   "source": [
    "len(per)"
   ]
  },
  {
   "cell_type": "code",
   "execution_count": null,
   "metadata": {},
   "outputs": [],
   "source": []
  }
 ],
 "metadata": {
  "kernelspec": {
   "display_name": "Python 3",
   "language": "python",
   "name": "python3"
  },
  "language_info": {
   "codemirror_mode": {
    "name": "ipython",
    "version": 3
   },
   "file_extension": ".py",
   "mimetype": "text/x-python",
   "name": "python",
   "nbconvert_exporter": "python",
   "pygments_lexer": "ipython3",
   "version": "3.6.8"
  }
 },
 "nbformat": 4,
 "nbformat_minor": 2
}
