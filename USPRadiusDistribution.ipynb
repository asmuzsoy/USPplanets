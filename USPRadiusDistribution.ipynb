{
 "cells": [
  {
   "cell_type": "code",
   "execution_count": 2,
   "metadata": {
    "collapsed": true
   },
   "outputs": [],
   "source": [
    "import numpy as np\n",
    "import csv"
   ]
  },
  {
   "cell_type": "code",
   "execution_count": 3,
   "metadata": {
    "collapsed": true
   },
   "outputs": [],
   "source": [
    "Earthradius = 6371000\n",
    "Sunradius = 695508000"
   ]
  },
  {
   "cell_type": "markdown",
   "metadata": {},
   "source": []
  },
  {
   "cell_type": "code",
   "execution_count": 4,
   "metadata": {
    "collapsed": true
   },
   "outputs": [],
   "source": [
    "kepid = []\n",
    "koi = []\n",
    "per = []\n",
    "adivr = []\n",
    "delta = []\n",
    "derror = []"
   ]
  },
  {
   "cell_type": "markdown",
   "metadata": {},
   "source": [
    "We want our planet sample to match that of Sanchis-Ojeda et al. (2014). They present 106 candidates, but their occurrence rate calculations focus on USP planets around G and K stars, that have effective temperatures between 4100 and 6100 K, log(g) between 4.0 and 4.9, and Kepler magnitudes below 16. The \"constrain\" function that I define applies these to a CSV, where I just have to enter the column numbers for each of these. The file that I open is Table 2 from  Sanchis-Ojeda et al. (2014), where we also constrain for orbital periods between 4 and 24 hours and radii between 0.84 and 4 Earth radii.\n",
    "\n",
    "For each of these planets, we record the KIC, KOI, orbital period, transit probability, and transit depth along with its uncertainty."
   ]
  },
  {
   "cell_type": "code",
   "execution_count": 5,
   "metadata": {
    "collapsed": true
   },
   "outputs": [],
   "source": [
    "def constrain(teff, logg, mkep):\n",
    "    if ((row[teff] != \"\") and (4100 < float(row[teff]) < 6100)):\n",
    "        if (((row[logg]) != \"\") and (4.0  < float(row[logg]) < 4.9)):\n",
    "            if ((row[mkep] != \"\") and (float(row[mkep]) < 16)):\n",
    "                return True"
   ]
  },
  {
   "cell_type": "code",
   "execution_count": 6,
   "metadata": {},
   "outputs": [
    {
     "name": "stdout",
     "output_type": "stream",
     "text": [
      "72\n"
     ]
    }
   ],
   "source": [
    "with open('USPCandidates.csv', encoding='latin-1') as File:\n",
    "    reader = csv.reader(File, delimiter=',')\n",
    "    rownum = 0\n",
    "    for row in reader:\n",
    "        if rownum > 0:\n",
    "            if constrain(3,6,2):\n",
    "                if ((row[12] != \"\") and (4 < (float(row[12])*24) < 24)):\n",
    "                    if ((row[23] != \"\") and (.84 < (float(row[23])) < 4)):\n",
    "                        kepid.append(int(row[0]))\n",
    "                        koi.append(int(round(float(row[1]))))\n",
    "                        per.append(float(row[12]))\n",
    "                        adivr.append(float(row[20]))\n",
    "                        delta.append(float(row[14]))\n",
    "                        derror.append(float(row[15]))\n",
    "\n",
    "        rownum += 1 \n",
    "        \n",
    "print(len(kepid))"
   ]
  },
  {
   "cell_type": "code",
   "execution_count": 7,
   "metadata": {},
   "outputs": [
    {
     "name": "stdout",
     "output_type": "stream",
     "text": [
      "63\n"
     ]
    }
   ],
   "source": [
    "falsepositives = [4929299, 10527135, 5642620, 12170648, 3834322,6750902,7269881,10186945,12115188]\n",
    "\n",
    "todelete = []\n",
    "for j in range(0,len(falsepositives)):\n",
    "    for i in range(0, len(kepid)):\n",
    "        if kepid[i] == falsepositives[j]:\n",
    "            todelete.append(i)\n",
    "            \n",
    "todelete.reverse()\n",
    "for k in todelete:\n",
    "    del kepid[k]\n",
    "    del koi[k]\n",
    "    del per[k]\n",
    "    del adivr[k]\n",
    "    del delta[k]\n",
    "    del derror[k]\n",
    "print(len(kepid))"
   ]
  },
  {
   "cell_type": "markdown",
   "metadata": {},
   "source": [
    "There are 72 planets that fit these criteria. Their paper says they use 69, so we're pretty close.\n",
    "\n",
    "Now we have to calculate the occurrence rate of USP planets. To do this, we use the formula for Signal to Noise Ratio (SNR) from Howard et al. (2012), which is as follows:\n",
    "\n",
    "\\begin{equation}\n",
    "    SNR = \\frac{\\delta}{\\sigma_{CDPP}}\\sqrt{\\frac{T_{0}t}{(6\\: hr)P_{orb}}}\n",
    "\\end{equation}\n",
    "\n",
    "We calculate the SNR for each planet/host star pair.\n",
    "\n",
    "We use the Kepler catalog to get the host star parameters, and record the Teff, log(g), and Fe/H.  "
   ]
  },
  {
   "cell_type": "code",
   "execution_count": 8,
   "metadata": {},
   "outputs": [
    {
     "name": "stdout",
     "output_type": "stream",
     "text": [
      "Total number of stars searched:  105266\n"
     ]
    }
   ],
   "source": [
    "stars1 = []\n",
    "snr = np.zeros(len(kepid))\n",
    "teff= np.zeros(len(kepid))\n",
    "logg = np.zeros(len(kepid))\n",
    "feh = np.zeros(len(kepid))\n",
    "\n",
    "with open('keplerstellar.csv') as File:\n",
    "    reader = csv.reader(File, delimiter=',')\n",
    "    rownum = 0\n",
    "    for row in reader:\n",
    "        if rownum > 0:\n",
    "            if constrain(6,8,5):\n",
    "                if \"1\" in (str(row[19])[:16]):\n",
    "                    if ((row[1]) != \"\") and \"q1_q16\" in str(row[0]):\n",
    "                        stars1.append(int(row[1])) \n",
    "                        if row[21] != \"\" and row[22] != \"\":\n",
    "                            time = float(row[21])*float(row[22])\n",
    "                            if row[23] != \"\":\n",
    "                                for i in range(len(kepid)):\n",
    "                                    if int(row[1]) == kepid[i]:\n",
    "                                        t = (per[i]*24)*(1/adivr[i])*(1/np.pi) # transit duration\n",
    "                                        snr[i] = ((delta[i]/(float(row[23])))*np.sqrt((t*time)/(per[i]*6)))\n",
    "                                        teff[i] = (float(row[6]))\n",
    "                                        logg[i] = (float(row[8]))\n",
    "                                        feh[i] = (float(row[10]))\n",
    "                                        \n",
    "        rownum += 1\n",
    "print(\"Total number of stars searched: \", len(stars1))"
   ]
  },
  {
   "cell_type": "markdown",
   "metadata": {},
   "source": [
    "The total number of stars searched matches pretty well the number reported in Sanchis-Ojeda et al. (2014).\n",
    "\n",
    "The Kepler catalog really isn't the best place to get stellar parameters, so I'm replacing the values with ones from Winn et al. (2017) that use the updated CKS parameteters. But not all of the stars I need values for are in that population, so I'll just keep the Kepler values for those."
   ]
  },
  {
   "cell_type": "code",
   "execution_count": 126,
   "metadata": {},
   "outputs": [
    {
     "name": "stdout",
     "output_type": "stream",
     "text": [
      "42\n"
     ]
    }
   ],
   "source": [
    "loggerr = np.zeros(len(kepid))\n",
    "tefferr = np.zeros(len(kepid))\n",
    "feherr = np.zeros(len(kepid))\n",
    "\n",
    "count = 0\n",
    "with open('ajaa7b7ct1_ascii.csv') as File:\n",
    "    reader = csv.reader(File, delimiter=',')\n",
    "    rownum = 0\n",
    "    for row in reader:\n",
    "        if rownum > 2:\n",
    "            for i in range(len(kepid)):\n",
    "                if int(row[0][3:]) == koi[i]:\n",
    "                    teff[i] = (float(row[1]))\n",
    "                    tefferr[i] = np.max([(float(row[3])), (float(row[2]))])\n",
    "                    logg[i] = (float(row[4]))\n",
    "                    loggerr[i] = np.max([(float(row[6])), (float(row[5]))])\n",
    "                    feh[i] = (float(row[7]))\n",
    "                    feherr[i] = np.max([(float(row[9])), (float(row[8]))])\n",
    "                    count += 1\n",
    "                elif int(row[0][3:]) == kepid[i]:\n",
    "                    teff[i] = (float(row[1]))\n",
    "                    tefferr[i] = np.max([(float(row[3])), (float(row[2]))])\n",
    "                    logg[i] = (float(row[4]))\n",
    "                    loggerr[i] = np.max([(float(row[6])), (float(row[5]))])\n",
    "                    feh[i] = (float(row[7]))\n",
    "                    feherr[i] = np.max([(float(row[9])), (float(row[8]))])\n",
    "                    count +=1\n",
    "#                 if (int(row[0][3:]) == planets[i].koi):\n",
    "#                     planets[i].Teff = (float(row[1]))\n",
    "#                     planets[i].Tefferr = [(float(row[3])), (float(row[2]))]\n",
    "#                     print(planets[i].Tefferr)\n",
    "#                     planets[i].logg = (float(row[4]))\n",
    "#                     planets[i].loggerr = [(float(row[6])), (float(row[5]))]\n",
    "#                     planets[i].feh = (float(row[7]))\n",
    "#                     planets[i].feherr = [(float(row[9])), (float(row[8]))]\n",
    "        rownum += 1\n",
    "\n",
    "print(count)"
   ]
  },
  {
   "cell_type": "code",
   "execution_count": 10,
   "metadata": {},
   "outputs": [
    {
     "name": "stdout",
     "output_type": "stream",
     "text": [
      "63\n",
      "63\n",
      "[2718885, 3112129, 4665571, 8435766, 9642018, 9825174, 10585738, 11187332, 11550689, 1717722, 3444588, 4055304, 4144576, 5040077, 5095635, 5175986, 5513012, 5942808, 5972334, 6129524, 6265792, 6294819, 6310636, 6362874, 6867588, 6934291, 6964929, 6974658, 7102227, 7605093, 7749002, 8278371, 8558011, 8895758, 8947520, 9092504, 9149789, 9221517, 9456281, 9472074, 9473078, 9580167, 10024051, 10028535, 10319385, 10468885, 10647452, 10975146, 11030475, 11401182, 11547505, 11600889, 11752632, 11870545, 11904151, 12265786, 12405333, 5773121, 5980208, 8416523, 9353742, 9475552, 9967771]\n"
     ]
    }
   ],
   "source": [
    "print(len(tefferr))\n",
    "print(len(kepid))\n",
    "print(kepid)"
   ]
  },
  {
   "cell_type": "markdown",
   "metadata": {},
   "source": [
    "One of the main new things we want to do is incorporate new Gaia parallaxes into the radius calculations. We used the gaia-kepler.fun crossmatch database created by Megan Bedell."
   ]
  },
  {
   "cell_type": "code",
   "execution_count": 11,
   "metadata": {
    "collapsed": true
   },
   "outputs": [],
   "source": [
    "from astropy.table import Table\n",
    "data = Table.read('kepler_dr2_1arcsec.fits', format='fits')"
   ]
  },
  {
   "cell_type": "code",
   "execution_count": 12,
   "metadata": {
    "collapsed": true
   },
   "outputs": [],
   "source": [
    "kepid1 = []\n",
    "parallax2 = np.zeros(len(kepid))\n",
    "perror2 = np.zeros(len(kepid))\n",
    "\n",
    "for i in range(len(data['kepid'])):\n",
    "    for j in range(len(kepid)):\n",
    "        if kepid[j] == data['kepid'][i]:\n",
    "            parallax2[j] = (data['parallax'][i])\n",
    "            perror2[j] = (data['parallax_error'][i])\n",
    "#         if (planets[j].kepid) == data['kepid'][i]:\n",
    "#             planets[j].parallax = (data['parallax'][i])\n",
    "#             planets[j].perror = (data['parallax_error'][i])"
   ]
  },
  {
   "cell_type": "code",
   "execution_count": 13,
   "metadata": {},
   "outputs": [
    {
     "name": "stdout",
     "output_type": "stream",
     "text": [
      "63\n",
      "(array([48]),)\n",
      "11030475\n",
      "63\n"
     ]
    }
   ],
   "source": [
    "parallax3 = parallax2\n",
    "print(len(parallax3))\n",
    "print(np.where(parallax3 == 0))\n",
    "#print(noparallax)\n",
    "print(kepid[48])\n",
    "print(len(kepid))\n",
    "# del kepid[noparallax]\n",
    "# del koi[noparallax]\n",
    "# del per[noparallax]\n",
    "# del teff[noparallax]\n",
    "# del tefferr[noparallax]\n",
    "# del logg[noparallax]\n",
    "# del loggerr[noparallax]\n",
    "# del feh[noparallax]\n",
    "# del feherr[noparallax]\n",
    "# del delta[noparallax]\n",
    "# del derror[noparallax]\n",
    "# del parallax2[noparallax]\n",
    "# del perror2[noparallax]\n",
    "\n",
    "# print(len(parallax2))"
   ]
  },
  {
   "cell_type": "markdown",
   "metadata": {},
   "source": [
    "We need to remove this planet becasue it doesn't have a Gaia parallax."
   ]
  },
  {
   "cell_type": "code",
   "execution_count": 14,
   "metadata": {},
   "outputs": [
    {
     "name": "stdout",
     "output_type": "stream",
     "text": [
      "63\n"
     ]
    }
   ],
   "source": [
    "koi = [koi[i] for i in range(0,len(kepid)) if kepid[i] != 11030475]\n",
    "adivr = [adivr[i] for i in range(0,len(kepid)) if kepid[i] != 11030475]\n",
    "per = [per[i] for i in range(0,len(kepid)) if kepid[i] != 11030475]\n",
    "teff = [teff[i] for i in range(0,len(kepid)) if kepid[i] != 11030475]\n",
    "logg = [logg[i] for i in range(0,len(kepid)) if kepid[i] != 11030475]\n",
    "feh = [feh[i] for i in range(0,len(kepid)) if kepid[i] != 11030475]\n",
    "tefferr = [tefferr[i] for i in range(0,len(kepid)) if kepid[i] != 11030475]\n",
    "loggerr = [loggerr[i] for i in range(0,len(kepid)) if kepid[i] != 11030475]\n",
    "feherr = [feherr[i] for i in range(0,len(kepid)) if kepid[i] != 11030475]\n",
    "delta = [delta[i] for i in range(0,len(kepid)) if kepid[i] != 11030475]\n",
    "derror = [derror[i] for i in range(0,len(kepid)) if kepid[i] != 11030475]\n",
    "parallax2 = [parallax2[i] for i in range(0,len(kepid)) if kepid[i] != 11030475]\n",
    "perror2 = [perror2[i] for i in range(0,len(kepid)) if kepid[i] != 11030475]\n",
    "kepid = [i for i in kepid if i != 11030475] # there is no Gaia parallax for this KepID.\n",
    "\n",
    "# del planets[51]\n",
    "# print(len(planets))\n",
    "#print(len(kepid4))\n",
    "print(len(parallax3))"
   ]
  },
  {
   "cell_type": "code",
   "execution_count": 15,
   "metadata": {},
   "outputs": [
    {
     "name": "stdout",
     "output_type": "stream",
     "text": [
      "62\n"
     ]
    }
   ],
   "source": [
    "print(len(parallax2))"
   ]
  },
  {
   "cell_type": "markdown",
   "metadata": {},
   "source": [
    "Now, I'm going to record the photometric band magnitudes for each of the host stars. The bands are [Kepler, j, h, k, g, r, i, z]."
   ]
  },
  {
   "cell_type": "code",
   "execution_count": 16,
   "metadata": {},
   "outputs": [
    {
     "name": "stdout",
     "output_type": "stream",
     "text": [
      "62\n"
     ]
    }
   ],
   "source": [
    "kepid2 = np.zeros(len(kepid))\n",
    "kepmag = np.zeros(len(kepid))\n",
    "jmag = np.zeros(len(kepid))\n",
    "hmag = np.zeros(len(kepid))\n",
    "kmag = np.zeros(len(kepid))\n",
    "gmag = np.zeros(len(kepid))\n",
    "rmag = np.zeros(len(kepid))\n",
    "imag = np.zeros(len(kepid))\n",
    "zmag = np.zeros(len(kepid))\n",
    "\n",
    "with open('kepler_search.csv') as File:\n",
    "    reader = csv.reader(File, delimiter=',')\n",
    "    rownum = 0\n",
    "    for row in reader:\n",
    "        if rownum > 1:\n",
    "            if (int(row[0]) in kepid) and ((int(row[0]) in kepid2) == False):\n",
    "                for i in range(len(kepid)):\n",
    "                    if int(row[0]) == kepid[i]:\n",
    "                        kepid2[i] = int(row[0])\n",
    "                        kepmag[i] = float(row[37])\n",
    "                        jmag[i] = float(row[34])\n",
    "                        hmag[i] = float(row[35])\n",
    "                        kmag[i] = float(row[36])\n",
    "                        gmag[i] = float(row[30])\n",
    "                        rmag[i] = float(row[31])\n",
    "                        imag[i] = float(row[32])\n",
    "                        zmag[i] = float(row[33])\n",
    "#                     if int(row[0]) == planets[i].kepid:\n",
    "#                         planets[i].photoarray = [float(row[37]), float(row[34]), float(row[35]), float(row[36]),\n",
    "#                                                   float(row[30]), float(row[31]), float(row[32]), float(row[33])]\n",
    "        rownum += 1\n",
    "print(len(kepid2))"
   ]
  },
  {
   "cell_type": "code",
   "execution_count": 17,
   "metadata": {},
   "outputs": [
    {
     "name": "stdout",
     "output_type": "stream",
     "text": [
      "64.0\n",
      "4776.0\n",
      "4.6\n",
      "0.03\n",
      "-0.11\n",
      "0.04\n",
      "11401182\n",
      "0.017492997737671497\n"
     ]
    }
   ],
   "source": [
    "# for i in range(0,len(planets)):\n",
    "#     if planets[i].photoarray == 'none':\n",
    "#         print(planets[i].kepid)\n",
    "        \n",
    "# for i in range(0,len(planets)):\n",
    "#     if planets[i].Tefferr == ['none', 'none']:\n",
    "#         print(i)\n",
    "print(tefferr[48])\n",
    "print(teff[48])\n",
    "print(logg[48])\n",
    "print(loggerr[48])\n",
    "print(feh[48])\n",
    "print(feherr[48])\n",
    "print(kepid[48])\n",
    "print(perror2[48])"
   ]
  },
  {
   "cell_type": "markdown",
   "metadata": {},
   "source": [
    "All of the stars have recorded photometric band magnitudes. Now we're going to use the isochrones package to interpolate the stellar host radii based on these band magnitudes, as well as log(g), Teff, and Fe/H."
   ]
  },
  {
   "cell_type": "code",
   "execution_count": 18,
   "metadata": {
    "collapsed": true
   },
   "outputs": [],
   "source": [
    "from isochrones import StarModel\n",
    "from isochrones.mist import MIST_Isochrone\n",
    "\n",
    "bands = ['J','H','K','Kepler','g','r','i','z']\n",
    "mist = MIST_Isochrone(bands = bands)\n",
    "magradii = []\n",
    "sigma = []\n",
    "radarray = []\n",
    "deltaarray = []\n",
    "num_samples = 1000\n"
   ]
  },
  {
   "cell_type": "code",
   "execution_count": 19,
   "metadata": {},
   "outputs": [
    {
     "name": "stderr",
     "output_type": "stream",
     "text": [
      "/Users/anasofiauzsoy/anaconda/lib/python3.6/site-packages/isochrones/mist/grid.py:195: DtypeWarning: Columns (8) have mixed types. Specify dtype option on import or set low_memory=False.\n",
      "  df = super(MISTModelGrid, self).df_all(phot)\n",
      "/Users/anasofiauzsoy/anaconda/lib/python3.6/site-packages/pandas/core/generic.py:1282: PerformanceWarning: \n",
      "your performance may suffer as PyTables will pickle object types that it cannot\n",
      "map directly to c-types [inferred_type->mixed,key->block2_values] [items->['[Fe/H]']]\n",
      "\n",
      "  return pytables.to_hdf(path_or_buf, key, self, **kwargs)\n"
     ]
    },
    {
     "name": "stdout",
     "output_type": "stream",
     "text": [
      "0\n",
      "1\n",
      "2\n",
      "3\n",
      "4\n",
      "5\n",
      "6\n",
      "7\n",
      "8\n",
      "9\n",
      "10\n",
      "11\n",
      "12\n",
      "13\n",
      "14\n",
      "15\n",
      "16\n",
      "17\n",
      "18\n",
      "19\n",
      "20\n",
      "21\n",
      "22\n",
      "23\n",
      "24\n",
      "25\n",
      "26\n",
      "27\n",
      "28\n",
      "29\n",
      "30\n",
      "31\n",
      "32\n",
      "33\n",
      "34\n",
      "35\n",
      "36\n",
      "37\n",
      "38\n",
      "39\n",
      "40\n",
      "41\n",
      "42\n",
      "43\n",
      "44\n",
      "45\n",
      "46\n",
      "47\n",
      "48\n",
      "49\n",
      "50\n",
      "51\n",
      "52\n",
      "53\n",
      "54\n",
      "55\n",
      "56\n",
      "57\n",
      "58\n",
      "59\n",
      "60\n",
      "61\n"
     ]
    }
   ],
   "source": [
    "file = open('PhotometryPlanetRadiiSamplesRedo3.csv', 'w')\n",
    "with file:\n",
    "    writer = csv.writer(file)\n",
    "    for i in range(0, len(kepid2)):\n",
    "        radiisamples = []\n",
    "        mags = {'J':(jmag[i],0.05),'H':(hmag[i],0.05),'K':(kmag[i],0.05), 'Kepler':(kepmag[i],0.05), 'g':(gmag[i],0.05), 'r':(rmag[i],0.05), 'i':(imag[i],0.05), 'z':(zmag[i],0.05)}\n",
    "#         mags = {'J':(planets[i].photoarray[1],0.05),'H':(planets[i].photoarray[2],0.05),'K':(planets[i].photoarray[3],0.05), \n",
    "#                 'Kepler':(planets[i].photoarray[0],0.05), 'g':(planets[i].photoarray[4],0.05), 'r':(planets[i].photoarray[5],0.05), \n",
    "#                 'i':(planets[i].photoarray[6],0.05), 'z':(planets[i].photoarray[7],0.05)}\n",
    "#         if (planets[i].Tefferr != ['none', 'none']):\n",
    "#             model = StarModel(mist, logg = (planets[i].logg,planets[i].loggerr[0]), teff = (planets[i].Teff, planets[i].Tefferr[0]),feh = (planets[i].feh,planets[i].feherr[0]), parallax = (planets[i].parallax,planets[i].perror), **mags)\n",
    "#         else:\n",
    "        if (tefferr[i] != 0):\n",
    "            try:\n",
    "                model = StarModel(mist, logg = (logg[i],loggerr[i]), teff = (teff[i], tefferr[i]),feh = (feh[i],feherr[i]), parallax = (parallax2[i],perror2[i]), **mags)\n",
    "            except:\n",
    "                model = StarModel(mist, parallax = (parallax2[i], perror2[i]), **mags)    \n",
    "        else:\n",
    "            model = StarModel(mist, parallax = (parallax2[i], perror2[i]), **mags)\n",
    "        StarModel.fit_multinest(model,n_live_points=1000, basename=None, verbose=False, refit=True, overwrite=True,test=False)\n",
    "        magradii.append(model.samples.radius_0_0.quantile(0.5))\n",
    "        ##planets[i].starrad = model.samples.radius_0_0.quantile(0.5)\n",
    "        sigma.append(np.std(model.samples.radius_0_0))\n",
    "        ##planets[i].starraderr = np.std(model.samples.radius_0_0)\n",
    "        radarray = np.random.choice(model.samples.radius_0_0, num_samples) ## star radii\n",
    "        deltaarray = np.random.normal(delta[i],derror[i], num_samples)\n",
    "        for j in range(len(radarray)):\n",
    "            if deltaarray[j] > 0:\n",
    "                radiisamples.append((radarray[j]*Sunradius*np.sqrt(deltaarray[j]/1000000))/Earthradius)\n",
    "            else:\n",
    "                radiisamples.append(\"nan\")\n",
    "        row = [kepid[i],radiisamples]\n",
    "        writer.writerow(row)\n",
    "        print(i)"
   ]
  },
  {
   "cell_type": "code",
   "execution_count": 21,
   "metadata": {},
   "outputs": [
    {
     "name": "stdout",
     "output_type": "stream",
     "text": [
      "[1.387373716870215, 1.0135253459822355, 0.739432119544386, 0.7564897951396262, 0.8246999563883788, 0.9168155075921224, 0.8934153074137391, 0.9623183173957472, 0.6450452595447351, 0.6720300001688753, 0.660655858286032, 0.807053348085492, 0.8611297710084194, 0.9567995785500585, 0.9967873365694422, 0.6631658748165565, 0.8818709550450534, 0.7860188162945991, 0.9404146240520105, 0.8239508236128525, 1.3022561707678568, 1.0843723315513705, 1.6450071849971197, 0.8548986548623863, 1.240451384715798, 0.7370958384151901, 1.057794804142296, 0.8729704784681387, 0.7271477435000413, 0.7752832853963543, 0.8460002313883159, 1.4204200508035245, 0.8440936524403763, 2.059317628999751, 0.9606919750376548, 0.9780481523849354, 0.8334816097896932, 0.8029600603521854, 0.6452121697711889, 0.8035612965998274, 0.9849754281925411, 0.7572236422689174, 0.69352225074569, 0.8769840095566814, 1.0564884827871606, 0.8376189174587512, 0.8253357615952125, 0.7563509371303392, 0.7112465733232384, 0.9185388849234104, 1.0507615153396008, 1.090971090597733, 0.6977893846940111, 1.0584324050886746, 0.7732597642500905, 0.8026507521597162, 0.839454555586558, 0.6271082831133906, 0.7640030461112347, 0.9555472150387453, 0.7485713128620656, 0.9741784865077142]\n"
     ]
    }
   ],
   "source": [
    "print(magradii)"
   ]
  },
  {
   "cell_type": "code",
   "execution_count": 22,
   "metadata": {},
   "outputs": [
    {
     "name": "stdout",
     "output_type": "stream",
     "text": [
      "62\n"
     ]
    }
   ],
   "source": [
    "print(len(magradii))"
   ]
  },
  {
   "cell_type": "code",
   "execution_count": 23,
   "metadata": {},
   "outputs": [
    {
     "name": "stdout",
     "output_type": "stream",
     "text": [
      "[0.04744346606047626, 0.021359065916460713, 0.011807132338271874, 0.009071596950900023, 0.0169513841790806, 0.03785052438584266, 0.025485393297277465, 0.024975289698498992, 0.009414443599245663, 0.01556762992651932, 0.013577933210726497, 0.011378301783748776, 0.012434513459405737, 0.018162662880644685, 0.020469662023230046, 0.01676098031515562, 0.015394287586414578, 0.014025286416231174, 0.0225563871003496, 0.032281680457055935, 0.028937880823274666, 0.07707778804041719, 0.05209744609904106, 0.01375228234587717, 0.03531658697980505, 0.010054724327787288, 0.027024897770568282, 0.016425658347041915, 0.012453204791252679, 0.02161863189804365, 0.026960288281592828, 0.15456012171312433, 0.013216209345831583, 0.3288952797897504, 0.025474263081009658, 0.04425996931727445, 0.015581128034324149, 0.010825536500074628, 0.010546233575632055, 0.02376073654525616, 0.015924871705337493, 0.014030404256167047, 0.009618280508543997, 0.02066202314078745, 0.01725962951288602, 0.022523419598539048, 0.019460919740816048, 0.02176875968835182, 0.00872912241233348, 0.015481334267091421, 0.017495192279603142, 0.021276895851700197, 0.01867643456666821, 0.01656454839766588, 0.018400350447345185, 0.012223414636114358, 0.014587672324298978, 0.009833847740458344, 0.010146704805997837, 0.020764296448718387, 0.01017497047845752, 0.019328739489874642]\n"
     ]
    }
   ],
   "source": [
    "print(sigma)"
   ]
  },
  {
   "cell_type": "code",
   "execution_count": 25,
   "metadata": {},
   "outputs": [
    {
     "name": "stdout",
     "output_type": "stream",
     "text": [
      "0.3288952797897504\n"
     ]
    }
   ],
   "source": [
    "print(np.max(sigma))"
   ]
  },
  {
   "cell_type": "code",
   "execution_count": 26,
   "metadata": {},
   "outputs": [
    {
     "name": "stdout",
     "output_type": "stream",
     "text": [
      "[2718885, 3112129, 4665571, 8435766, 9642018, 9825174, 10585738, 11187332, 11550689, 1717722, 3444588, 4055304, 4144576, 5040077, 5095635, 5175986, 5513012, 5942808, 5972334, 6129524, 6265792, 6294819, 6310636, 6362874, 6867588, 6934291, 6964929, 6974658, 7102227, 7605093, 7749002, 8278371, 8558011, 8895758, 8947520, 9092504, 9149789, 9221517, 9456281, 9472074, 9473078, 9580167, 10024051, 10028535, 10319385, 10468885, 10647452, 10975146, 11401182, 11547505, 11600889, 11752632, 11870545, 11904151, 12265786, 12405333, 5773121, 5980208, 8416523, 9353742, 9475552, 9967771]\n"
     ]
    }
   ],
   "source": [
    "print(kepid)"
   ]
  },
  {
   "cell_type": "code",
   "execution_count": 27,
   "metadata": {},
   "outputs": [
    {
     "name": "stdout",
     "output_type": "stream",
     "text": [
      "[0, 4144, 2393, 0, 4430, 2880, 3032, 0, 0, 3145, 1202, 2119, 2202, 3065, 2607, 2708, 2668, 2250, 191, 2886, 2753, 2852, 1688, 1128, 2571, 1367, 2756, 2925, 1360, 2817, 4325, 1150, 577, 3106, 2517, 2716, 2874, 2281, 4207, 2735, 2079, 2548, 2409, 2493, 1169, 2589, 4366, 1300, 1428, 1655, 1442, 2492, 1510, 72, 4595, 3009, 4002, 2742, 4441, 3867, 2694, 1875]\n"
     ]
    }
   ],
   "source": [
    "print(koi)"
   ]
  },
  {
   "cell_type": "markdown",
   "metadata": {},
   "source": [
    "Here I'm going to begin re-creating Figure 1, a comparison of my calculated stellar radii to those of Fulton & Petigure (2018)."
   ]
  },
  {
   "cell_type": "code",
   "execution_count": 64,
   "metadata": {},
   "outputs": [],
   "source": [
    "CKSkoi = []\n",
    "CKSstarrad = []\n",
    "CKSerr_up = []\n",
    "CKSerr_down = []\n",
    "\n",
    "with open('UpdateFultonPetigura18.csv') as File:\n",
    "    reader = csv.reader(File, delimiter=',')\n",
    "    for row in reader:\n",
    "        r = int(row[0][2:])\n",
    "        if (r in koi):\n",
    "            CKSkoi.append(r)\n",
    "            CKSstarrad.append(float(row[11]))\n",
    "            CKSerr_up.append(float(row[12]))\n",
    "            CKSerr_down.append(float(row[13]))"
   ]
  },
  {
   "cell_type": "code",
   "execution_count": 65,
   "metadata": {},
   "outputs": [
    {
     "data": {
      "text/plain": [
       "39"
      ]
     },
     "execution_count": 65,
     "metadata": {},
     "output_type": "execute_result"
    }
   ],
   "source": [
    "len(CKSerr_down)"
   ]
  },
  {
   "cell_type": "code",
   "execution_count": 66,
   "metadata": {},
   "outputs": [],
   "source": [
    "compare_star_radii = np.zeros(len(CKSkoi))\n",
    "compare_sigmas = np.zeros(len(CKSkoi))\n",
    "\n",
    "for i in range(len(koi)):\n",
    "    for j in range(len(CKSkoi)):\n",
    "        if (koi[i]) == CKSkoi[j]:\n",
    "            compare_star_radii[j] = magradii[i]\n",
    "            compare_sigmas[j] = sigma[i]"
   ]
  },
  {
   "cell_type": "code",
   "execution_count": 169,
   "metadata": {},
   "outputs": [
    {
     "data": {
      "image/png": "[encoded data removed]",
      "text/plain": [
       "<matplotlib.figure.Figure at 0x13fe071d0>"
      ]
     },
     "metadata": {},
     "output_type": "display_data"
    }
   ],
   "source": [
    "import matplotlib.pyplot as plt\n",
    "\n",
    "myblue = (0, .45, .70)\n",
    "mygold = (.9, .6, 0)\n",
    "\n",
    "\n",
    "x = np.linspace(0.6, 1.75, 50)\n",
    "plt.plot(compare_star_radii, CKSstarrad, 'o', color = myblue, markersize = 8)\n",
    "plt.plot(x,x, lw = 2.5, color = mygold)\n",
    "plt.errorbar(compare_star_radii, CKSstarrad, xerr = compare_sigmas, yerr = [CKSerr_down, CKSerr_up], ls = 'None', ecolor = 'k')\n",
    "plt.ylabel('Derived stellar radii ($R_{\\odot}$)', fontsize = 'x-large')\n",
    "plt.xlabel('Stellar radii from Fulton & Petigura (2018) ($R_{\\odot}$)', fontsize = 'x-large')\n",
    "plt.xticks(fontsize = 'large')\n",
    "plt.yticks(fontsize = 'large')\n",
    "plt.show()"
   ]
  },
  {
   "cell_type": "markdown",
   "metadata": {},
   "source": [
    "Now for Figure 2: Comparing stellar host radii to those used in Sanchis-Ojeda et al. (2014)"
   ]
  },
  {
   "cell_type": "code",
   "execution_count": 170,
   "metadata": {},
   "outputs": [],
   "source": [
    "SO_radii = np.zeros(len(kepid))\n",
    "SO_errup = np.zeros(len(kepid))\n",
    "SO_errdown = np.zeros(len(kepid))\n",
    "\n",
    "with open('USPCandidates.csv', encoding='latin-1') as File:\n",
    "    reader = csv.reader(File, delimiter=',')\n",
    "    rownum = 0\n",
    "    for row in reader:\n",
    "        if rownum > 0:\n",
    "             if row[24] != \"\":\n",
    "                for i in range(len(kepid)):\n",
    "                     if int(row[0]) == kepid[i]:\n",
    "                        SO_radii[i] = (float(row[9]))\n",
    "                        SO_errup[i] = (float(row[10]))\n",
    "                        SO_errdown[i] = (float(row[11]))\n",
    "        rownum += 1"
   ]
  },
  {
   "cell_type": "markdown",
   "metadata": {},
   "source": [
    "I'm going to identify the planets that had CKS spectroscopic data vs. the ones that didn't. The ones that didn't don't have an actual error for Teff."
   ]
  },
  {
   "cell_type": "code",
   "execution_count": 171,
   "metadata": {},
   "outputs": [
    {
     "name": "stdout",
     "output_type": "stream",
     "text": [
      "20\n",
      "42\n"
     ]
    }
   ],
   "source": [
    "noCKSkepid = []\n",
    "\n",
    "for i in range(len(tefferr)):\n",
    "    if tefferr[i] == 0:\n",
    "        noCKSkepid.append(kepid[i])\n",
    "\n",
    "noCKSkepidrad = [magradii[kepid.index(i)] for i in noCKSkepid]\n",
    "radiibuds = [SO_radii[kepid.index(i)] for i in noCKSkepid] ## corresponding radii\n",
    "\n",
    "otherrad = [magradii[kepid.index(i)] for i in kepid if i not in noCKSkepid]\n",
    "radiibuds2 = [SO_radii[kepid.index(i)] for i in kepid if i not in noCKSkepid]\n",
    "\n",
    "print(len(noCKSkepid))\n",
    "print(len(otherrad))"
   ]
  },
  {
   "cell_type": "code",
   "execution_count": 185,
   "metadata": {},
   "outputs": [
    {
     "data": {
      "image/png": "[encoded data removed]",
      "text/plain": [
       "<matplotlib.figure.Figure at 0x132632c18>"
      ]
     },
     "metadata": {},
     "output_type": "display_data"
    }
   ],
   "source": [
    "y = np.linspace(0.5, 2.5, 50)\n",
    "\n",
    "plt.plot(radiibuds,noCKSkepidrad, 'o', color = myblue)\n",
    "plt.plot(radiibuds2, otherrad, 'o', color = (0.8, 0.4, 0))\n",
    "plt.errorbar(SO_radii, magradii, yerr = sigma, xerr = [SO_errdown, SO_errup], ls = 'None', color = 'k')\n",
    "plt.plot(y,y, color = mygold)\n",
    "plt.xlabel(\"Stellar radii from SO-14 ($R_{\\odot}$)\", fontsize = 'x-large')\n",
    "plt.ylabel('Derived stellar radii ($R_{\\odot}$)', fontsize = 'x-large')\n",
    "plt.xticks(fontsize = 'large')\n",
    "plt.yticks(fontsize = 'large')\n",
    "plt.show()"
   ]
  },
  {
   "cell_type": "code",
   "execution_count": 174,
   "metadata": {},
   "outputs": [
    {
     "data": {
      "text/plain": [
       "array([0.35, 0.48, 0.09, 0.06, 0.19, 0.36, 0.28, 0.35, 0.05, 0.07, 0.11,\n",
       "       0.24, 0.2 , 0.37, 0.33, 0.07, 0.31, 0.69, 0.37, 0.22, 0.45, 0.41,\n",
       "       0.38, 0.12, 0.17, 0.12, 0.34, 0.38, 0.14, 0.16, 0.42, 0.19, 0.68,\n",
       "       0.47, 0.41, 0.34, 0.23, 0.19, 0.04, 0.14, 0.42, 0.09, 0.15, 0.15,\n",
       "       0.15, 0.17, 0.23, 0.04, 0.11, 0.39, 0.21, 0.36, 0.08, 0.02, 0.09,\n",
       "       0.3 , 0.3 , 0.04, 0.11, 0.38, 1.9 , 0.37])"
      ]
     },
     "execution_count": 174,
     "metadata": {},
     "output_type": "execute_result"
    }
   ],
   "source": [
    "SO_errup"
   ]
  },
  {
   "cell_type": "code",
   "execution_count": 175,
   "metadata": {},
   "outputs": [
    {
     "data": {
      "text/plain": [
       "1.9"
      ]
     },
     "execution_count": 175,
     "metadata": {},
     "output_type": "execute_result"
    }
   ],
   "source": [
    "np.max(SO_errup)"
   ]
  },
  {
   "cell_type": "markdown",
   "metadata": {},
   "source": [
    "This is a strange value in the Sanchis-Ojeda data, but I checked and it's really there."
   ]
  },
  {
   "cell_type": "code",
   "execution_count": null,
   "metadata": {
    "collapsed": true
   },
   "outputs": [],
   "source": []
  }
 ],
 "metadata": {
  "kernelspec": {
   "display_name": "Python 3",
   "language": "python",
   "name": "python3"
  },
  "language_info": {
   "codemirror_mode": {
    "name": "ipython",
    "version": 3
   },
   "file_extension": ".py",
   "mimetype": "text/x-python",
   "name": "python",
   "nbconvert_exporter": "python",
   "pygments_lexer": "ipython3",
   "version": "3.6.8"
  }
 },
 "nbformat": 4,
 "nbformat_minor": 2
}
