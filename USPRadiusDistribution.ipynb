{
 "cells": [
  {
   "cell_type": "code",
   "execution_count": 114,
   "metadata": {
    "collapsed": true
   },
   "outputs": [],
   "source": [
    "import numpy as np\n",
    "import csv\n",
    "import matplotlib.pyplot as plt"
   ]
  },
  {
   "cell_type": "code",
   "execution_count": 115,
   "metadata": {
    "collapsed": true
   },
   "outputs": [],
   "source": [
    "Earthradius = 6371000\n",
    "Sunradius = 695508000"
   ]
  },
  {
   "cell_type": "code",
   "execution_count": 116,
   "metadata": {
    "collapsed": true
   },
   "outputs": [],
   "source": [
    "kepid = []\n",
    "koi = []\n",
    "per = []\n",
    "adivr = []\n",
    "delta = []\n",
    "derror = []"
   ]
  },
  {
   "cell_type": "markdown",
   "metadata": {},
   "source": [
    "We want our planet sample to match that of Sanchis-Ojeda et al. (2014). They present 106 candidates, but their occurrence rate calculations focus on USP planets around G and K stars, that have effective temperatures between 4100 and 6100 K, log(g) between 4.0 and 4.9, and Kepler magnitudes below 16. The \"constrain\" function that I define applies these to a CSV, where I just have to enter the column numbers for each of these. The file that I open is Table 2 from  Sanchis-Ojeda et al. (2014), where we also constrain for orbital periods between 4 and 24 hours and radii between 0.84 and 4 Earth radii.\n",
    "\n",
    "For each of these planets, we record the KIC, KOI, orbital period, transit probability, and transit depth along with its uncertainty."
   ]
  },
  {
   "cell_type": "code",
   "execution_count": 117,
   "metadata": {
    "collapsed": true
   },
   "outputs": [],
   "source": [
    "def constrain(teff, logg, mkep):\n",
    "    if ((row[teff] != \"\") and (4100 < float(row[teff]) < 6100)):\n",
    "        if (((row[logg]) != \"\") and (4.0  < float(row[logg]) < 4.9)):\n",
    "            if ((row[mkep] != \"\") and (float(row[mkep]) < 16)):\n",
    "                return True"
   ]
  },
  {
   "cell_type": "code",
   "execution_count": 118,
   "metadata": {},
   "outputs": [
    {
     "name": "stdout",
     "output_type": "stream",
     "text": [
      "72\n"
     ]
    }
   ],
   "source": [
    "with open('USPCandidates.csv', encoding='latin-1') as File:\n",
    "    reader = csv.reader(File, delimiter=',')\n",
    "    rownum = 0\n",
    "    for row in reader:\n",
    "        if rownum > 0:\n",
    "            if constrain(3,6,2):\n",
    "                if ((row[12] != \"\") and (4 < (float(row[12])*24) < 24)):\n",
    "                    if ((row[23] != \"\") and (.84 < (float(row[23])) < 4)):\n",
    "                        kepid.append(int(row[0]))\n",
    "                        koi.append(int(round(float(row[1]))))\n",
    "                        per.append(float(row[12]))\n",
    "                        adivr.append(float(row[20]))\n",
    "                        delta.append(float(row[14]))\n",
    "                        derror.append(float(row[15]))\n",
    "\n",
    "        rownum += 1 \n",
    "        \n",
    "print(len(kepid))"
   ]
  },
  {
   "cell_type": "code",
   "execution_count": 119,
   "metadata": {},
   "outputs": [
    {
     "name": "stdout",
     "output_type": "stream",
     "text": [
      "63\n"
     ]
    }
   ],
   "source": [
    "falsepositives = [4929299, 10527135, 5642620, 12170648, 3834322,6750902,7269881,10186945,12115188]\n",
    "\n",
    "todelete = []\n",
    "for j in range(0,len(falsepositives)):\n",
    "    for i in range(0, len(kepid)):\n",
    "        if kepid[i] == falsepositives[j]:\n",
    "            todelete.append(i)\n",
    "            \n",
    "todelete.reverse()\n",
    "for k in todelete:\n",
    "    del kepid[k]\n",
    "    del koi[k]\n",
    "    del per[k]\n",
    "    del adivr[k]\n",
    "    del delta[k]\n",
    "    del derror[k]\n",
    "print(len(kepid))"
   ]
  },
  {
   "cell_type": "code",
   "execution_count": 120,
   "metadata": {},
   "outputs": [
    {
     "data": {
      "text/plain": [
       "2718885"
      ]
     },
     "execution_count": 120,
     "metadata": {},
     "output_type": "execute_result"
    }
   ],
   "source": [
    "kepid[0]"
   ]
  },
  {
   "cell_type": "markdown",
   "metadata": {},
   "source": [
    "There are 72 planets that fit these criteria. Their paper says they use 69, so we're pretty close.\n",
    "\n",
    "Now we have to calculate the occurrence rate of USP planets. To do this, we use the formula for Signal to Noise Ratio (SNR) from Howard et al. (2012), which is as follows:\n",
    "\n",
    "\\begin{equation}\n",
    "    SNR = \\frac{\\delta}{\\sigma_{CDPP}}\\sqrt{\\frac{T_{0}t}{(6\\: hr)P_{orb}}}\n",
    "\\end{equation}\n",
    "\n",
    "We calculate the SNR for each planet/host star pair.\n",
    "\n",
    "We use the Kepler catalog to get the host star parameters, and record the Teff, log(g), and Fe/H.  "
   ]
  },
  {
   "cell_type": "code",
   "execution_count": 121,
   "metadata": {},
   "outputs": [
    {
     "name": "stdout",
     "output_type": "stream",
     "text": [
      "['KIC', 'iso_mass', 'iso_mass_err1', 'iso_mass_err2', 'iso_teff', 'iso_teff_err1', 'iso_teff_err2', 'iso_logg', 'iso_logg_err1', 'iso_logg_err2', 'iso_feh', 'iso_feh_err1', 'iso_feh_err2', 'iso_rad', 'iso_rad_err1', 'iso_rad_err2', 'iso_rho', 'iso_rho_err1', 'iso_rho_err2', 'iso_lum', 'iso_lum_err1', 'iso_lum_err2', 'iso_age', 'unReAgeFlag', 'iso_age_err1', 'iso_age_err2', 'iso_dis', 'iso_dis_err1', 'iso_dis_err2', 'iso_avs', 'iso_gof', 'TAMS\\\\\\\\']\n"
     ]
    }
   ],
   "source": [
    "## using berger catalog to get radii and masses\n",
    "\n",
    "berger_kic = []\n",
    "berger_radii = []\n",
    "berger_rho = []\n",
    "berger_masses = []\n",
    "berger_errup = []\n",
    "berger_errdown = []\n",
    "\n",
    "import csv\n",
    "\n",
    "with open('GKSPCPapTable2_Final.txt') as csv_file:\n",
    "    read = csv.reader(csv_file, delimiter = '&')\n",
    "    line_count = 0\n",
    "    for row in read:\n",
    "        if line_count == 0:\n",
    "            print(row)\n",
    "        else:\n",
    "            berger_kic.append(int(row[0]))\n",
    "            berger_masses.append(float(row[1]))\n",
    "            berger_errup.append(float(row[2]))\n",
    "            berger_errdown.append(float(row[3]))\n",
    "            berger_radii.append(float(row[13]))\n",
    "            berger_rho.append(float(row[16]))\n",
    "        line_count += 1"
   ]
  },
  {
   "cell_type": "code",
   "execution_count": 122,
   "metadata": {},
   "outputs": [],
   "source": [
    "def T(kic, per):\n",
    "    per_years = per / 365\n",
    "    mass = berger_masses[berger_kic.index(kic)]\n",
    "    rad = berger_radii[berger_kic.index(kic)]\n",
    "    return 13 * (per_years**(1/3)) * rad * (mass**(-1/3))"
   ]
  },
  {
   "cell_type": "code",
   "execution_count": 128,
   "metadata": {},
   "outputs": [
    {
     "name": "stdout",
     "output_type": "stream",
     "text": [
      "['KIC', 'source_id', 'teff', 'teffe', 'dis', 'disep', 'disem', 'rad', 'radep', 'radem', 'avs', 'evState', 'binaryFlag\\\\\\\\']\n"
     ]
    }
   ],
   "source": [
    "old_berger_kic = []\n",
    "with open('DR2PapTable1.txt') as csv_file:\n",
    "    read = csv.reader(csv_file, delimiter = '&')\n",
    "    line_count = 0\n",
    "    for row in read:\n",
    "        if line_count == 0:\n",
    "            print(row)\n",
    "        else:\n",
    "            old_berger_kic.append(int(row[0]))\n",
    "#             berger_masses.append(float(row[1]))\n",
    "#             berger_errup.append(float(row[2]))\n",
    "#             berger_errdown.append(float(row[3]))\n",
    "#             berger_radii.append(float(row[13]))\n",
    "#             berger_rho.append(float(row[16]))\n",
    "        line_count += 1"
   ]
  },
  {
   "cell_type": "code",
   "execution_count": 130,
   "metadata": {},
   "outputs": [
    {
     "name": "stdout",
     "output_type": "stream",
     "text": [
      "9825174\n",
      "8278371\n",
      "8895758\n",
      "10975146\n",
      "11030475\n",
      "9967771\n"
     ]
    }
   ],
   "source": [
    "for i in kepid:\n",
    "    if i not in old_berger_kic:\n",
    "        print(i)"
   ]
  },
  {
   "cell_type": "code",
   "execution_count": 131,
   "metadata": {},
   "outputs": [
    {
     "data": {
      "image/png": "[encoded data removed]",
      "text/plain": [
       "<Figure size 432x288 with 1 Axes>"
      ]
     },
     "metadata": {
      "needs_background": "light"
     },
     "output_type": "display_data"
    },
    {
     "name": "stdout",
     "output_type": "stream",
     "text": [
      "1.8326544798203341 9.656002130909627 4.061402030356385 0.9765401508228847\n",
      "Power_divergenceResult(statistic=0.10726864454939301, pvalue=1.0)\n",
      "0.025607780521583547\n"
     ]
    }
   ],
   "source": [
    "from scipy.optimize import curve_fit\n",
    "from scipy import stats\n",
    "\n",
    "snr = []\n",
    "prob = []   \n",
    "\n",
    "with open('SNRProb.csv') as File:\n",
    "     reader = csv.reader(File, delimiter=',')\n",
    "     rownum = 0\n",
    "     for row in reader:\n",
    "         if rownum > 5:\n",
    "             snr.append(float(row[0]))\n",
    "             prob.append(float(row[1]))\n",
    "         rownum += 1\n",
    "         \n",
    "\n",
    "def Logistic(x,a,b,c,d):\n",
    "    return (((a-d)/(1+(x/c)**b)) + d)\n",
    "\n",
    "pguess = [0,10,10,1]\n",
    "par, con = curve_fit(Logistic, snr, prob, p0=pguess)\n",
    "a  = par[0]\n",
    "b = par[1]\n",
    "c = par[2]\n",
    "d = par[3]\n",
    "logisticfit = Logistic(snr,0,b,c,d)  \n",
    "\n",
    "\n",
    "def Gamma(x,a,b,c,d):\n",
    "    return d*stats.gamma.cdf(x,a,b,c)\n",
    "\n",
    "pguess2 = [2,5,3,0.95]\n",
    "par2, con2 = curve_fit(Gamma,snr,prob,p0=pguess2)\n",
    "a2  = par2[0]\n",
    "b2 = par2[1]\n",
    "c2 = par2[2]\n",
    "d2 = par2[3]\n",
    "gammafit = Gamma(snr,a2,b2,c2,d2)\n",
    "\n",
    "plt.plot(snr, prob,'o', color = 'tab:blue')\n",
    "#plt.plot(snr, logisticfit,color = (0.9, 0.2, 0), label = 'Logistic fit', linewidth  = 3)\n",
    "plt.plot(snr,gammafit,color = (0.9, 0.2, 0), linewidth = 3)\n",
    "plt.xlabel('Signal-to-noise ratio', fontsize = 'x-large')\n",
    "plt.ylabel('Planet detection probability', fontsize = 'x-large')\n",
    "plt.xticks(fontsize = 14)\n",
    "plt.yticks(fontsize = 14)\n",
    "plt.show()\n",
    "\n",
    "print(a2,b2,c2,d2)\n",
    "\n",
    "gammafit1 = [i for i in gammafit if i != 0]\n",
    "prob1 = [prob[i] for i in range(0,len(prob)) if gammafit[i] != 0]\n",
    "\n",
    "print(stats.chisquare(prob1,gammafit1,ddof = 3))\n",
    "#print(stats.chisquare(prob,logisticfit,ddof = 2))\n",
    "\n",
    "chisq=np.sum((prob-gammafit)**2)\n",
    "print(chisq)"
   ]
  },
  {
   "cell_type": "code",
   "execution_count": 132,
   "metadata": {},
   "outputs": [],
   "source": [
    "def detection_prob(snr):\n",
    "    return Gamma(snr, 1.8326544798203341,9.656002130909627,4.061402030356385,0.9765401508228847)"
   ]
  },
  {
   "cell_type": "code",
   "execution_count": 133,
   "metadata": {},
   "outputs": [
    {
     "data": {
      "text/plain": [
       "186301"
      ]
     },
     "execution_count": 133,
     "metadata": {},
     "output_type": "execute_result"
    }
   ],
   "source": [
    "len(berger_kic)"
   ]
  },
  {
   "cell_type": "code",
   "execution_count": 134,
   "metadata": {},
   "outputs": [
    {
     "name": "stdout",
     "output_type": "stream",
     "text": [
      "Total number of stars searched:  105266\n"
     ]
    }
   ],
   "source": [
    "stars1 = []\n",
    "snr = np.zeros(len(kepid))\n",
    "teff= np.zeros(len(kepid))\n",
    "logg = np.zeros(len(kepid))\n",
    "feh = np.zeros(len(kepid))\n",
    "host_star_rad = np.zeros(len(kepid))\n",
    "\n",
    "with open('keplerstellar100520.csv') as File:\n",
    "    reader = csv.reader(File, delimiter=',')\n",
    "    rownum = 0\n",
    "    for row in reader:\n",
    "        if rownum > 0:\n",
    "            if constrain(6,8,5):\n",
    "                if \"1\" in (str(row[19])[:16]):\n",
    "                    if ((row[1]) != \"\") and \"q1_q16\" in str(row[0]):\n",
    "                        this_kepid = int(row[1])\n",
    "                        stars1.append(this_kepid)\n",
    "                        #print(\"yes\")\n",
    "                        if row[21] != \"\" and row[22] != \"\":\n",
    "                            for i in range(len(kepid)):\n",
    "                                if this_kepid == kepid[i]:\n",
    "                                    teff[i] = (float(row[6]))\n",
    "                                    logg[i] = (float(row[8]))\n",
    "                                    feh[i] = (float(row[10]))\n",
    "                                    host_star_rad[i] = float(row[12])\n",
    "\n",
    "        rownum += 1\n",
    "print(\"Total number of stars searched: \", len(stars1))"
   ]
  },
  {
   "cell_type": "code",
   "execution_count": 165,
   "metadata": {},
   "outputs": [
    {
     "name": "stdout",
     "output_type": "stream",
     "text": [
      "9825174\n",
      "8895758\n",
      "9967771\n"
     ]
    }
   ],
   "source": [
    "for i in kepid:\n",
    "    if i not in berger_kic:\n",
    "        print(i)"
   ]
  },
  {
   "cell_type": "code",
   "execution_count": 136,
   "metadata": {},
   "outputs": [
    {
     "name": "stdout",
     "output_type": "stream",
     "text": [
      "2880\n",
      "3106\n"
     ]
    },
    {
     "data": {
      "text/plain": [
       "1875"
      ]
     },
     "execution_count": 136,
     "metadata": {},
     "output_type": "execute_result"
    }
   ],
   "source": [
    "print(koi[kepid.index(9825174)])\n",
    "print(koi[kepid.index(8895758)])\n",
    "koi[kepid.index(9967771)]"
   ]
  },
  {
   "cell_type": "code",
   "execution_count": 137,
   "metadata": {},
   "outputs": [
    {
     "data": {
      "text/plain": [
       "15.274197599999999"
      ]
     },
     "execution_count": 137,
     "metadata": {},
     "output_type": "execute_result"
    }
   ],
   "source": [
    "per[kepid.index(10585738)]*24"
   ]
  },
  {
   "cell_type": "code",
   "execution_count": 105,
   "metadata": {},
   "outputs": [
    {
     "data": {
      "text/plain": [
       "62"
      ]
     },
     "execution_count": 105,
     "metadata": {},
     "output_type": "execute_result"
    }
   ],
   "source": [
    "len(kepid)"
   ]
  },
  {
   "cell_type": "code",
   "execution_count": 75,
   "metadata": {},
   "outputs": [
    {
     "name": "stdout",
     "output_type": "stream",
     "text": [
      "105266 186301\n",
      "6734\n"
     ]
    }
   ],
   "source": [
    "print(len(stars1), len(berger_kic))\n",
    "not_in_berger = []\n",
    "for i in stars1:\n",
    "    if i not in berger_kic:\n",
    "        not_in_berger.append(i)\n",
    "print(len(not_in_berger))"
   ]
  },
  {
   "cell_type": "code",
   "execution_count": 76,
   "metadata": {},
   "outputs": [
    {
     "name": "stdout",
     "output_type": "stream",
     "text": [
      "98532\n"
     ]
    }
   ],
   "source": [
    "in_kepler = []\n",
    "for i in berger_kic:\n",
    "    if i in stars1:\n",
    "        in_kepler.append(i)\n",
    "print(len(in_kepler))"
   ]
  },
  {
   "cell_type": "code",
   "execution_count": null,
   "metadata": {},
   "outputs": [],
   "source": [
    "numstars_berger = []\n",
    "with open('GKSPCPapTable2_Final.txt') as csv_file:\n",
    "    read = csv.reader(csv_file, delimiter = '&')\n",
    "    line_count = 0\n",
    "    for row in read:\n",
    "        if line_count == 0:\n",
    "            print(row)\n",
    "        else:\n",
    "            berger_kic.append(int(row[0]))\n",
    "            berger_masses.append(float(row[1]))\n",
    "            berger_errup.append(float(row[2]))\n",
    "            berger_errdown.append(float(row[3]))\n",
    "            berger_radii.append(float(row[13]))\n",
    "            berger_rho.append(float(row[16]))\n",
    "        line_count += 1"
   ]
  },
  {
   "cell_type": "code",
   "execution_count": 15,
   "metadata": {},
   "outputs": [
    {
     "name": "stdout",
     "output_type": "stream",
     "text": [
      "has mass: 5497\n"
     ]
    }
   ],
   "source": [
    "has_mass = 0\n",
    "no_mass = 0\n",
    "with open('keplerstellar100520.csv') as File:\n",
    "    reader = csv.reader(File, delimiter=',')\n",
    "    rownum = 0\n",
    "    for row in reader:\n",
    "        if rownum > 0:\n",
    "            if constrain(6,8,5):\n",
    "                if \"1\" in (str(row[19])[:16]):\n",
    "                    if ((row[1]) != \"\") and \"q1_q16\" in str(row[0]):\n",
    "                        this_kepid = int(row[1])\n",
    "                        if this_kepid in not_in_berger:\n",
    "                            try:\n",
    "                                rad = float(row[12])\n",
    "                                mass = float(row[13])\n",
    "                                has_mass += 1\n",
    "                            except:\n",
    "                                no_mass += 1\n",
    "        rownum += 1\n",
    "\n",
    "print(\"has mass:\", has_mass)"
   ]
  },
  {
   "cell_type": "code",
   "execution_count": 16,
   "metadata": {},
   "outputs": [
    {
     "data": {
      "text/plain": [
       "1237"
      ]
     },
     "execution_count": 16,
     "metadata": {},
     "output_type": "execute_result"
    }
   ],
   "source": [
    "no_mass"
   ]
  },
  {
   "cell_type": "code",
   "execution_count": 138,
   "metadata": {},
   "outputs": [],
   "source": [
    "for i, j in enumerate(kepid):\n",
    "    if j in berger_kic:\n",
    "        host_star_rad[i] = berger_radii[berger_kic.index(j)]"
   ]
  },
  {
   "cell_type": "code",
   "execution_count": 18,
   "metadata": {},
   "outputs": [
    {
     "name": "stdout",
     "output_type": "stream",
     "text": [
      "Done! 418257\n"
     ]
    }
   ],
   "source": [
    "numstars = np.zeros(len(kepid))\n",
    "\n",
    "count = 0\n",
    "with open('keplerstellar100520.csv') as File:\n",
    "    reader = csv.reader(File, delimiter=',')\n",
    "    rownum = 0\n",
    "    for row in reader:\n",
    "        if rownum > 0:\n",
    "            if constrain(6,8,5):\n",
    "                if \"1\" in (str(row[19])[:16]):\n",
    "                    if ((row[1]) != \"\") and \"q1_q16\" in str(row[0]):\n",
    "                        this_kepid = int(row[1])\n",
    "                        #stars1.append(this_kepid)\n",
    "                        if row[21] != \"\" and row[22] != \"\":\n",
    "                            time = float(row[21])*float(row[22]) ## data span and duty cycle\n",
    "                            if row[23] != \"\": # cdpp\n",
    "                                for i in range(len(kepid)):\n",
    "                                    #t = (per[i]*24)*(1/adivr[i])*(1/np.pi) # transit duration\n",
    "                                    try:\n",
    "                                        if this_kepid in not_in_berger:\n",
    "                                            radius = float(row[12])\n",
    "                                            mass = float(row[13])\n",
    "                                            per_years = per / 365\n",
    "                                            t = 13 * (per_years**(1/3)) * rad * (mass**(-1/3))\n",
    "                                        else: ## in berger\n",
    "                                            t = T(this_kepid, per[i])\n",
    "                                            radius = berger_radii[berger_kic.index(this_kepid)]\n",
    "                                        new_delta = delta[i]*host_star_rad[i]/radius\n",
    "                                        #print(new_delta)\n",
    "                                        snr_this_pair = ((new_delta/(float(row[23])))*np.sqrt((t*time)/(per[i]*6)))\n",
    "                                        #print(snr_this_pair)\n",
    "                                        numstars[i] += detection_prob(snr_this_pair)\n",
    "                                    except:\n",
    "                                        #if i ==0: print(\"didn't work\")\n",
    "                                        count += 1\n",
    "        rownum += 1\n",
    "#print(\"Total number of stars searched: \", len(stars1))\n",
    "print(\"Done!\", count)"
   ]
  },
  {
   "cell_type": "code",
   "execution_count": 19,
   "metadata": {},
   "outputs": [
    {
     "data": {
      "text/plain": [
       "6746.080645161291"
      ]
     },
     "execution_count": 19,
     "metadata": {},
     "output_type": "execute_result"
    }
   ],
   "source": [
    "count / 62"
   ]
  },
  {
   "cell_type": "code",
   "execution_count": 25,
   "metadata": {},
   "outputs": [],
   "source": [
    "np.savetxt(\"numstars.txt\", numstars)"
   ]
  },
  {
   "cell_type": "markdown",
   "metadata": {},
   "source": [
    "The total number of stars searched matches pretty well the number reported in Sanchis-Ojeda et al. (2014).\n",
    "\n",
    "The Kepler catalog really isn't the best place to get stellar parameters, so I'm replacing the values with ones from Winn et al. (2017) that use the updated CKS parameteters. But not all of the stars I need values for are in that population, so I'll just keep the Kepler values for those."
   ]
  },
  {
   "cell_type": "code",
   "execution_count": 139,
   "metadata": {},
   "outputs": [
    {
     "name": "stdout",
     "output_type": "stream",
     "text": [
      "3\n",
      "7\n",
      "0\n",
      "43\n"
     ]
    }
   ],
   "source": [
    "loggerr = np.zeros(len(kepid))\n",
    "tefferr = np.zeros(len(kepid))\n",
    "feherr = np.zeros(len(kepid))\n",
    "\n",
    "count = 0\n",
    "with open('ajaa7b7ct1_ascii.csv') as File:\n",
    "    reader = csv.reader(File, delimiter=',')\n",
    "    rownum = 0\n",
    "    for row in reader:\n",
    "        if rownum > 2:\n",
    "            for i in range(len(kepid)):\n",
    "                if int(row[0][3:]) == koi[i]:\n",
    "                    teff[i] = (float(row[1]))\n",
    "                    tefferr[i] = np.max([(float(row[3])), (float(row[2]))])\n",
    "                    logg[i] = (float(row[4]))\n",
    "                    loggerr[i] = np.max([(float(row[6])), (float(row[5]))])\n",
    "                    feh[i] = (float(row[7]))\n",
    "                    feherr[i] = np.max([(float(row[9])), (float(row[8]))])\n",
    "                    count += 1\n",
    "                elif int(row[0][3:]) == kepid[i]:\n",
    "                    print(i)\n",
    "                    teff[i] = (float(row[1]))\n",
    "                    tefferr[i] = np.max([(float(row[3])), (float(row[2]))])\n",
    "                    logg[i] = (float(row[4]))\n",
    "                    loggerr[i] = np.max([(float(row[6])), (float(row[5]))])\n",
    "                    feh[i] = (float(row[7]))\n",
    "                    feherr[i] = np.max([(float(row[9])), (float(row[8]))])\n",
    "                    count +=1\n",
    "#                 if (int(row[0][3:]) == planets[i].koi):\n",
    "#                     planets[i].Teff = (float(row[1]))\n",
    "#                     planets[i].Tefferr = [(float(row[3])), (float(row[2]))]\n",
    "#                     print(planets[i].Tefferr)\n",
    "#                     planets[i].logg = (float(row[4]))\n",
    "#                     planets[i].loggerr = [(float(row[6])), (float(row[5]))]\n",
    "#                     planets[i].feh = (float(row[7]))\n",
    "#                     planets[i].feherr = [(float(row[9])), (float(row[8]))]\n",
    "        rownum += 1\n",
    "\n",
    "print(count)"
   ]
  },
  {
   "cell_type": "code",
   "execution_count": 140,
   "metadata": {},
   "outputs": [
    {
     "name": "stdout",
     "output_type": "stream",
     "text": [
      "63\n",
      "63\n",
      "[2718885, 3112129, 4665571, 8435766, 9642018, 9825174, 10585738, 11187332, 11550689, 1717722, 3444588, 4055304, 4144576, 5040077, 5095635, 5175986, 5513012, 5942808, 5972334, 6129524, 6265792, 6294819, 6310636, 6362874, 6867588, 6934291, 6964929, 6974658, 7102227, 7605093, 7749002, 8278371, 8558011, 8895758, 8947520, 9092504, 9149789, 9221517, 9456281, 9472074, 9473078, 9580167, 10024051, 10028535, 10319385, 10468885, 10647452, 10975146, 11030475, 11401182, 11547505, 11600889, 11752632, 11870545, 11904151, 12265786, 12405333, 5773121, 5980208, 8416523, 9353742, 9475552, 9967771]\n"
     ]
    }
   ],
   "source": [
    "print(len(tefferr))\n",
    "print(len(kepid))\n",
    "print(kepid)"
   ]
  },
  {
   "cell_type": "markdown",
   "metadata": {},
   "source": [
    "One of the main new things we want to do is incorporate new Gaia parallaxes into the radius calculations. We used the gaia-kepler.fun crossmatch database created by Megan Bedell."
   ]
  },
  {
   "cell_type": "code",
   "execution_count": 141,
   "metadata": {
    "collapsed": true
   },
   "outputs": [],
   "source": [
    "from astropy.table import Table\n",
    "data = Table.read('kepler_dr2_1arcsec.fits', format='fits')"
   ]
  },
  {
   "cell_type": "code",
   "execution_count": 170,
   "metadata": {},
   "outputs": [
    {
     "name": "stdout",
     "output_type": "stream",
     "text": [
      "<Table masked=True length=197090>\n",
      "            name              dtype         unit       n_bad\n",
      "---------------------------- ------- ----------------- -----\n",
      "                 designation   str28                       0\n",
      "                   source_id   int64                       0\n",
      "              gaia_ref_epoch float64                       0\n",
      "                          ra float64               deg     0\n",
      "                    ra_error float64      0.001 arcsec     0\n",
      "                         dec float64               deg     0\n",
      "                   dec_error float64      0.001 arcsec     0\n",
      "                    parallax float64      0.001 arcsec     0\n",
      "              parallax_error float64      0.001 arcsec     0\n",
      "         parallax_over_error float32                       0\n",
      "                        pmra float64 0.001 arcsec / yr     0\n",
      "                  pmra_error float64 0.001 arcsec / yr     0\n",
      "                       pmdec float64 0.001 arcsec / yr     0\n",
      "                 pmdec_error float64 0.001 arcsec / yr     0\n",
      "                 ra_dec_corr float32                       0\n",
      "            ra_parallax_corr float32                       0\n",
      "                ra_pmra_corr float32                       0\n",
      "               ra_pmdec_corr float32                       0\n",
      "           dec_parallax_corr float32                       0\n",
      "               dec_pmra_corr float32                       0\n",
      "              dec_pmdec_corr float32                       0\n",
      "          parallax_pmra_corr float32                       0\n",
      "         parallax_pmdec_corr float32                       0\n",
      "             pmra_pmdec_corr float32                       0\n",
      "         astrometric_chi2_al float32                       0\n",
      "    astrometric_excess_noise float64               mas     0\n",
      "astrometric_excess_noise_sig float64                       0\n",
      "    astrometric_primary_flag    bool                       0\n",
      "           duplicated_source    bool                       0\n",
      "            phot_g_mean_flux float64            ph / s     0\n",
      "      phot_g_mean_flux_error float64            ph / s     0\n",
      "             phot_g_mean_mag float32               mag     0\n",
      "           phot_bp_mean_flux float64            ph / s     0\n",
      "     phot_bp_mean_flux_error float64            ph / s     0\n",
      "            phot_bp_mean_mag float32               mag     0\n",
      "           phot_rp_mean_flux float64            ph / s     0\n",
      "     phot_rp_mean_flux_error float64            ph / s     0\n",
      "            phot_rp_mean_mag float32               mag     0\n",
      "                       bp_rp float32               mag     0\n",
      "                        bp_g float32               mag     0\n",
      "                        g_rp float32               mag     0\n",
      "             radial_velocity float64            km / s     0\n",
      "       radial_velocity_error float64            km / s     0\n",
      "          phot_variable_flag   str13                       0\n",
      "                           l float64               deg     0\n",
      "                           b float64               deg     0\n",
      "                     ecl_lon float64               deg     0\n",
      "                     ecl_lat float64               deg     0\n",
      "                    teff_val float32                 K     0\n",
      "       teff_percentile_lower float32                 K     0\n",
      "       teff_percentile_upper float32                 K     0\n",
      "                     a_g_val float32               mag     0\n",
      "        a_g_percentile_lower float32               mag     0\n",
      "        a_g_percentile_upper float32               mag     0\n",
      "             e_bp_min_rp_val float32               mag     0\n",
      "e_bp_min_rp_percentile_lower float32               mag     0\n",
      "e_bp_min_rp_percentile_upper float32               mag     0\n",
      "                  radius_val float32            solRad     0\n",
      "     radius_percentile_lower float32            solRad     0\n",
      "     radius_percentile_upper float32            solRad     0\n",
      "                     lum_val float32            solLum     0\n",
      "        lum_percentile_lower float32            solLum     0\n",
      "        lum_percentile_upper float32            solLum     0\n",
      "                       kepid   int64                       0\n",
      "                      ra_kic float64               deg     0\n",
      "                     dec_kic float64               deg     0\n",
      "                       r_est float64                pc     0\n",
      "                        r_lo float64                pc     0\n",
      "                        r_hi float64                pc     0\n",
      "              r_length_prior float64                pc     0\n",
      "               r_result_flag   int16                       0\n",
      "             r_modality_flag   int16                       0\n",
      "              tm_designation   str25                       0\n",
      "                      kepmag float64                       0\n",
      "                        teff   int64                 K     0\n",
      "                   teff_err1   int64                 K  1802\n",
      "                   teff_err2   int64                 K  2061\n",
      "                   teff_prov    str5                       0\n",
      "                        logg float64                       0\n",
      "                   logg_err1 float64                       0\n",
      "                   logg_err2 float64                       0\n",
      "                   logg_prov    str5                       0\n",
      "                         feh float64                       0\n",
      "                    feh_err1 float64                       0\n",
      "                    feh_err2 float64                       0\n",
      "                    feh_prov    str5                       0\n",
      "                      radius float64            solRad     0\n",
      "                 radius_err1 float64            solRad     0\n",
      "                 radius_err2 float64            solRad     0\n",
      "                        mass float64           solMass     0\n",
      "                   mass_err1 float64           solMass     0\n",
      "                   mass_err2 float64           solMass     0\n",
      "                    prov_sec    str6                       0\n",
      "                      nconfp   int64                       0\n",
      "                        nkoi   int64                       0\n",
      "                        ntce   int64                       0\n",
      "                        jmag float64               mag     0\n",
      "                        hmag float64               mag     0\n",
      "                        kmag float64               mag     0\n",
      "                     planet?    str4                       0\n",
      "        kepler_gaia_ang_dist float64            arcsec     0\n",
      "\n"
     ]
    }
   ],
   "source": [
    "print(data.info)"
   ]
  },
  {
   "cell_type": "code",
   "execution_count": 142,
   "metadata": {
    "collapsed": true
   },
   "outputs": [],
   "source": [
    "kepid1 = []\n",
    "parallax2 = np.zeros(len(kepid))\n",
    "perror2 = np.zeros(len(kepid))\n",
    "angdist = np.zeros(len(kepid))\n",
    "\n",
    "for i in range(len(data['kepid'])):\n",
    "    for j in range(len(kepid)):\n",
    "        if kepid[j] == data['kepid'][i]:\n",
    "            parallax2[j] = (data['parallax'][i])\n",
    "            perror2[j] = (data['parallax_error'][i])\n",
    "#         if (planets[j].kepid) == data['kepid'][i]:\n",
    "#             planets[j].parallax = (data['parallax'][i])\n",
    "#             planets[j].perror = (data['parallax_error'][i])"
   ]
  },
  {
   "cell_type": "code",
   "execution_count": 171,
   "metadata": {},
   "outputs": [],
   "source": [
    "angdist = np.zeros(len(kepid))\n",
    "for i in range(len(data['kepid'])):\n",
    "    for j in range(len(kepid)):\n",
    "        if kepid[j] == data['kepid'][i]:\n",
    "            angdist[j] = (data['kepler_gaia_ang_dist'][i])\n",
    "#         if (planets[j].kepid) == data['kepid'][i]:\n",
    "#             planets[j].parallax = (data['parallax'][i])\n",
    "#             planets[j].perror = (data['parallax_error'][i])"
   ]
  },
  {
   "cell_type": "code",
   "execution_count": 173,
   "metadata": {},
   "outputs": [
    {
     "name": "stdout",
     "output_type": "stream",
     "text": [
      "0.15898274793926248\n"
     ]
    },
    {
     "data": {
      "text/plain": [
       "(62, 62)"
      ]
     },
     "execution_count": 173,
     "metadata": {},
     "output_type": "execute_result"
    }
   ],
   "source": [
    "print(angdist[kepid.index(8895758)])\n",
    "len(angdist), len(kepid)"
   ]
  },
  {
   "cell_type": "code",
   "execution_count": 178,
   "metadata": {},
   "outputs": [
    {
     "ename": "NameError",
     "evalue": "name 'parallax' is not defined",
     "output_type": "error",
     "traceback": [
      "\u001b[0;31m---------------------------------------------------------------------------\u001b[0m",
      "\u001b[0;31mNameError\u001b[0m                                 Traceback (most recent call last)",
      "\u001b[0;32m<ipython-input-178-11785451e954>\u001b[0m in \u001b[0;36m<module>\u001b[0;34m\u001b[0m\n\u001b[0;32m----> 1\u001b[0;31m \u001b[0mparallax\u001b[0m\u001b[0;34m\u001b[0m\u001b[0;34m\u001b[0m\u001b[0m\n\u001b[0m",
      "\u001b[0;31mNameError\u001b[0m: name 'parallax' is not defined"
     ]
    }
   ],
   "source": [
    "parallax"
   ]
  },
  {
   "cell_type": "code",
   "execution_count": 174,
   "metadata": {},
   "outputs": [
    {
     "data": {
      "text/plain": [
       "3106"
      ]
     },
     "execution_count": 174,
     "metadata": {},
     "output_type": "execute_result"
    }
   ],
   "source": [
    "koi[kepid.index(8895758)]"
   ]
  },
  {
   "cell_type": "code",
   "execution_count": 143,
   "metadata": {},
   "outputs": [
    {
     "name": "stdout",
     "output_type": "stream",
     "text": [
      "63\n",
      "(array([48]),)\n",
      "11030475\n",
      "63\n"
     ]
    }
   ],
   "source": [
    "parallax3 = parallax2\n",
    "print(len(parallax3))\n",
    "print(np.where(parallax3 == 0))\n",
    "#print(noparallax)\n",
    "print(kepid[48])\n",
    "print(len(kepid))\n",
    "# del kepid[noparallax]\n",
    "# del koi[noparallax]\n",
    "# del per[noparallax]\n",
    "# del teff[noparallax]\n",
    "# del tefferr[noparallax]\n",
    "# del logg[noparallax]\n",
    "# del loggerr[noparallax]\n",
    "# del feh[noparallax]\n",
    "# del feherr[noparallax]\n",
    "# del delta[noparallax]\n",
    "# del derror[noparallax]\n",
    "# del parallax2[noparallax]\n",
    "# del perror2[noparallax]\n",
    "\n",
    "# print(len(parallax2))"
   ]
  },
  {
   "cell_type": "markdown",
   "metadata": {},
   "source": [
    "We need to remove this planet becasue it doesn't have a Gaia parallax."
   ]
  },
  {
   "cell_type": "code",
   "execution_count": 163,
   "metadata": {},
   "outputs": [
    {
     "name": "stdout",
     "output_type": "stream",
     "text": [
      "63\n"
     ]
    }
   ],
   "source": [
    "koi = [koi[i] for i in range(0,len(kepid)) if kepid[i] != 11030475]\n",
    "adivr = [adivr[i] for i in range(0,len(kepid)) if kepid[i] != 11030475]\n",
    "per = [per[i] for i in range(0,len(kepid)) if kepid[i] != 11030475]\n",
    "teff = [teff[i] for i in range(0,len(kepid)) if kepid[i] != 11030475]\n",
    "logg = [logg[i] for i in range(0,len(kepid)) if kepid[i] != 11030475]\n",
    "feh = [feh[i] for i in range(0,len(kepid)) if kepid[i] != 11030475]\n",
    "tefferr = [tefferr[i] for i in range(0,len(kepid)) if kepid[i] != 11030475]\n",
    "loggerr = [loggerr[i] for i in range(0,len(kepid)) if kepid[i] != 11030475]\n",
    "feherr = [feherr[i] for i in range(0,len(kepid)) if kepid[i] != 11030475]\n",
    "delta = [delta[i] for i in range(0,len(kepid)) if kepid[i] != 11030475]\n",
    "derror = [derror[i] for i in range(0,len(kepid)) if kepid[i] != 11030475]\n",
    "parallax2 = [parallax2[i] for i in range(0,len(kepid)) if kepid[i] != 11030475]\n",
    "perror2 = [perror2[i] for i in range(0,len(kepid)) if kepid[i] != 11030475]\n",
    "kepid = [i for i in kepid if i != 11030475] # there is no Gaia parallax for this KepID.\n",
    "\n",
    "# del planets[51]\n",
    "# print(len(planets))\n",
    "#print(len(kepid4))\n",
    "print(len(parallax3))"
   ]
  },
  {
   "cell_type": "code",
   "execution_count": 164,
   "metadata": {},
   "outputs": [
    {
     "name": "stdout",
     "output_type": "stream",
     "text": [
      "62\n"
     ]
    }
   ],
   "source": [
    "print(len(parallax2))"
   ]
  },
  {
   "cell_type": "markdown",
   "metadata": {},
   "source": [
    "Now, I'm going to record the photometric band magnitudes for each of the host stars. The bands are [Kepler, j, h, k, g, r, i, z]."
   ]
  },
  {
   "cell_type": "code",
   "execution_count": 168,
   "metadata": {},
   "outputs": [
    {
     "name": "stdout",
     "output_type": "stream",
     "text": [
      "-1.7675291827804935\n"
     ]
    },
    {
     "data": {
      "text/plain": [
       "0.4132835599458443"
      ]
     },
     "execution_count": 168,
     "metadata": {},
     "output_type": "execute_result"
    }
   ],
   "source": [
    "print(parallax2[kepid.index(8895758)])\n",
    "perror2[kepid.index(8895758)]"
   ]
  },
  {
   "cell_type": "code",
   "execution_count": 146,
   "metadata": {},
   "outputs": [
    {
     "name": "stdout",
     "output_type": "stream",
     "text": [
      "62\n"
     ]
    }
   ],
   "source": [
    "kepid2 = np.zeros(len(kepid))\n",
    "kepmag = np.zeros(len(kepid))\n",
    "jmag = np.zeros(len(kepid))\n",
    "hmag = np.zeros(len(kepid))\n",
    "kmag = np.zeros(len(kepid))\n",
    "gmag = np.zeros(len(kepid))\n",
    "rmag = np.zeros(len(kepid))\n",
    "imag = np.zeros(len(kepid))\n",
    "zmag = np.zeros(len(kepid))\n",
    "\n",
    "with open('kepler_search.csv') as File:\n",
    "    reader = csv.reader(File, delimiter=',')\n",
    "    rownum = 0\n",
    "    for row in reader:\n",
    "        if rownum > 1:\n",
    "            if (int(row[0]) in kepid) and ((int(row[0]) in kepid2) == False):\n",
    "                for i in range(len(kepid)):\n",
    "                    if int(row[0]) == kepid[i]:\n",
    "                        kepid2[i] = int(row[0])\n",
    "                        kepmag[i] = float(row[37])\n",
    "                        jmag[i] = float(row[34])\n",
    "                        hmag[i] = float(row[35])\n",
    "                        kmag[i] = float(row[36])\n",
    "                        gmag[i] = float(row[30])\n",
    "                        rmag[i] = float(row[31])\n",
    "                        imag[i] = float(row[32])\n",
    "                        zmag[i] = float(row[33])\n",
    "#                     if int(row[0]) == planets[i].kepid:\n",
    "#                         planets[i].photoarray = [float(row[37]), float(row[34]), float(row[35]), float(row[36]),\n",
    "#                                                   float(row[30]), float(row[31]), float(row[32]), float(row[33])]\n",
    "        rownum += 1\n",
    "print(len(kepid2))"
   ]
  },
  {
   "cell_type": "code",
   "execution_count": 169,
   "metadata": {},
   "outputs": [
    {
     "data": {
      "text/plain": [
       "15.991"
      ]
     },
     "execution_count": 169,
     "metadata": {},
     "output_type": "execute_result"
    }
   ],
   "source": [
    "gmag[kepid.index(8895758)]"
   ]
  },
  {
   "cell_type": "code",
   "execution_count": 147,
   "metadata": {},
   "outputs": [
    {
     "name": "stdout",
     "output_type": "stream",
     "text": [
      "64.0\n",
      "4776.0\n",
      "4.6\n",
      "0.03\n",
      "-0.11\n",
      "0.04\n",
      "11401182\n",
      "0.017492997737671497\n"
     ]
    }
   ],
   "source": [
    "# for i in range(0,len(planets)):\n",
    "#     if planets[i].photoarray == 'none':\n",
    "#         print(planets[i].kepid)\n",
    "        \n",
    "# for i in range(0,len(planets)):\n",
    "#     if planets[i].Tefferr == ['none', 'none']:\n",
    "#         print(i)\n",
    "print(tefferr[48])\n",
    "print(teff[48])\n",
    "print(logg[48])\n",
    "print(loggerr[48])\n",
    "print(feh[48])\n",
    "print(feherr[48])\n",
    "print(kepid[48])\n",
    "print(perror2[48])"
   ]
  },
  {
   "cell_type": "markdown",
   "metadata": {},
   "source": [
    "All of the stars have recorded photometric band magnitudes. Now we're going to use the isochrones package to interpolate the stellar host radii based on these band magnitudes, as well as log(g), Teff, and Fe/H."
   ]
  },
  {
   "cell_type": "code",
   "execution_count": 86,
   "metadata": {
    "collapsed": true
   },
   "outputs": [],
   "source": [
    "from isochrones import StarModel\n",
    "from isochrones.mist import MIST_Isochrone\n",
    "\n",
    "bands = ['J','H','K','Kepler','g','r','i','z']\n",
    "mist = MIST_Isochrone(bands = bands)\n",
    "star_radii = []\n",
    "star_rad_sigma = []\n",
    "star_rad_array = []\n",
    "star_masses = []\n",
    "star_mass_sigma = []\n",
    "deltaarray = []\n",
    "fifteen = []\n",
    "eightyfive = []\n",
    "num_samples = 1000\n",
    "planet_radii_samples = []\n",
    "planet_a_samples = []\n"
   ]
  },
  {
   "cell_type": "code",
   "execution_count": 87,
   "metadata": {},
   "outputs": [
    {
     "data": {
      "text/plain": [
       "64.0"
      ]
     },
     "execution_count": 87,
     "metadata": {},
     "output_type": "execute_result"
    }
   ],
   "source": [
    "tefferr[0]"
   ]
  },
  {
   "cell_type": "markdown",
   "metadata": {},
   "source": [
    "w/o parallax 1.04\n",
    "\n",
    "w/o photometric bands 0.953\n",
    "\n",
    "w/o both 0.95"
   ]
  },
  {
   "cell_type": "code",
   "execution_count": 88,
   "metadata": {},
   "outputs": [],
   "source": [
    "G = 6.67e-11\n",
    "Msun = 1.989e30 ## kg\n"
   ]
  },
  {
   "cell_type": "code",
   "execution_count": 89,
   "metadata": {},
   "outputs": [
    {
     "data": {
      "text/plain": [
       "0.024399931516546187"
      ]
     },
     "execution_count": 89,
     "metadata": {},
     "output_type": "execute_result"
    }
   ],
   "source": [
    "perror2[0]"
   ]
  },
  {
   "cell_type": "code",
   "execution_count": 106,
   "metadata": {},
   "outputs": [],
   "source": [
    "bands = ['J','H','K','Kepler','g','r','i','z']\n",
    "mist = MIST_Isochrone(bands = ['K'])\n",
    "star_radii = []\n",
    "star_rad_sigma = []\n",
    "star_rad_array = []\n",
    "star_masses = []\n",
    "star_mass_sigma = []\n",
    "deltaarray = []\n",
    "fifteen = []\n",
    "eightyfive = []\n",
    "num_samples = 1000\n",
    "planet_radii_samples = []\n",
    "planet_a_samples = []"
   ]
  },
  {
   "cell_type": "code",
   "execution_count": 108,
   "metadata": {},
   "outputs": [
    {
     "name": "stdout",
     "output_type": "stream",
     "text": [
      "0\n"
     ]
    }
   ],
   "source": [
    "for i in range(0, 1):\n",
    "    radiisamples = []\n",
    "    asamples= []\n",
    "    mags = {'K':(kmag[i],0.05)}\n",
    "    if (tefferr[i] != 0):\n",
    "        try:\n",
    "            model = StarModel(mist, logg = (logg[i],loggerr[i]), teff = (teff[i], tefferr[i]),feh = (feh[i],feherr[i]), parallax = (parallax2[i],perror2[i]), **mags)\n",
    "        except:\n",
    "            model = StarModel(mist, parallax = (parallax2[i], perror2[i]), **mags)    \n",
    "    else:\n",
    "        model = StarModel(mist, parallax = (parallax2[i], perror2[i]), **mags)\n",
    "    StarModel.fit_multinest(model,n_live_points=1000, basename=None, verbose=False, refit=True, overwrite=True,test=False)\n",
    "    star_radii.append(model.samples.radius_0_0.quantile(0.5))\n",
    "    star_masses.append(model.samples.mass_0_0.quantile(0.5))\n",
    "    star_rad_sigma.append(np.std(model.samples.radius_0_0))\n",
    "    star_mass_sigma.append(np.std(model.samples.mass_0_0))\n",
    "    fifteen.append(np.percentile(model.samples.radius_0_0, 15.85))\n",
    "    eightyfive.append(np.percentile(model.samples.radius_0_0, 84.15))\n",
    "    star_rad_array = np.random.choice(model.samples.radius_0_0, num_samples) ## star radii\n",
    "    star_mass_array = np.random.choice(model.samples.mass_0_0, num_samples) ## star masses\n",
    "    deltaarray = np.random.normal(delta[i],derror[i], num_samples)\n",
    "#     for j in range(len(star_rad_array)):\n",
    "#         if deltaarray[j] > 0:\n",
    "#             radiisamples.append((star_rad_array[j]*Sunradius*np.sqrt(deltaarray[j]/1000000))/Earthradius)\n",
    "#         else:\n",
    "#             radiisamples.append(np.nan)\n",
    "#     planet_radii_samples.append(radiisamples)\n",
    "#     period = per[i] * 24 * 3600\n",
    "#     for index, mass in enumerate(star_mass_array):\n",
    "#         asamples.append(((((G * mass * Msun) / (4 * np.pi * np.pi)) * period * period)**(1/3)) * 1e-3)\n",
    "#     planet_a_samples.append(asamples)\n",
    "    print(i)"
   ]
  },
  {
   "cell_type": "code",
   "execution_count": 111,
   "metadata": {},
   "outputs": [
    {
     "data": {
      "text/plain": [
       "1.362024296183856"
      ]
     },
     "execution_count": 111,
     "metadata": {},
     "output_type": "execute_result"
    }
   ],
   "source": [
    "np.median(model.samples.radius_0_0)"
   ]
  },
  {
   "cell_type": "code",
   "execution_count": 113,
   "metadata": {},
   "outputs": [
    {
     "data": {
      "text/plain": [
       "12.936"
      ]
     },
     "execution_count": 113,
     "metadata": {},
     "output_type": "execute_result"
    }
   ],
   "source": [
    "kmag[0]"
   ]
  },
  {
   "cell_type": "code",
   "execution_count": 32,
   "metadata": {},
   "outputs": [],
   "source": [
    "raderrup = [value - median for value, median in zip(eightyfive, star_radii)]\n",
    "raderrdown = [median - value for value, median in zip(fifteen, star_radii)]"
   ]
  },
  {
   "cell_type": "code",
   "execution_count": 33,
   "metadata": {},
   "outputs": [
    {
     "data": {
      "text/plain": [
       "62"
      ]
     },
     "execution_count": 33,
     "metadata": {},
     "output_type": "execute_result"
    }
   ],
   "source": [
    "len(star_rad_sigma)"
   ]
  },
  {
   "cell_type": "code",
   "execution_count": 34,
   "metadata": {},
   "outputs": [],
   "source": [
    "np.savetxt(\"asamples_problem_planet.txt\", np.array(planet_a_samples).flatten()[:1000])"
   ]
  },
  {
   "cell_type": "code",
   "execution_count": 35,
   "metadata": {},
   "outputs": [],
   "source": [
    "a = np.loadtxt(\"asamples_problem_planet.txt\")"
   ]
  },
  {
   "cell_type": "code",
   "execution_count": 36,
   "metadata": {},
   "outputs": [
    {
     "data": {
      "text/plain": [
       "(1000,)"
      ]
     },
     "execution_count": 36,
     "metadata": {},
     "output_type": "execute_result"
    }
   ],
   "source": [
    "np.shape(a)"
   ]
  },
  {
   "cell_type": "code",
   "execution_count": 37,
   "metadata": {},
   "outputs": [],
   "source": [
    "np.savetxt(\"stellar_radii.txt\", (star_radii, raderrup, raderrdown, star_rad_sigma), header = \"median radius, errup, errdown, stdev\")"
   ]
  },
  {
   "cell_type": "code",
   "execution_count": 38,
   "metadata": {},
   "outputs": [],
   "source": [
    "np.savetxt(\"planet_radius_samples.txt\", planet_radii_samples)"
   ]
  },
  {
   "cell_type": "code",
   "execution_count": 39,
   "metadata": {},
   "outputs": [],
   "source": [
    "np.savetxt(\"stellar_masses.txt\", (star_masses, star_mass_sigma), header = \"median, stdev\")"
   ]
  },
  {
   "cell_type": "code",
   "execution_count": 40,
   "metadata": {},
   "outputs": [],
   "source": [
    "x, y = np.loadtxt(\"stellar_masses.txt\")"
   ]
  },
  {
   "cell_type": "markdown",
   "metadata": {},
   "source": [
    "Here I'm going to begin re-creating Figure 1, a comparison of my calculated stellar radii to those of Fulton & Petigure (2018)."
   ]
  },
  {
   "cell_type": "code",
   "execution_count": 42,
   "metadata": {
    "collapsed": true
   },
   "outputs": [],
   "source": [
    "CKSkoi = []\n",
    "CKSstarrad = []\n",
    "CKSerr_up = []\n",
    "CKSerr_down = []\n",
    "\n",
    "with open('UpdateFultonPetigura18.csv') as File:\n",
    "    reader = csv.reader(File, delimiter=',')\n",
    "    for row in reader:\n",
    "        r = int(row[0][2:])\n",
    "        if (r in koi):\n",
    "            CKSkoi.append(r)\n",
    "            CKSstarrad.append(float(row[11]))\n",
    "            CKSerr_up.append(float(row[12]))\n",
    "            CKSerr_down.append(float(row[13]))"
   ]
  },
  {
   "cell_type": "code",
   "execution_count": 43,
   "metadata": {},
   "outputs": [
    {
     "data": {
      "text/plain": [
       "39"
      ]
     },
     "execution_count": 43,
     "metadata": {},
     "output_type": "execute_result"
    }
   ],
   "source": [
    "len(CKSerr_down)"
   ]
  },
  {
   "cell_type": "code",
   "execution_count": 44,
   "metadata": {
    "collapsed": true
   },
   "outputs": [],
   "source": [
    "compare_star_radii = np.zeros(len(CKSkoi))\n",
    "compare_sigmas = np.zeros(len(CKSkoi))\n",
    "compare_errup = np.zeros(len(CKSkoi))\n",
    "compare_errdown = np.zeros(len(CKSkoi))\n",
    "\n",
    "for i in range(len(koi)):\n",
    "    for j in range(len(CKSkoi)):\n",
    "        if (koi[i]) == CKSkoi[j]:\n",
    "            compare_star_radii[j] = star_radii[i]\n",
    "            compare_sigmas[j] = star_rad_sigma[i]\n",
    "            compare_errup[j] = raderrup[i]\n",
    "            compare_errdown[j] = raderrdown[i]"
   ]
  },
  {
   "cell_type": "code",
   "execution_count": 45,
   "metadata": {},
   "outputs": [
    {
     "data": {
      "image/png": "[encoded data removed]",
      "text/plain": [
       "<Figure size 432x288 with 1 Axes>"
      ]
     },
     "metadata": {
      "needs_background": "light"
     },
     "output_type": "display_data"
    }
   ],
   "source": [
    "import matplotlib.pyplot as plt\n",
    "\n",
    "myblue = (0, .45, .70)\n",
    "mygold = (.9, .6, 0)\n",
    "\n",
    "\n",
    "x = np.linspace(0.6, 1.75, 50)\n",
    "plt.plot(compare_star_radii, CKSstarrad, 'o', color = myblue, markersize = 8)\n",
    "plt.plot(x,x, lw = 2.5, color = mygold)\n",
    "plt.errorbar(compare_star_radii, CKSstarrad, xerr = [compare_errdown, compare_errup], yerr = [CKSerr_down, CKSerr_up], ls = 'None', ecolor = 'k')\n",
    "plt.ylabel('Derived stellar radii ($R_{\\odot}$)', fontsize = 'x-large')\n",
    "plt.xlabel('Stellar radii from Fulton & Petigura (2018) ($R_{\\odot}$)', fontsize = 'x-large')\n",
    "plt.xticks(fontsize = 'large')\n",
    "plt.yticks(fontsize = 'large')\n",
    "plt.show()"
   ]
  },
  {
   "cell_type": "markdown",
   "metadata": {},
   "source": [
    "Now for Figure 2: Comparing stellar host radii to those used in Sanchis-Ojeda et al. (2014)"
   ]
  },
  {
   "cell_type": "code",
   "execution_count": 46,
   "metadata": {
    "collapsed": true
   },
   "outputs": [],
   "source": [
    "SO_radii = np.zeros(len(kepid))\n",
    "SO_errup = np.zeros(len(kepid))\n",
    "SO_errdown = np.zeros(len(kepid))\n",
    "\n",
    "with open('USPCandidates.csv', encoding='latin-1') as File:\n",
    "    reader = csv.reader(File, delimiter=',')\n",
    "    rownum = 0\n",
    "    for row in reader:\n",
    "        if rownum > 0:\n",
    "             if row[24] != \"\":\n",
    "                for i in range(len(kepid)):\n",
    "                     if int(row[0]) == kepid[i]:\n",
    "                        SO_radii[i] = (float(row[9]))\n",
    "                        SO_errup[i] = (float(row[10]))\n",
    "                        SO_errdown[i] = (float(row[11]))\n",
    "        rownum += 1"
   ]
  },
  {
   "cell_type": "markdown",
   "metadata": {},
   "source": [
    "I'm going to identify the planets that had CKS spectroscopic data vs. the ones that didn't. The ones that didn't don't have an actual error for Teff."
   ]
  },
  {
   "cell_type": "code",
   "execution_count": 47,
   "metadata": {},
   "outputs": [
    {
     "name": "stdout",
     "output_type": "stream",
     "text": [
      "20\n",
      "42\n"
     ]
    }
   ],
   "source": [
    "noCKSkepid = []\n",
    "\n",
    "for i in range(len(tefferr)):\n",
    "    if tefferr[i] == 0:\n",
    "        noCKSkepid.append(kepid[i])\n",
    "\n",
    "noCKSkepidrad = [star_radii[kepid.index(i)] for i in noCKSkepid]\n",
    "radiibuds = [SO_radii[kepid.index(i)] for i in noCKSkepid] ## corresponding radii\n",
    "\n",
    "otherrad = [star_radii[kepid.index(i)] for i in kepid if i not in noCKSkepid]\n",
    "radiibuds2 = [SO_radii[kepid.index(i)] for i in kepid if i not in noCKSkepid]\n",
    "\n",
    "print(len(noCKSkepid))\n",
    "print(len(otherrad))"
   ]
  },
  {
   "cell_type": "code",
   "execution_count": 48,
   "metadata": {},
   "outputs": [
    {
     "data": {
      "image/png": "[encoded data removed]",
      "text/plain": [
       "<Figure size 432x288 with 1 Axes>"
      ]
     },
     "metadata": {
      "needs_background": "light"
     },
     "output_type": "display_data"
    }
   ],
   "source": [
    "y = np.linspace(0.5, 2.5, 50)\n",
    "\n",
    "f  = plt.figure()\n",
    "plt.plot(radiibuds,noCKSkepidrad, 'o', color = myblue)\n",
    "plt.plot(radiibuds2, otherrad, 'o', color = (0.9, 0.2, 0.0))\n",
    "plt.errorbar(SO_radii, star_radii, yerr = [raderrdown, raderrup], xerr = [SO_errdown, SO_errup], ls = 'None', color = 'k')\n",
    "plt.plot(y,y, color = mygold)\n",
    "plt.xlabel(\"Stellar radii from SO-14 ($R_{\\odot}$)\", fontsize = 'x-large')\n",
    "plt.ylabel('Revised stellar radii ($R_{\\odot}$)', fontsize = 'x-large')\n",
    "plt.xticks(fontsize = 'large')\n",
    "plt.yticks(fontsize = 'large')\n",
    "f.savefig(\"PosterFig1.pdf\", bbox_inches = \"tight\")\n",
    "plt.show()\n",
    "## double check consistent with CKS"
   ]
  },
  {
   "cell_type": "code",
   "execution_count": 49,
   "metadata": {},
   "outputs": [
    {
     "data": {
      "text/plain": [
       "array([0.35, 0.48, 0.09, 0.06, 0.19, 0.36, 0.28, 0.35, 0.05, 0.07, 0.11,\n",
       "       0.24, 0.2 , 0.37, 0.33, 0.07, 0.31, 0.69, 0.37, 0.22, 0.45, 0.41,\n",
       "       0.38, 0.12, 0.17, 0.12, 0.34, 0.38, 0.14, 0.16, 0.42, 0.19, 0.68,\n",
       "       0.47, 0.41, 0.34, 0.23, 0.19, 0.04, 0.14, 0.42, 0.09, 0.15, 0.15,\n",
       "       0.15, 0.17, 0.23, 0.04, 0.11, 0.39, 0.21, 0.36, 0.08, 0.02, 0.09,\n",
       "       0.3 , 0.3 , 0.04, 0.11, 0.38, 1.9 , 0.37])"
      ]
     },
     "execution_count": 49,
     "metadata": {},
     "output_type": "execute_result"
    }
   ],
   "source": [
    "SO_errup"
   ]
  },
  {
   "cell_type": "code",
   "execution_count": 50,
   "metadata": {},
   "outputs": [
    {
     "name": "stdout",
     "output_type": "stream",
     "text": [
      "1.9\n",
      "[0.84 1.02 0.7  0.74 0.79 0.87 0.89 0.9  0.6  0.71 0.72 0.86 0.78 0.84\n",
      " 0.89 0.73 0.78 0.82 0.87 0.78 1.09 0.96 0.82 0.83 0.78 0.73 0.94 1.03\n",
      " 0.76 0.75 0.96 1.1  0.89 1.01 0.87 0.8  0.77 0.82 0.54 0.8  1.16 0.7\n",
      " 0.72 0.79 0.92 0.8  0.74 0.53 0.78 0.99 1.07 0.93 0.74 1.06 0.63 0.86\n",
      " 0.93 0.62 0.75 0.92 0.86 0.93]\n"
     ]
    }
   ],
   "source": [
    "print(np.max(SO_errup))\n",
    "print(SO_radii)"
   ]
  },
  {
   "cell_type": "markdown",
   "metadata": {},
   "source": [
    "This is a strange value in the Sanchis-Ojeda data, but I checked and it's really there."
   ]
  },
  {
   "cell_type": "code",
   "execution_count": 51,
   "metadata": {},
   "outputs": [
    {
     "name": "stderr",
     "output_type": "stream",
     "text": [
      "WARNING:matplotlib.legend:No handles with labels found to put in legend.\n"
     ]
    },
    {
     "data": {
      "image/png": "[encoded data removed]",
      "text/plain": [
       "<Figure size 432x288 with 1 Axes>"
      ]
     },
     "metadata": {
      "needs_background": "light"
     },
     "output_type": "display_data"
    },
    {
     "name": "stdout",
     "output_type": "stream",
     "text": [
      "1.8326544798203341 9.656002130909627 4.061402030356385 0.9765401508228847\n",
      "Power_divergenceResult(statistic=0.10726864454939301, pvalue=1.0)\n",
      "0.025607780521583547\n"
     ]
    }
   ],
   "source": [
    "from scipy.optimize import curve_fit\n",
    "from scipy import stats\n",
    "\n",
    "snr = []\n",
    "prob = []   \n",
    "\n",
    "with open('SNRProb.csv') as File:\n",
    "     reader = csv.reader(File, delimiter=',')\n",
    "     rownum = 0\n",
    "     for row in reader:\n",
    "         if rownum > 5:\n",
    "             snr.append(float(row[0]))\n",
    "             prob.append(float(row[1]))\n",
    "         rownum += 1\n",
    "         \n",
    "\n",
    "def Logistic(x,a,b,c,d):\n",
    "    return (((a-d)/(1+(x/c)**b)) + d)\n",
    "\n",
    "pguess = [0,10,10,1]\n",
    "par, con = curve_fit(Logistic, snr, prob, p0=pguess)\n",
    "a  = par[0]\n",
    "b = par[1]\n",
    "c = par[2]\n",
    "d = par[3]\n",
    "logisticfit = Logistic(snr,0,b,c,d)  \n",
    "\n",
    "# print(\"y = ((a-d)/(1+(x/c)**b)) + d\")\n",
    "# print(\"a =\", a, \"b =\", b, \"c =\",c, \"d = \", d)\n",
    "\n",
    "def Gamma(x,a,b,c,d):\n",
    "    return d*stats.gamma.cdf(x,a,b,c)\n",
    "\n",
    "pguess2 = [2,5,3,0.95]\n",
    "par2, con2 = curve_fit(Gamma,snr,prob,p0=pguess2)\n",
    "a2  = par2[0]\n",
    "b2 = par2[1]\n",
    "c2 = par2[2]\n",
    "d2 = par2[3]\n",
    "gammafit = Gamma(snr,a2,b2,c2,d2)\n",
    "\n",
    "plt.plot(snr, prob,'o', color = myblue)\n",
    "#plt.plot(snr, logisticfit,color = (0.9, 0.2, 0), label = 'Logistic fit', linewidth  = 3)\n",
    "plt.plot(snr,gammafit,color = (0.9, 0.2, 0), linewidth = 3)\n",
    "plt.xlabel('Signal-to-noise ratio', fontsize = 'x-large')\n",
    "plt.ylabel('Planet detection probability', fontsize = 'x-large')\n",
    "plt.xticks(fontsize = 14)\n",
    "plt.yticks(fontsize = 14)\n",
    "plt.legend()\n",
    "plt.show()\n",
    "\n",
    "print(a2,b2,c2,d2)\n",
    "\n",
    "gammafit1 = [i for i in gammafit if i != 0]\n",
    "prob1 = [prob[i] for i in range(0,len(prob)) if gammafit[i] != 0]\n",
    "\n",
    "print(stats.chisquare(prob1,gammafit1,ddof = 3))\n",
    "#print(stats.chisquare(prob,logisticfit,ddof = 2))\n",
    "\n",
    "chisq=np.sum((prob-gammafit)**2)\n",
    "print(chisq)\n",
    "# chisq1=np.sum((prob-logisticfit)**2)\n",
    "# print(chisq1)\n"
   ]
  },
  {
   "cell_type": "markdown",
   "metadata": {},
   "source": [
    "So in the paper, I make the claim that my stellar host radii are more exact than those of Sanchis-Ojeda et al. So I need to back up that claim by comparing the size of their uncertainties to mine."
   ]
  },
  {
   "cell_type": "code",
   "execution_count": 52,
   "metadata": {},
   "outputs": [
    {
     "name": "stdout",
     "output_type": "stream",
     "text": [
      "SO Medians\n",
      "0.2805605247465712\n",
      "0.08333333333333334\n",
      "SO Averages\n",
      "0.31602739314926265\n",
      "0.0877996195121639\n",
      "My medians\n",
      "0.026689284332553555\n",
      "0.026441790371378504\n",
      "My averages\n",
      "0.03424116868971241\n",
      "0.03165857240981764\n"
     ]
    }
   ],
   "source": [
    "so_dev_up = [i/j for i,j in zip(SO_errup, SO_radii)]\n",
    "so_dev_down = [i/j for i,j in zip(SO_errdown, SO_radii)]\n",
    "print(\"SO Medians\")\n",
    "print(np.median(so_dev_up))\n",
    "print(np.median(so_dev_down))\n",
    "\n",
    "print(\"SO Averages\")\n",
    "print(np.average(so_dev_up))\n",
    "print(np.average(so_dev_down))\n",
    "\n",
    "mydev_up = [i/j for i,j in zip(raderrup, star_radii)]\n",
    "mydev_down = [i/j for i,j in zip(raderrdown, star_radii)]\n",
    "print(\"My medians\")\n",
    "print(np.median(mydev_up))\n",
    "print(np.median(mydev_down))\n",
    "\n",
    "print(\"My averages\")\n",
    "print(np.average(mydev_up))\n",
    "print(np.average(mydev_down))"
   ]
  },
  {
   "cell_type": "code",
   "execution_count": 53,
   "metadata": {},
   "outputs": [
    {
     "data": {
      "text/plain": [
       "62"
      ]
     },
     "execution_count": 53,
     "metadata": {},
     "output_type": "execute_result"
    }
   ],
   "source": [
    "adivr = [adivr[i] for i in range(0,len(kepid)) if kepid[i] != 11030475]\n",
    "len(adivr)"
   ]
  },
  {
   "cell_type": "code",
   "execution_count": 54,
   "metadata": {},
   "outputs": [
    {
     "ename": "NameError",
     "evalue": "name 'magradii' is not defined",
     "output_type": "error",
     "traceback": [
      "\u001b[0;31m---------------------------------------------------------------------------\u001b[0m",
      "\u001b[0;31mNameError\u001b[0m                                 Traceback (most recent call last)",
      "\u001b[0;32m<ipython-input-54-335bd5acaec5>\u001b[0m in \u001b[0;36m<module>\u001b[0;34m\u001b[0m\n\u001b[0;32m----> 1\u001b[0;31m \u001b[0ma_hope\u001b[0m \u001b[0;34m=\u001b[0m \u001b[0;34m[\u001b[0m\u001b[0mi\u001b[0m\u001b[0;34m*\u001b[0m\u001b[0mj\u001b[0m \u001b[0;32mfor\u001b[0m \u001b[0mi\u001b[0m\u001b[0;34m,\u001b[0m \u001b[0mj\u001b[0m \u001b[0;32min\u001b[0m \u001b[0mzip\u001b[0m\u001b[0;34m(\u001b[0m\u001b[0madivr\u001b[0m\u001b[0;34m,\u001b[0m \u001b[0mmagradii\u001b[0m\u001b[0;34m)\u001b[0m\u001b[0;34m]\u001b[0m\u001b[0;34m\u001b[0m\u001b[0;34m\u001b[0m\u001b[0m\n\u001b[0m",
      "\u001b[0;31mNameError\u001b[0m: name 'magradii' is not defined"
     ]
    }
   ],
   "source": [
    "a_hope = [i*j for i, j in zip(adivr, magradii)]"
   ]
  },
  {
   "cell_type": "code",
   "execution_count": 55,
   "metadata": {},
   "outputs": [
    {
     "ename": "NameError",
     "evalue": "name 'a_hope' is not defined",
     "output_type": "error",
     "traceback": [
      "\u001b[0;31m---------------------------------------------------------------------------\u001b[0m",
      "\u001b[0;31mNameError\u001b[0m                                 Traceback (most recent call last)",
      "\u001b[0;32m<ipython-input-55-452fafa6b331>\u001b[0m in \u001b[0;36m<module>\u001b[0;34m\u001b[0m\n\u001b[0;32m----> 1\u001b[0;31m \u001b[0mprint\u001b[0m\u001b[0;34m(\u001b[0m\u001b[0;34m[\u001b[0m\u001b[0mi\u001b[0m\u001b[0;34m*\u001b[0m\u001b[0mSunradius\u001b[0m\u001b[0;34m/\u001b[0m\u001b[0;36m1000\u001b[0m \u001b[0;32mfor\u001b[0m \u001b[0mi\u001b[0m \u001b[0;32min\u001b[0m \u001b[0ma_hope\u001b[0m\u001b[0;34m]\u001b[0m\u001b[0;34m)\u001b[0m\u001b[0;34m\u001b[0m\u001b[0;34m\u001b[0m\u001b[0m\n\u001b[0m",
      "\u001b[0;31mNameError\u001b[0m: name 'a_hope' is not defined"
     ]
    }
   ],
   "source": [
    "print([i*Sunradius/1000 for i in a_hope])"
   ]
  },
  {
   "cell_type": "code",
   "execution_count": 56,
   "metadata": {},
   "outputs": [],
   "source": [
    "per = [per[i] for i in range(0,len(kepid)) if kepid[i] != 11030475]\n"
   ]
  },
  {
   "cell_type": "code",
   "execution_count": 57,
   "metadata": {},
   "outputs": [
    {
     "name": "stdout",
     "output_type": "stream",
     "text": [
      "[0.1973335, 0.48765719, 0.76669043, 0.35500753, 0.25255594, 0.74092963, 0.6364249, 0.30598391, 0.30160087, 0.97730809, 0.92831093, 0.57103885, 0.81316598, 0.89638348, 0.75445863, 0.86838702, 0.67933587, 0.62628076, 0.70862545, 0.88183821, 0.93512027, 0.675652, 0.92103467, 0.97486662, 0.82628363, 0.56785704, 0.66502914, 0.7165313, 0.76401932, 0.63400313, 0.60992303, 0.67737578, 0.63816268, 0.96896529, 0.96852469, 0.96286621, 0.35251639, 0.76985432, 0.70194345, 0.55884253, 0.69384332, 0.82715274, 0.57736948, 0.66308666, 0.68920948, 0.66407444, 0.76295078, 0.63133223, 0.92785963, 0.93846561, 0.66931017, 0.9849389, 0.8399616, 0.8374906, 0.59701811, 0.76486301, 0.52417582, 0.78916057, 0.341842, 0.93875053, 0.84338039, 0.53835457]\n"
     ]
    }
   ],
   "source": [
    "print(per)"
   ]
  },
  {
   "cell_type": "code",
   "execution_count": 58,
   "metadata": {},
   "outputs": [
    {
     "data": {
      "text/plain": [
       "62"
      ]
     },
     "execution_count": 58,
     "metadata": {},
     "output_type": "execute_result"
    }
   ],
   "source": [
    "len(per)"
   ]
  },
  {
   "cell_type": "code",
   "execution_count": 59,
   "metadata": {},
   "outputs": [],
   "source": [
    "np.savetxt(\"USP_planet_info.txt\", (kepid, koi, per), header = \"kepid, koi, period\")"
   ]
  },
  {
   "cell_type": "code",
   "execution_count": 60,
   "metadata": {},
   "outputs": [
    {
     "name": "stdout",
     "output_type": "stream",
     "text": [
      "['KIC', 'iso_mass', 'iso_mass_err1', 'iso_mass_err2', 'iso_teff', 'iso_teff_err1', 'iso_teff_err2', 'iso_logg', 'iso_logg_err1', 'iso_logg_err2', 'iso_feh', 'iso_feh_err1', 'iso_feh_err2', 'iso_rad', 'iso_rad_err1', 'iso_rad_err2', 'iso_rho', 'iso_rho_err1', 'iso_rho_err2', 'iso_lum', 'iso_lum_err1', 'iso_lum_err2', 'iso_age', 'unReAgeFlag', 'iso_age_err1', 'iso_age_err2', 'iso_dis', 'iso_dis_err1', 'iso_dis_err2', 'iso_avs', 'iso_gof', 'TAMS\\\\\\\\']\n"
     ]
    }
   ],
   "source": [
    "berger = \"GKSPCPapTable2_Final.txt\"\n",
    "\n",
    "berger_kic = []\n",
    "berger_masses = []\n",
    "berger_errup = []\n",
    "berger_errdown = []\n",
    "\n",
    "import csv\n",
    "\n",
    "with open('GKSPCPapTable2_Final.txt') as csv_file:\n",
    "    read = csv.reader(csv_file, delimiter = '&')\n",
    "    line_count = 0\n",
    "    for row in read:\n",
    "        if line_count == 0:\n",
    "            print(row)\n",
    "        else:\n",
    "            berger_kic.append(int(row[0]))\n",
    "            berger_masses.append(float(row[1]))\n",
    "            berger_errup.append(float(row[2]))\n",
    "            berger_errdown.append(float(row[3]))\n",
    "        line_count += 1\n",
    "    "
   ]
  },
  {
   "cell_type": "code",
   "execution_count": 149,
   "metadata": {},
   "outputs": [
    {
     "data": {
      "text/plain": [
       "[2718885, 8435766, 9642018, 11187332, 11550689, 9149789, 8416523]"
      ]
     },
     "execution_count": 149,
     "metadata": {},
     "output_type": "execute_result"
    }
   ],
   "source": [
    "short_per_kic = [kepid[i] for i in range(len(per))  if per[i]*24 < 10]\n",
    "short_per_kic"
   ]
  },
  {
   "cell_type": "code",
   "execution_count": 150,
   "metadata": {},
   "outputs": [
    {
     "data": {
      "text/plain": [
       "[2718885, 8435766, 9642018, 11187332, 11550689, 9149789, 8416523]"
      ]
     },
     "execution_count": 150,
     "metadata": {},
     "output_type": "execute_result"
    }
   ],
   "source": [
    "short_per_kic"
   ]
  },
  {
   "cell_type": "code",
   "execution_count": 156,
   "metadata": {},
   "outputs": [
    {
     "data": {
      "text/plain": [
       "array([0.63989677, 0.01535057, 0.01601696, 0.02372465])"
      ]
     },
     "execution_count": 156,
     "metadata": {},
     "output_type": "execute_result"
    }
   ],
   "source": [
    "np.loadtxt(\"stellar_radii.txt\")[:,kepid.index(11550689)]"
   ]
  },
  {
   "cell_type": "code",
   "execution_count": 161,
   "metadata": {},
   "outputs": [
    {
     "data": {
      "text/plain": [
       "(array([325., 662.,   7.,   0.,   1.,   0.,   0.,   2.,   1.,   2.]),\n",
       " array([1.30191951, 1.40111022, 1.50030094, 1.59949166, 1.69868238,\n",
       "        1.7978731 , 1.89706382, 1.99625453, 2.09544525, 2.19463597,\n",
       "        2.29382669]),\n",
       " <BarContainer object of 10 artists>)"
      ]
     },
     "execution_count": 161,
     "metadata": {},
     "output_type": "execute_result"
    },
    {
     "data": {
      "image/png": "[encoded data removed]",
      "text/plain": [
       "<Figure size 432x288 with 1 Axes>"
      ]
     },
     "metadata": {
      "needs_background": "light"
     },
     "output_type": "display_data"
    }
   ],
   "source": [
    "plt.hist((np.loadtxt(\"planet_radius_samples.txt\")[kepid.index(11550689)]))"
   ]
  },
  {
   "cell_type": "code",
   "execution_count": 62,
   "metadata": {},
   "outputs": [
    {
     "data": {
      "text/plain": [
       "4719"
      ]
     },
     "execution_count": 62,
     "metadata": {},
     "output_type": "execute_result"
    }
   ],
   "source": [
    "berger_kic.index(2718885)"
   ]
  },
  {
   "cell_type": "code",
   "execution_count": 63,
   "metadata": {},
   "outputs": [
    {
     "name": "stdout",
     "output_type": "stream",
     "text": [
      "0.962\n",
      "0.072\n",
      "-0.068\n"
     ]
    }
   ],
   "source": [
    "print(berger_masses[4719])\n",
    "print(berger_errup[4719])\n",
    "print(berger_errdown[4719])\n"
   ]
  },
  {
   "cell_type": "code",
   "execution_count": 64,
   "metadata": {},
   "outputs": [
    {
     "data": {
      "text/plain": [
       "1.2968750519471233"
      ]
     },
     "execution_count": 64,
     "metadata": {},
     "output_type": "execute_result"
    }
   ],
   "source": [
    "star_masses[kepid.index(2718885)]"
   ]
  },
  {
   "cell_type": "code",
   "execution_count": 65,
   "metadata": {},
   "outputs": [
    {
     "name": "stdout",
     "output_type": "stream",
     "text": [
      "My mass:  1.2968750519471233 +- 0.07918378787267837\n",
      "Berger mass:  0.962 + 0.072 - -0.068\n",
      "My mass:  0.7862812751906771 +- 0.03558176867943908\n",
      "Berger mass:  0.758 + 0.039 - -0.041\n",
      "My mass:  0.8563772294974714 +- 0.04364830332682748\n",
      "Berger mass:  0.822 + 0.042 - -0.052\n",
      "My mass:  0.9516517264594494 +- 0.05543481143503451\n",
      "Berger mass:  0.891 + 0.065 - -0.063\n",
      "My mass:  0.6611363334529424 +- 0.036828228984746164\n",
      "Berger mass:  0.64 + 0.022 - -0.017\n",
      "My mass:  0.8298813792108335 +- 0.0443344231992615\n",
      "Berger mass:  0.839 + 0.036 - -0.049\n",
      "My mass:  0.7879856655646151 +- 0.0361349071378484\n",
      "Berger mass:  0.766 + 0.036 - -0.041\n"
     ]
    }
   ],
   "source": [
    "my_short_period_masses = np.zeros((2, len(short_per_kic)))\n",
    "berger_short_period_masses = np.zeros((3, len(short_per_kic)))\n",
    "for index, i in enumerate(short_per_kic):\n",
    "    berger_index = berger_kic.index(i)\n",
    "    my_index = kepid.index(i)\n",
    "    print(\"My mass: \", star_masses[my_index], \"+-\", star_mass_sigma[my_index])\n",
    "    print(\"Berger mass: \", berger_masses[berger_index], \"+\", berger_errup[berger_index], \n",
    "          \"-\", berger_errdown[berger_index])\n",
    "    my_short_period_masses[0][index] = star_masses[my_index]\n",
    "    my_short_period_masses[1][index] = star_mass_sigma[my_index]\n",
    "    berger_short_period_masses[0][index] = berger_masses[berger_index]\n",
    "    berger_short_period_masses[1][index] = berger_errup[berger_index]\n",
    "    berger_short_period_masses[2][index] = abs(berger_errdown[berger_index])"
   ]
  },
  {
   "cell_type": "code",
   "execution_count": 66,
   "metadata": {},
   "outputs": [
    {
     "data": {
      "image/png": "[encoded data removed]",
      "text/plain": [
       "<Figure size 432x288 with 1 Axes>"
      ]
     },
     "metadata": {
      "needs_background": "light"
     },
     "output_type": "display_data"
    }
   ],
   "source": [
    "plt.plot(my_short_period_masses[0], berger_short_period_masses[0], 'o')\n",
    "plt.errorbar(my_short_period_masses[0], berger_short_period_masses[0], xerr = my_short_period_masses[1],\n",
    "            yerr = [berger_short_period_masses[2], berger_short_period_masses[1]], c = 'k', linestyle = 'None')\n",
    "plt.plot(np.linspace(0,1.3), np.linspace(0,1.3))\n",
    "plt.xlabel(\"My masses\")\n",
    "plt.ylabel(\"Berger masses\")\n",
    "plt.show()"
   ]
  },
  {
   "cell_type": "code",
   "execution_count": 67,
   "metadata": {},
   "outputs": [
    {
     "data": {
      "text/plain": [
       "2718885"
      ]
     },
     "execution_count": 67,
     "metadata": {},
     "output_type": "execute_result"
    }
   ],
   "source": [
    "kepid[0]"
   ]
  },
  {
   "cell_type": "code",
   "execution_count": 68,
   "metadata": {},
   "outputs": [
    {
     "data": {
      "text/plain": [
       "4.736003999999999"
      ]
     },
     "execution_count": 68,
     "metadata": {},
     "output_type": "execute_result"
    }
   ],
   "source": [
    "per[0] * 24"
   ]
  },
  {
   "cell_type": "markdown",
   "metadata": {},
   "source": [
    "### Calculate semimajor axis using Kepler's 3rd law"
   ]
  },
  {
   "cell_type": "code",
   "execution_count": 69,
   "metadata": {},
   "outputs": [],
   "source": [
    "#my_short_period_masses[0][0] = 0.9530990489476084"
   ]
  },
  {
   "cell_type": "code",
   "execution_count": 70,
   "metadata": {},
   "outputs": [
    {
     "data": {
      "text/plain": [
       "array([[1.29687505, 0.78628128, 0.85637723, 0.95165173, 0.66113633,\n",
       "        0.82988138, 0.78798567],\n",
       "       [0.07918379, 0.03558177, 0.0436483 , 0.05543481, 0.03682823,\n",
       "        0.04433442, 0.03613491]])"
      ]
     },
     "execution_count": 70,
     "metadata": {},
     "output_type": "execute_result"
    }
   ],
   "source": [
    "my_short_period_masses"
   ]
  },
  {
   "cell_type": "code",
   "execution_count": 71,
   "metadata": {},
   "outputs": [],
   "source": [
    "G = 6.67e-11\n",
    "Msun = 1.989e30 ## kg\n",
    "\n",
    "per_seconds = [i * 24 * 3600 for i in per]"
   ]
  },
  {
   "cell_type": "code",
   "execution_count": 72,
   "metadata": {},
   "outputs": [],
   "source": [
    "def a(M, per):\n",
    "    per = per * 24 * 3600\n",
    "    return ((((G * M * Msun) / (4 * np.pi * np.pi)) * per * per)**(1/3) ) * 1e-3"
   ]
  },
  {
   "cell_type": "code",
   "execution_count": 73,
   "metadata": {},
   "outputs": [
    {
     "data": {
      "text/plain": [
       "1082038.498060307"
      ]
     },
     "execution_count": 73,
     "metadata": {},
     "output_type": "execute_result"
    }
   ],
   "source": [
    "a(star_masses[0], per[0])"
   ]
  },
  {
   "cell_type": "code",
   "execution_count": 74,
   "metadata": {},
   "outputs": [
    {
     "data": {
      "text/plain": [
       "0.99940098053599"
      ]
     },
     "execution_count": 74,
     "metadata": {},
     "output_type": "execute_result"
    }
   ],
   "source": [
    "a(1, 365) / 1.496e8"
   ]
  },
  {
   "cell_type": "code",
   "execution_count": 75,
   "metadata": {},
   "outputs": [],
   "source": [
    "a_in_m = [(((G * M * Msun) / (4 * np.pi * np.pi)) * per * per)**(1/3) for M, per in \n",
    "        zip(my_short_period_masses[0], [i * 24 * 3600 for i in per if i*24 < 10.])]"
   ]
  },
  {
   "cell_type": "code",
   "execution_count": 76,
   "metadata": {},
   "outputs": [
    {
     "data": {
      "text/plain": [
       "999.40098053599"
      ]
     },
     "execution_count": 76,
     "metadata": {},
     "output_type": "execute_result"
    }
   ],
   "source": [
    "(((G * 1 * Msun) / (4 * np.pi * np.pi)) * 365*24*3600 *365* 24*3600)**(1/3) / 1.496e8"
   ]
  },
  {
   "cell_type": "code",
   "execution_count": 77,
   "metadata": {},
   "outputs": [
    {
     "data": {
      "text/plain": [
       "[1082038498.060307,\n",
       " 1354650129.3440285,\n",
       " 1110715631.0987,\n",
       " 1307478416.335754,\n",
       " 1146906964.7275114,\n",
       " 1372780193.2132268,\n",
       " 1321901741.2339056]"
      ]
     },
     "execution_count": 77,
     "metadata": {},
     "output_type": "execute_result"
    }
   ],
   "source": [
    "a_in_m"
   ]
  },
  {
   "cell_type": "code",
   "execution_count": 78,
   "metadata": {},
   "outputs": [],
   "source": [
    "a_in_km = np.array(a_in_m) * 1e-3"
   ]
  },
  {
   "cell_type": "code",
   "execution_count": 79,
   "metadata": {},
   "outputs": [
    {
     "data": {
      "text/plain": [
       "array([1082038.49806031, 1354650.12934403, 1110715.6310987 ,\n",
       "       1307478.41633575, 1146906.96472751, 1372780.19321323,\n",
       "       1321901.74123391])"
      ]
     },
     "execution_count": 79,
     "metadata": {},
     "output_type": "execute_result"
    }
   ],
   "source": [
    "a_in_km"
   ]
  },
  {
   "cell_type": "code",
   "execution_count": 80,
   "metadata": {},
   "outputs": [
    {
     "data": {
      "text/plain": [
       "62"
      ]
     },
     "execution_count": 80,
     "metadata": {},
     "output_type": "execute_result"
    }
   ],
   "source": [
    "len(planet_radii_samples)"
   ]
  },
  {
   "cell_type": "code",
   "execution_count": 81,
   "metadata": {},
   "outputs": [],
   "source": [
    "short_per_indices = [i for i in range(len(per))  if per[i]*24 < 10]"
   ]
  },
  {
   "cell_type": "code",
   "execution_count": 82,
   "metadata": {},
   "outputs": [],
   "source": [
    "short_per_radii_samples = np.array([planet_radii_samples[i] for i in short_per_indices]).flatten()"
   ]
  },
  {
   "cell_type": "code",
   "execution_count": 83,
   "metadata": {},
   "outputs": [
    {
     "data": {
      "text/plain": [
       "(7000,)"
      ]
     },
     "execution_count": 83,
     "metadata": {},
     "output_type": "execute_result"
    }
   ],
   "source": [
    "np.shape(short_per_radii_samples)"
   ]
  },
  {
   "cell_type": "code",
   "execution_count": 84,
   "metadata": {},
   "outputs": [],
   "source": [
    "short_per_a_km = np.array([a * np.ones(1000) for a in a_in_km]).flatten()\n",
    "short_per_per_days = np.array([i * np.ones(1000) for i in per if i * 24 < 10.]).flatten()\n",
    "short_per_cmf = 0.33 * np.ones_like(short_per_radii_samples)"
   ]
  },
  {
   "cell_type": "code",
   "execution_count": 85,
   "metadata": {},
   "outputs": [],
   "source": [
    "np.savetxt(\"short_per_interp_inputs.txt\", [short_per_radii_samples, short_per_a_km, short_per_per_days, short_per_cmf],\n",
    "          header = \"radius sample, a (km), per (days), CMF\")"
   ]
  },
  {
   "cell_type": "markdown",
   "metadata": {},
   "source": [
    "## Running isochrones without photometric bands"
   ]
  },
  {
   "cell_type": "code",
   "execution_count": null,
   "metadata": {},
   "outputs": [],
   "source": [
    "bands = ['K']\n",
    "mist2 = MIST_Isochrone(bands = bands)\n",
    "star_radii2 = []\n",
    "star_rad_sigma2 = []\n",
    "star_rad_array2 = []\n",
    "star_masses2 = []\n",
    "star_mass_sigma2 = []\n",
    "deltaarray2 = []\n",
    "fifteen2 = []\n",
    "eightyfive2 = []\n",
    "num_samples = 1000\n",
    "planet_radii_samples2 = []"
   ]
  },
  {
   "cell_type": "code",
   "execution_count": null,
   "metadata": {},
   "outputs": [],
   "source": [
    "for i in range(0, len(kepid2)):\n",
    "    radiisamples = []\n",
    "    mags = {'K':(kmag[i],0.05)}\n",
    "    if (tefferr[i] != 0):\n",
    "        try:\n",
    "            model = StarModel(mist2, logg = (logg[i],loggerr[i]), teff = (teff[i], tefferr[i]),feh = (feh[i],feherr[i]), parallax = (parallax2[i],perror2[i]), **mags)\n",
    "        except:\n",
    "            model = StarModel(mist2, parallax = (parallax2[i], perror2[i]), **mags)    \n",
    "    else:\n",
    "        model = StarModel(mist2, parallax = (parallax2[i], perror2[i]), **mags)\n",
    "    StarModel.fit_multinest(model,n_live_points=1000, basename=None, verbose=False, refit=True, overwrite=True,test=False)\n",
    "    star_radii2.append(model.samples.radius_0_0.quantile(0.5))\n",
    "    star_masses2.append(model.samples.mass_0_0.quantile(0.5))\n",
    "    star_rad_sigma2.append(np.std(model.samples.radius_0_0))\n",
    "    star_mass_sigma2.append(np.std(model.samples.mass_0_0))\n",
    "    fifteen2.append(np.percentile(model.samples.radius_0_0, 15.85))\n",
    "    eightyfive2.append(np.percentile(model.samples.radius_0_0, 84.15))\n",
    "    star_rad_array = np.random.choice(model.samples.radius_0_0, num_samples) ## star radii\n",
    "    deltaarray = np.random.normal(delta[i],derror[i], num_samples)\n",
    "    for j in range(len(star_rad_array)):\n",
    "        if deltaarray[j] > 0:\n",
    "            radiisamples.append((star_rad_array[j]*Sunradius*np.sqrt(deltaarray[j]/1000000))/Earthradius)\n",
    "        else:\n",
    "            radiisamples.append(np.nan)\n",
    "    planet_radii_samples2.append(radiisamples)\n",
    "    print(i)\n",
    "    print(model.samples.mass_0_0.quantile(0.5))"
   ]
  },
  {
   "cell_type": "code",
   "execution_count": null,
   "metadata": {},
   "outputs": [],
   "source": [
    "star_masses2"
   ]
  },
  {
   "cell_type": "code",
   "execution_count": 56,
   "metadata": {},
   "outputs": [
    {
     "data": {
      "text/plain": [
       "(63, 62)"
      ]
     },
     "execution_count": 56,
     "metadata": {},
     "output_type": "execute_result"
    }
   ],
   "source": [
    "len(star_masses), len(star_masses2)"
   ]
  },
  {
   "cell_type": "code",
   "execution_count": 374,
   "metadata": {},
   "outputs": [
    {
     "data": {
      "image/png": "[encoded data removed]",
      "text/plain": [
       "<Figure size 432x288 with 1 Axes>"
      ]
     },
     "metadata": {},
     "output_type": "display_data"
    }
   ],
   "source": [
    "plt.plot(star_masses, star_masses2, 'o')\n",
    "plt.errorbar(star_masses, star_masses2, xerr = star_mass_sigma, yerr = star_mass_sigma2, linestyle = 'None', c = 'k')\n",
    "plt.plot(np.linspace(0.6, 2), np.linspace(0.6, 2))\n",
    "plt.xlabel(\"Isochrones mass with all photometric bands\")\n",
    "plt.ylabel(\"Isochrones mass with only Kepler band\")\n",
    "plt.show()"
   ]
  },
  {
   "cell_type": "code",
   "execution_count": 369,
   "metadata": {},
   "outputs": [
    {
     "data": {
      "text/plain": [
       "[1.1476784436950653,\n",
       " 0.9962431748665481,\n",
       " 0.7557836860963465,\n",
       " 0.8089263726939996,\n",
       " 0.8661423144464417,\n",
       " 0.8716657311544639,\n",
       " 0.9488365063631623,\n",
       " 0.9334769126917974,\n",
       " 0.6481575679053396,\n",
       " 0.7161112070268475,\n",
       " 0.664944275935735,\n",
       " 0.8596087070004356,\n",
       " 0.9359116632317451,\n",
       " 0.9548914972850078,\n",
       " 1.0371760919659598,\n",
       " 0.7157830182799094,\n",
       " 0.9034219806820949,\n",
       " 0.7989961280650311,\n",
       " 0.943280963270393,\n",
       " 0.8185828843745226,\n",
       " 1.191774814766074,\n",
       " 1.015545520141728,\n",
       " 1.2470391975752089,\n",
       " 0.8776297561188625,\n",
       " 1.0856813570874044,\n",
       " 0.7739030291475081,\n",
       " 1.03335219406113,\n",
       " 0.8925738846697834,\n",
       " 0.7539724576089691,\n",
       " 0.794693249506518,\n",
       " 0.8922674830344753,\n",
       " 1.9257547990174757,\n",
       " 0.8613504996078447,\n",
       " 1.3646282138615682,\n",
       " 0.9711848485984373,\n",
       " 0.9513134807733994,\n",
       " 0.8663508724871412,\n",
       " 0.8478424063862919,\n",
       " 0.6540591415617676,\n",
       " 0.8083886091776638,\n",
       " 1.0211423345384651,\n",
       " 0.7484994396936061,\n",
       " 0.6990767836583955,\n",
       " 0.846264601991477,\n",
       " 1.0417444322538434,\n",
       " 0.8248372468595736,\n",
       " 0.8377778770843051,\n",
       " 0.7451387760154963,\n",
       " 0.7393203089696184,\n",
       " 0.9357129931065492,\n",
       " 1.0750101016345197,\n",
       " 0.9945107119877175,\n",
       " 0.7499997281176309,\n",
       " 1.010824829374741,\n",
       " 0.7902712018042509,\n",
       " 0.8586194753202347,\n",
       " 0.8938715969670891,\n",
       " 0.6463786657574017,\n",
       " 0.7989241718071995,\n",
       " 0.9710784655764501,\n",
       " 0.784681544410106,\n",
       " 0.9504048958208039]"
      ]
     },
     "execution_count": 369,
     "metadata": {},
     "output_type": "execute_result"
    }
   ],
   "source": [
    "star_masses2"
   ]
  },
  {
   "cell_type": "code",
   "execution_count": 376,
   "metadata": {},
   "outputs": [
    {
     "data": {
      "text/plain": [
       "9"
      ]
     },
     "execution_count": 376,
     "metadata": {},
     "output_type": "execute_result"
    }
   ],
   "source": [
    "len(falsepositives)"
   ]
  },
  {
   "cell_type": "code",
   "execution_count": 378,
   "metadata": {},
   "outputs": [
    {
     "name": "stdout",
     "output_type": "stream",
     "text": [
      "1.1190778616259538\n"
     ]
    }
   ],
   "source": [
    "for i in range(0, 1):\n",
    "    radiisamples = []\n",
    "    mags = {'Kepler':(kepmag[i],0.05)}\n",
    "#     if (tefferr[i] != 0):\n",
    "#         #try:\n",
    "#         model = StarModel(mist, logg = (logg[i],loggerr[i]), teff = (teff[i], tefferr[i]),feh = (feh[i],feherr[i]), parallax = (parallax2[i], perror2[i]))\n",
    "#         #except:\n",
    "#             #model = StarModel(mist, parallax = (parallax2[i], perror2[i]), **mags)    \n",
    "#     else:\n",
    "    model = StarModel(mist2, parallax = (parallax2[i], perror2[i]), **mags)\n",
    "    StarModel.fit_multinest(model,n_live_points=1000, basename=None, verbose=False, refit=True, overwrite=True,test=False)\n",
    "    print(model.samples.mass_0_0.quantile(0.5))"
   ]
  },
  {
   "cell_type": "code",
   "execution_count": 394,
   "metadata": {},
   "outputs": [
    {
     "data": {
      "text/plain": [
       "0.02214886227133261"
      ]
     },
     "execution_count": 394,
     "metadata": {},
     "output_type": "execute_result"
    }
   ],
   "source": [
    "3313469.7957913587 / 1.496e8"
   ]
  },
  {
   "cell_type": "code",
   "execution_count": 177,
   "metadata": {},
   "outputs": [
    {
     "data": {
      "text/plain": [
       "15.415"
      ]
     },
     "execution_count": 177,
     "metadata": {},
     "output_type": "execute_result"
    }
   ],
   "source": [
    "kepmag[kepid.index()]"
   ]
  }
 ],
 "metadata": {
  "kernelspec": {
   "display_name": "Python 3",
   "language": "python",
   "name": "python3"
  },
  "language_info": {
   "codemirror_mode": {
    "name": "ipython",
    "version": 3
   },
   "file_extension": ".py",
   "mimetype": "text/x-python",
   "name": "python",
   "nbconvert_exporter": "python",
   "pygments_lexer": "ipython3",
   "version": "3.6.8"
  }
 },
 "nbformat": 4,
 "nbformat_minor": 2
}
