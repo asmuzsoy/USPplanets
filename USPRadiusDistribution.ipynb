{
 "cells": [
  {
   "cell_type": "code",
   "execution_count": 3,
   "metadata": {
    "collapsed": true
   },
   "outputs": [],
   "source": [
    "import numpy as np\n",
    "import csv"
   ]
  },
  {
   "cell_type": "code",
   "execution_count": 4,
   "metadata": {
    "collapsed": true
   },
   "outputs": [],
   "source": [
    "Earthradius = 6371000\n",
    "Sunradius = 695508000"
   ]
  },
  {
   "cell_type": "markdown",
   "metadata": {},
   "source": []
  },
  {
   "cell_type": "code",
   "execution_count": 5,
   "metadata": {
    "collapsed": true
   },
   "outputs": [],
   "source": [
    "kepid = []\n",
    "koi = []\n",
    "per = []\n",
    "adivr = []\n",
    "delta = []\n",
    "derror = []"
   ]
  },
  {
   "cell_type": "markdown",
   "metadata": {},
   "source": [
    "We want our planet sample to match that of Sanchis-Ojeda et al. (2014). They present 106 candidates, but their occurrence rate calculations focus on USP planets around G and K stars, that have effective temperatures between 4100 and 6100 K, log(g) between 4.0 and 4.9, and Kepler magnitudes below 16. The \"constrain\" function that I define applies these to a CSV, where I just have to enter the column numbers for each of these. The file that I open is Table 2 from  Sanchis-Ojeda et al. (2014), where we also constrain for orbital periods between 4 and 24 hours and radii between 0.84 and 4 Earth radii.\n",
    "\n",
    "For each of these planets, we record the KIC, KOI, orbital period, transit probability, and transit depth along with its uncertainty."
   ]
  },
  {
   "cell_type": "code",
   "execution_count": 6,
   "metadata": {
    "collapsed": true
   },
   "outputs": [],
   "source": [
    "def constrain(teff, logg, mkep):\n",
    "    if ((row[teff] != \"\") and (4100 < float(row[teff]) < 6100)):\n",
    "        if (((row[logg]) != \"\") and (4.0  < float(row[logg]) < 4.9)):\n",
    "            if ((row[mkep] != \"\") and (float(row[mkep]) < 16)):\n",
    "                return True"
   ]
  },
  {
   "cell_type": "code",
   "execution_count": 7,
   "metadata": {},
   "outputs": [
    {
     "name": "stdout",
     "output_type": "stream",
     "text": [
      "72\n"
     ]
    }
   ],
   "source": [
    "with open('USPCandidates.csv', encoding='latin-1') as File:\n",
    "    reader = csv.reader(File, delimiter=',')\n",
    "    rownum = 0\n",
    "    for row in reader:\n",
    "        if rownum > 0:\n",
    "            if constrain(3,6,2):\n",
    "                if ((row[12] != \"\") and (4 < (float(row[12])*24) < 24)):\n",
    "                    if ((row[23] != \"\") and (.84 < (float(row[23])) < 4)):\n",
    "                        kepid.append(int(row[0]))\n",
    "                        koi.append(int(round(float(row[1]))))\n",
    "                        per.append(float(row[12]))\n",
    "                        adivr.append(float(row[20]))\n",
    "                        delta.append(float(row[14]))\n",
    "                        derror.append(float(row[15]))\n",
    "\n",
    "        rownum += 1 \n",
    "        \n",
    "print(len(kepid))"
   ]
  },
  {
   "cell_type": "code",
   "execution_count": 8,
   "metadata": {},
   "outputs": [
    {
     "name": "stdout",
     "output_type": "stream",
     "text": [
      "63\n"
     ]
    }
   ],
   "source": [
    "falsepositives = [4929299, 10527135, 5642620, 12170648, 3834322,6750902,7269881,10186945,12115188]\n",
    "\n",
    "todelete = []\n",
    "for j in range(0,len(falsepositives)):\n",
    "    for i in range(0, len(kepid)):\n",
    "        if kepid[i] == falsepositives[j]:\n",
    "            todelete.append(i)\n",
    "            \n",
    "todelete.reverse()\n",
    "for k in todelete:\n",
    "    del kepid[k]\n",
    "    del koi[k]\n",
    "    del per[k]\n",
    "    del adivr[k]\n",
    "    del delta[k]\n",
    "    del derror[k]\n",
    "print(len(kepid))"
   ]
  },
  {
   "cell_type": "markdown",
   "metadata": {},
   "source": [
    "There are 72 planets that fit these criteria. Their paper says they use 69, so we're pretty close.\n",
    "\n",
    "Now we have to calculate the occurrence rate of USP planets. To do this, we use the formula for Signal to Noise Ratio (SNR) from Howard et al. (2012), which is as follows:\n",
    "\n",
    "\\begin{equation}\n",
    "    SNR = \\frac{\\delta}{\\sigma_{CDPP}}\\sqrt{\\frac{T_{0}t}{(6\\: hr)P_{orb}}}\n",
    "\\end{equation}\n",
    "\n",
    "We calculate the SNR for each planet/host star pair.\n",
    "\n",
    "We use the Kepler catalog to get the host star parameters, and record the Teff, log(g), and Fe/H.  "
   ]
  },
  {
   "cell_type": "code",
   "execution_count": 9,
   "metadata": {},
   "outputs": [
    {
     "name": "stdout",
     "output_type": "stream",
     "text": [
      "Total number of stars searched:  105266\n"
     ]
    }
   ],
   "source": [
    "stars1 = []\n",
    "snr = np.zeros(len(kepid))\n",
    "teff= np.zeros(len(kepid))\n",
    "logg = np.zeros(len(kepid))\n",
    "feh = np.zeros(len(kepid))\n",
    "\n",
    "with open('keplerstellar.csv') as File:\n",
    "    reader = csv.reader(File, delimiter=',')\n",
    "    rownum = 0\n",
    "    for row in reader:\n",
    "        if rownum > 0:\n",
    "            if constrain(6,8,5):\n",
    "                if \"1\" in (str(row[19])[:16]):\n",
    "                    if ((row[1]) != \"\") and \"q1_q16\" in str(row[0]):\n",
    "                        stars1.append(int(row[1])) \n",
    "                        if row[21] != \"\" and row[22] != \"\":\n",
    "                            time = float(row[21])*float(row[22])\n",
    "                            if row[23] != \"\":\n",
    "                                for i in range(len(kepid)):\n",
    "                                    if int(row[1]) == kepid[i]:\n",
    "                                        t = (per[i]*24)*(1/adivr[i])*(1/np.pi) # transit duration\n",
    "                                        snr[i] = ((delta[i]/(float(row[23])))*np.sqrt((t*time)/(per[i]*6)))\n",
    "                                        teff[i] = (float(row[6]))\n",
    "                                        logg[i] = (float(row[8]))\n",
    "                                        feh[i] = (float(row[10]))\n",
    "                                        \n",
    "        rownum += 1\n",
    "print(\"Total number of stars searched: \", len(stars1))"
   ]
  },
  {
   "cell_type": "markdown",
   "metadata": {},
   "source": [
    "The total number of stars searched matches pretty well the number reported in Sanchis-Ojeda et al. (2014).\n",
    "\n",
    "The Kepler catalog really isn't the best place to get stellar parameters, so I'm replacing the values with ones from Winn et al. (2017) that use the updated CKS parameteters. But not all of the stars I need values for are in that population, so I'll just keep the Kepler values for those."
   ]
  },
  {
   "cell_type": "code",
   "execution_count": 10,
   "metadata": {},
   "outputs": [
    {
     "name": "stdout",
     "output_type": "stream",
     "text": [
      "43\n"
     ]
    }
   ],
   "source": [
    "loggerr = np.zeros(len(kepid))\n",
    "tefferr = np.zeros(len(kepid))\n",
    "feherr = np.zeros(len(kepid))\n",
    "\n",
    "count = 0\n",
    "with open('ajaa7b7ct1_ascii.csv') as File:\n",
    "    reader = csv.reader(File, delimiter=',')\n",
    "    rownum = 0\n",
    "    for row in reader:\n",
    "        if rownum > 2:\n",
    "            for i in range(len(kepid)):\n",
    "                if int(row[0][3:]) == koi[i]:\n",
    "                    teff[i] = (float(row[1]))\n",
    "                    tefferr[i] = np.max([(float(row[3])), (float(row[2]))])\n",
    "                    logg[i] = (float(row[4]))\n",
    "                    loggerr[i] = np.max([(float(row[6])), (float(row[5]))])\n",
    "                    feh[i] = (float(row[7]))\n",
    "                    feherr[i] = np.max([(float(row[9])), (float(row[8]))])\n",
    "                    count += 1\n",
    "                elif int(row[0][3:]) == kepid[i]:\n",
    "                    teff[i] = (float(row[1]))\n",
    "                    tefferr[i] = np.max([(float(row[3])), (float(row[2]))])\n",
    "                    logg[i] = (float(row[4]))\n",
    "                    loggerr[i] = np.max([(float(row[6])), (float(row[5]))])\n",
    "                    feh[i] = (float(row[7]))\n",
    "                    feherr[i] = np.max([(float(row[9])), (float(row[8]))])\n",
    "                    count +=1\n",
    "#                 if (int(row[0][3:]) == planets[i].koi):\n",
    "#                     planets[i].Teff = (float(row[1]))\n",
    "#                     planets[i].Tefferr = [(float(row[3])), (float(row[2]))]\n",
    "#                     print(planets[i].Tefferr)\n",
    "#                     planets[i].logg = (float(row[4]))\n",
    "#                     planets[i].loggerr = [(float(row[6])), (float(row[5]))]\n",
    "#                     planets[i].feh = (float(row[7]))\n",
    "#                     planets[i].feherr = [(float(row[9])), (float(row[8]))]\n",
    "        rownum += 1\n",
    "\n",
    "print(count)"
   ]
  },
  {
   "cell_type": "code",
   "execution_count": 11,
   "metadata": {},
   "outputs": [
    {
     "name": "stdout",
     "output_type": "stream",
     "text": [
      "63\n",
      "63\n",
      "[2718885, 3112129, 4665571, 8435766, 9642018, 9825174, 10585738, 11187332, 11550689, 1717722, 3444588, 4055304, 4144576, 5040077, 5095635, 5175986, 5513012, 5942808, 5972334, 6129524, 6265792, 6294819, 6310636, 6362874, 6867588, 6934291, 6964929, 6974658, 7102227, 7605093, 7749002, 8278371, 8558011, 8895758, 8947520, 9092504, 9149789, 9221517, 9456281, 9472074, 9473078, 9580167, 10024051, 10028535, 10319385, 10468885, 10647452, 10975146, 11030475, 11401182, 11547505, 11600889, 11752632, 11870545, 11904151, 12265786, 12405333, 5773121, 5980208, 8416523, 9353742, 9475552, 9967771]\n"
     ]
    }
   ],
   "source": [
    "print(len(tefferr))\n",
    "print(len(kepid))\n",
    "print(kepid)"
   ]
  },
  {
   "cell_type": "markdown",
   "metadata": {},
   "source": [
    "One of the main new things we want to do is incorporate new Gaia parallaxes into the radius calculations. We used the gaia-kepler.fun crossmatch database created by Megan Bedell."
   ]
  },
  {
   "cell_type": "code",
   "execution_count": 12,
   "metadata": {
    "collapsed": true
   },
   "outputs": [],
   "source": [
    "from astropy.table import Table\n",
    "data = Table.read('kepler_dr2_1arcsec.fits', format='fits')"
   ]
  },
  {
   "cell_type": "code",
   "execution_count": 13,
   "metadata": {
    "collapsed": true
   },
   "outputs": [],
   "source": [
    "kepid1 = []\n",
    "parallax2 = np.zeros(len(kepid))\n",
    "perror2 = np.zeros(len(kepid))\n",
    "\n",
    "for i in range(len(data['kepid'])):\n",
    "    for j in range(len(kepid)):\n",
    "        if kepid[j] == data['kepid'][i]:\n",
    "            parallax2[j] = (data['parallax'][i])\n",
    "            perror2[j] = (data['parallax_error'][i])\n",
    "#         if (planets[j].kepid) == data['kepid'][i]:\n",
    "#             planets[j].parallax = (data['parallax'][i])\n",
    "#             planets[j].perror = (data['parallax_error'][i])"
   ]
  },
  {
   "cell_type": "code",
   "execution_count": 14,
   "metadata": {},
   "outputs": [
    {
     "name": "stdout",
     "output_type": "stream",
     "text": [
      "63\n",
      "(array([48]),)\n",
      "11030475\n",
      "63\n"
     ]
    }
   ],
   "source": [
    "parallax3 = parallax2\n",
    "print(len(parallax3))\n",
    "print(np.where(parallax3 == 0))\n",
    "#print(noparallax)\n",
    "print(kepid[48])\n",
    "print(len(kepid))\n",
    "# del kepid[noparallax]\n",
    "# del koi[noparallax]\n",
    "# del per[noparallax]\n",
    "# del teff[noparallax]\n",
    "# del tefferr[noparallax]\n",
    "# del logg[noparallax]\n",
    "# del loggerr[noparallax]\n",
    "# del feh[noparallax]\n",
    "# del feherr[noparallax]\n",
    "# del delta[noparallax]\n",
    "# del derror[noparallax]\n",
    "# del parallax2[noparallax]\n",
    "# del perror2[noparallax]\n",
    "\n",
    "# print(len(parallax2))"
   ]
  },
  {
   "cell_type": "markdown",
   "metadata": {},
   "source": [
    "We need to remove this planet becasue it doesn't have a Gaia parallax."
   ]
  },
  {
   "cell_type": "code",
   "execution_count": 15,
   "metadata": {},
   "outputs": [
    {
     "name": "stdout",
     "output_type": "stream",
     "text": [
      "63\n"
     ]
    }
   ],
   "source": [
    "koi = [koi[i] for i in range(0,len(kepid)) if kepid[i] != 11030475]\n",
    "adivr = [adivr[i] for i in range(0,len(kepid)) if kepid[i] != 11030475]\n",
    "per = [per[i] for i in range(0,len(kepid)) if kepid[i] != 11030475]\n",
    "teff = [teff[i] for i in range(0,len(kepid)) if kepid[i] != 11030475]\n",
    "logg = [logg[i] for i in range(0,len(kepid)) if kepid[i] != 11030475]\n",
    "feh = [feh[i] for i in range(0,len(kepid)) if kepid[i] != 11030475]\n",
    "tefferr = [tefferr[i] for i in range(0,len(kepid)) if kepid[i] != 11030475]\n",
    "loggerr = [loggerr[i] for i in range(0,len(kepid)) if kepid[i] != 11030475]\n",
    "feherr = [feherr[i] for i in range(0,len(kepid)) if kepid[i] != 11030475]\n",
    "delta = [delta[i] for i in range(0,len(kepid)) if kepid[i] != 11030475]\n",
    "derror = [derror[i] for i in range(0,len(kepid)) if kepid[i] != 11030475]\n",
    "parallax2 = [parallax2[i] for i in range(0,len(kepid)) if kepid[i] != 11030475]\n",
    "perror2 = [perror2[i] for i in range(0,len(kepid)) if kepid[i] != 11030475]\n",
    "kepid = [i for i in kepid if i != 11030475] # there is no Gaia parallax for this KepID.\n",
    "\n",
    "# del planets[51]\n",
    "# print(len(planets))\n",
    "#print(len(kepid4))\n",
    "print(len(parallax3))"
   ]
  },
  {
   "cell_type": "code",
   "execution_count": 16,
   "metadata": {},
   "outputs": [
    {
     "name": "stdout",
     "output_type": "stream",
     "text": [
      "62\n"
     ]
    }
   ],
   "source": [
    "print(len(parallax2))"
   ]
  },
  {
   "cell_type": "markdown",
   "metadata": {},
   "source": [
    "Now, I'm going to record the photometric band magnitudes for each of the host stars. The bands are [Kepler, j, h, k, g, r, i, z]."
   ]
  },
  {
   "cell_type": "code",
   "execution_count": 17,
   "metadata": {},
   "outputs": [
    {
     "name": "stdout",
     "output_type": "stream",
     "text": [
      "62\n"
     ]
    }
   ],
   "source": [
    "kepid2 = np.zeros(len(kepid))\n",
    "kepmag = np.zeros(len(kepid))\n",
    "jmag = np.zeros(len(kepid))\n",
    "hmag = np.zeros(len(kepid))\n",
    "kmag = np.zeros(len(kepid))\n",
    "gmag = np.zeros(len(kepid))\n",
    "rmag = np.zeros(len(kepid))\n",
    "imag = np.zeros(len(kepid))\n",
    "zmag = np.zeros(len(kepid))\n",
    "\n",
    "with open('kepler_search.csv') as File:\n",
    "    reader = csv.reader(File, delimiter=',')\n",
    "    rownum = 0\n",
    "    for row in reader:\n",
    "        if rownum > 1:\n",
    "            if (int(row[0]) in kepid) and ((int(row[0]) in kepid2) == False):\n",
    "                for i in range(len(kepid)):\n",
    "                    if int(row[0]) == kepid[i]:\n",
    "                        kepid2[i] = int(row[0])\n",
    "                        kepmag[i] = float(row[37])\n",
    "                        jmag[i] = float(row[34])\n",
    "                        hmag[i] = float(row[35])\n",
    "                        kmag[i] = float(row[36])\n",
    "                        gmag[i] = float(row[30])\n",
    "                        rmag[i] = float(row[31])\n",
    "                        imag[i] = float(row[32])\n",
    "                        zmag[i] = float(row[33])\n",
    "#                     if int(row[0]) == planets[i].kepid:\n",
    "#                         planets[i].photoarray = [float(row[37]), float(row[34]), float(row[35]), float(row[36]),\n",
    "#                                                   float(row[30]), float(row[31]), float(row[32]), float(row[33])]\n",
    "        rownum += 1\n",
    "print(len(kepid2))"
   ]
  },
  {
   "cell_type": "code",
   "execution_count": 18,
   "metadata": {},
   "outputs": [
    {
     "name": "stdout",
     "output_type": "stream",
     "text": [
      "64.0\n",
      "4776.0\n",
      "4.6\n",
      "0.03\n",
      "-0.11\n",
      "0.04\n",
      "11401182\n",
      "0.017492997737671497\n"
     ]
    }
   ],
   "source": [
    "# for i in range(0,len(planets)):\n",
    "#     if planets[i].photoarray == 'none':\n",
    "#         print(planets[i].kepid)\n",
    "        \n",
    "# for i in range(0,len(planets)):\n",
    "#     if planets[i].Tefferr == ['none', 'none']:\n",
    "#         print(i)\n",
    "print(tefferr[48])\n",
    "print(teff[48])\n",
    "print(logg[48])\n",
    "print(loggerr[48])\n",
    "print(feh[48])\n",
    "print(feherr[48])\n",
    "print(kepid[48])\n",
    "print(perror2[48])"
   ]
  },
  {
   "cell_type": "markdown",
   "metadata": {},
   "source": [
    "All of the stars have recorded photometric band magnitudes. Now we're going to use the isochrones package to interpolate the stellar host radii based on these band magnitudes, as well as log(g), Teff, and Fe/H."
   ]
  },
  {
   "cell_type": "code",
   "execution_count": 19,
   "metadata": {
    "collapsed": true
   },
   "outputs": [],
   "source": [
    "from isochrones import StarModel\n",
    "from isochrones.mist import MIST_Isochrone\n",
    "\n",
    "bands = ['J','H','K','Kepler','g','r','i','z']\n",
    "mist = MIST_Isochrone(bands = bands)\n",
    "star_radii = []\n",
    "star_rad_sigma = []\n",
    "star_rad_array = []\n",
    "star_masses = []\n",
    "star_mass_sigma = []\n",
    "deltaarray = []\n",
    "fifteen = []\n",
    "eightyfive = []\n",
    "num_samples = 1000\n",
    "planet_radii_samples = []\n",
    "planet_a_samples = []\n"
   ]
  },
  {
   "cell_type": "code",
   "execution_count": 20,
   "metadata": {},
   "outputs": [
    {
     "data": {
      "text/plain": [
       "64.0"
      ]
     },
     "execution_count": 20,
     "metadata": {},
     "output_type": "execute_result"
    }
   ],
   "source": [
    "tefferr[0]"
   ]
  },
  {
   "cell_type": "markdown",
   "metadata": {},
   "source": [
    "w/o parallax 1.04\n",
    "\n",
    "w/o photometric bands 0.953\n",
    "\n",
    "w/o both 0.95"
   ]
  },
  {
   "cell_type": "code",
   "execution_count": 23,
   "metadata": {},
   "outputs": [],
   "source": [
    "G = 6.67e-11\n",
    "Msun = 1.989e30 ## kg\n"
   ]
  },
  {
   "cell_type": "code",
   "execution_count": 21,
   "metadata": {},
   "outputs": [
    {
     "name": "stderr",
     "output_type": "stream",
     "text": [
      "/Users/anasofiauzsoy/anaconda/lib/python3.6/site-packages/isochrones/mist/grid.py:190: FutureWarning: read_table is deprecated, use read_csv instead, passing sep='\\t'.\n",
      "  skip_blank_lines=True, names=column_names)\n",
      "/Users/anasofiauzsoy/anaconda/lib/python3.6/site-packages/isochrones/mist/grid.py:195: DtypeWarning: Columns (8) have mixed types. Specify dtype option on import or set low_memory=False.\n",
      "  df = super(MISTModelGrid, self).df_all(phot)\n",
      "/Users/anasofiauzsoy/anaconda/lib/python3.6/site-packages/pandas/core/generic.py:2377: PerformanceWarning: \n",
      "your performance may suffer as PyTables will pickle object types that it cannot\n",
      "map directly to c-types [inferred_type->mixed,key->block2_values] [items->['[Fe/H]']]\n",
      "\n",
      "  return pytables.to_hdf(path_or_buf, key, self, **kwargs)\n"
     ]
    },
    {
     "name": "stdout",
     "output_type": "stream",
     "text": [
      "1.0163421246050046\n"
     ]
    }
   ],
   "source": [
    "for i in range(0, 1):\n",
    "    radiisamples = []\n",
    "    mags = {'J':(jmag[i],0.05),'H':(hmag[i],0.05),'K':(kmag[i],0.05), 'Kepler':(kepmag[i],0.05), 'g':(gmag[i],0.05), 'r':(rmag[i],0.05), 'i':(imag[i],0.05), 'z':(zmag[i],0.05)}\n",
    "#     if (tefferr[i] != 0):\n",
    "#         #try:\n",
    "#         model = StarModel(mist, logg = (logg[i],loggerr[i]), teff = (teff[i], tefferr[i]),feh = (feh[i],feherr[i]), parallax = (parallax2[i], perror2[i]))\n",
    "#         #except:\n",
    "#             #model = StarModel(mist, parallax = (parallax2[i], perror2[i]), **mags)    \n",
    "#     else:\n",
    "    model = StarModel(mist, **mags)##parallax = (parallax2[i], perror2[i]), **mags)\n",
    "    StarModel.fit_multinest(model,n_live_points=1000, basename=None, verbose=False, refit=True, overwrite=True,test=False)\n",
    "    print(model.samples.mass_0_0.quantile(0.5))"
   ]
  },
  {
   "cell_type": "code",
   "execution_count": 24,
   "metadata": {},
   "outputs": [
    {
     "name": "stdout",
     "output_type": "stream",
     "text": [
      "0\n",
      "1\n",
      "2\n",
      "3\n",
      "4\n",
      "5\n",
      "6\n",
      "7\n",
      "8\n",
      "9\n",
      "10\n",
      "11\n",
      "12\n",
      "13\n",
      "14\n",
      "15\n",
      "16\n",
      "17\n",
      "18\n",
      "19\n",
      "20\n",
      "21\n",
      "22\n",
      "23\n",
      "24\n",
      "25\n",
      "26\n",
      "27\n",
      "28\n",
      "29\n",
      "30\n",
      "31\n",
      "32\n",
      "33\n",
      "34\n",
      "35\n",
      "36\n",
      "37\n",
      "38\n",
      "39\n",
      "40\n",
      "41\n",
      "42\n",
      "43\n",
      "44\n",
      "45\n",
      "46\n",
      "47\n",
      "48\n",
      "49\n",
      "50\n",
      "51\n",
      "52\n",
      "53\n",
      "54\n",
      "55\n",
      "56\n",
      "57\n",
      "58\n",
      "59\n",
      "60\n",
      "61\n"
     ]
    }
   ],
   "source": [
    "for i in range(0, len(kepid2)):\n",
    "    radiisamples = []\n",
    "    asamples= []\n",
    "    mags = {'J':(jmag[i],0.05),'H':(hmag[i],0.05),'K':(kmag[i],0.05), 'Kepler':(kepmag[i],0.05), 'g':(gmag[i],0.05), 'r':(rmag[i],0.05), 'i':(imag[i],0.05), 'z':(zmag[i],0.05)}\n",
    "    if (tefferr[i] != 0):\n",
    "        try:\n",
    "            model = StarModel(mist, logg = (logg[i],loggerr[i]), teff = (teff[i], tefferr[i]),feh = (feh[i],feherr[i]), parallax = (parallax2[i],perror2[i]), **mags)\n",
    "        except:\n",
    "            model = StarModel(mist, parallax = (parallax2[i], perror2[i]), **mags)    \n",
    "    else:\n",
    "        model = StarModel(mist, parallax = (parallax2[i], perror2[i]), **mags)\n",
    "    StarModel.fit_multinest(model,n_live_points=1000, basename=None, verbose=False, refit=True, overwrite=True,test=False)\n",
    "    star_radii.append(model.samples.radius_0_0.quantile(0.5))\n",
    "    star_masses.append(model.samples.mass_0_0.quantile(0.5))\n",
    "    star_rad_sigma.append(np.std(model.samples.radius_0_0))\n",
    "    star_mass_sigma.append(np.std(model.samples.mass_0_0))\n",
    "    fifteen.append(np.percentile(model.samples.radius_0_0, 15.85))\n",
    "    eightyfive.append(np.percentile(model.samples.radius_0_0, 84.15))\n",
    "    star_rad_array = np.random.choice(model.samples.radius_0_0, num_samples) ## star radii\n",
    "    star_mass_array = np.random.choice(model.samples.mass_0_0, num_samples) ## star masses\n",
    "    deltaarray = np.random.normal(delta[i],derror[i], num_samples)\n",
    "    for j in range(len(star_rad_array)):\n",
    "        if deltaarray[j] > 0:\n",
    "            radiisamples.append((star_rad_array[j]*Sunradius*np.sqrt(deltaarray[j]/1000000))/Earthradius)\n",
    "        else:\n",
    "            radiisamples.append(np.nan)\n",
    "    planet_radii_samples.append(radiisamples)\n",
    "    period = per[i] * 24 * 3600\n",
    "    for index, mass in enumerate(star_mass_array):\n",
    "        asamples.append(((((G * mass * Msun) / (4 * np.pi * np.pi)) * period * period)**(1/3)) * 1e-3)\n",
    "    planet_a_samples.append(asamples)\n",
    "    print(i)"
   ]
  },
  {
   "cell_type": "code",
   "execution_count": 25,
   "metadata": {},
   "outputs": [],
   "source": [
    "raderrup = [value - median for value, median in zip(eightyfive, star_radii)]\n",
    "raderrdown = [median - value for value, median in zip(fifteen, star_radii)]"
   ]
  },
  {
   "cell_type": "code",
   "execution_count": 26,
   "metadata": {},
   "outputs": [
    {
     "data": {
      "text/plain": [
       "63"
      ]
     },
     "execution_count": 26,
     "metadata": {},
     "output_type": "execute_result"
    }
   ],
   "source": [
    "len(star_rad_sigma)"
   ]
  },
  {
   "cell_type": "code",
   "execution_count": 35,
   "metadata": {},
   "outputs": [],
   "source": [
    "np.savetxt(\"asamples_problem_planet.txt\", np.array(planet_a_samples).flatten()[:1000])"
   ]
  },
  {
   "cell_type": "code",
   "execution_count": 36,
   "metadata": {},
   "outputs": [],
   "source": [
    "a = np.loadtxt(\"asamples_problem_planet.txt\")"
   ]
  },
  {
   "cell_type": "code",
   "execution_count": 37,
   "metadata": {},
   "outputs": [
    {
     "data": {
      "text/plain": [
       "(1000,)"
      ]
     },
     "execution_count": 37,
     "metadata": {},
     "output_type": "execute_result"
    }
   ],
   "source": [
    "np.shape(a)"
   ]
  },
  {
   "cell_type": "code",
   "execution_count": 188,
   "metadata": {},
   "outputs": [],
   "source": [
    "np.savetxt(\"stellar_radii.txt\", (star_radii, raderrup, raderrdown, star_rad_sigma), header = \"median radius, errup, errdown, stdev\")"
   ]
  },
  {
   "cell_type": "code",
   "execution_count": 189,
   "metadata": {},
   "outputs": [],
   "source": [
    "np.savetxt(\"planet_radius_samples.txt\", planet_radii_samples)"
   ]
  },
  {
   "cell_type": "code",
   "execution_count": 190,
   "metadata": {},
   "outputs": [],
   "source": [
    "np.savetxt(\"stellar_masses.txt\", (star_masses, star_mass_sigma), header = \"median, stdev\")"
   ]
  },
  {
   "cell_type": "code",
   "execution_count": 191,
   "metadata": {},
   "outputs": [],
   "source": [
    "x, y = np.loadtxt(\"stellar_masses.txt\")"
   ]
  },
  {
   "cell_type": "code",
   "execution_count": 192,
   "metadata": {},
   "outputs": [
    {
     "data": {
      "text/plain": [
       "array([1.23726068, 0.97296792, 0.76582984, 0.79738184, 0.85819833,\n",
       "       0.89174443, 0.9238423 , 0.92613115, 0.66930111, 0.68515044,\n",
       "       0.681719  , 0.84798334, 0.9167474 , 0.98171392, 1.01722491,\n",
       "       0.68284881, 0.8910583 , 0.81883492, 0.91892178, 0.82049919,\n",
       "       1.15874202, 1.05543309, 1.31115419, 0.85875545, 1.19415052,\n",
       "       0.76624991, 1.0246682 , 0.88557662, 0.74374933, 0.78453023,\n",
       "       0.88051818, 1.27386795, 0.86142647, 1.39568257, 1.02246634,\n",
       "       0.94418455, 0.84951237, 0.84111859, 0.66869732, 0.81331706,\n",
       "       0.98490555, 0.75201822, 0.7425406 , 0.86143675, 1.00224994,\n",
       "       0.84516498, 0.84108619, 0.78608422, 0.73139987, 0.9076558 ,\n",
       "       1.01940423, 0.98485912, 0.72135637, 0.98322988, 0.78049414,\n",
       "       0.84924758, 0.87991541, 0.65006148, 0.79029103, 0.94621099,\n",
       "       0.76644078, 0.93096328])"
      ]
     },
     "execution_count": 192,
     "metadata": {},
     "output_type": "execute_result"
    }
   ],
   "source": [
    "x"
   ]
  },
  {
   "cell_type": "markdown",
   "metadata": {},
   "source": [
    "Here I'm going to begin re-creating Figure 1, a comparison of my calculated stellar radii to those of Fulton & Petigure (2018)."
   ]
  },
  {
   "cell_type": "code",
   "execution_count": 193,
   "metadata": {
    "collapsed": true
   },
   "outputs": [],
   "source": [
    "CKSkoi = []\n",
    "CKSstarrad = []\n",
    "CKSerr_up = []\n",
    "CKSerr_down = []\n",
    "\n",
    "with open('UpdateFultonPetigura18.csv') as File:\n",
    "    reader = csv.reader(File, delimiter=',')\n",
    "    for row in reader:\n",
    "        r = int(row[0][2:])\n",
    "        if (r in koi):\n",
    "            CKSkoi.append(r)\n",
    "            CKSstarrad.append(float(row[11]))\n",
    "            CKSerr_up.append(float(row[12]))\n",
    "            CKSerr_down.append(float(row[13]))"
   ]
  },
  {
   "cell_type": "code",
   "execution_count": 194,
   "metadata": {},
   "outputs": [
    {
     "data": {
      "text/plain": [
       "39"
      ]
     },
     "execution_count": 194,
     "metadata": {},
     "output_type": "execute_result"
    }
   ],
   "source": [
    "len(CKSerr_down)"
   ]
  },
  {
   "cell_type": "code",
   "execution_count": 195,
   "metadata": {
    "collapsed": true
   },
   "outputs": [],
   "source": [
    "compare_star_radii = np.zeros(len(CKSkoi))\n",
    "compare_sigmas = np.zeros(len(CKSkoi))\n",
    "compare_errup = np.zeros(len(CKSkoi))\n",
    "compare_errdown = np.zeros(len(CKSkoi))\n",
    "\n",
    "for i in range(len(koi)):\n",
    "    for j in range(len(CKSkoi)):\n",
    "        if (koi[i]) == CKSkoi[j]:\n",
    "            compare_star_radii[j] = star_radii[i]\n",
    "            compare_sigmas[j] = star_rad_sigma[i]\n",
    "            compare_errup[j] = raderrup[i]\n",
    "            compare_errdown[j] = raderrdown[i]"
   ]
  },
  {
   "cell_type": "code",
   "execution_count": 258,
   "metadata": {},
   "outputs": [
    {
     "data": {
      "image/png": "[encoded data removed]",
      "text/plain": [
       "<Figure size 432x288 with 1 Axes>"
      ]
     },
     "metadata": {},
     "output_type": "display_data"
    }
   ],
   "source": [
    "import matplotlib.pyplot as plt\n",
    "\n",
    "myblue = (0, .45, .70)\n",
    "mygold = (.9, .6, 0)\n",
    "\n",
    "\n",
    "x = np.linspace(0.6, 1.75, 50)\n",
    "plt.plot(compare_star_radii, CKSstarrad, 'o', color = myblue, markersize = 8)\n",
    "plt.plot(x,x, lw = 2.5, color = mygold)\n",
    "plt.errorbar(compare_star_radii, CKSstarrad, xerr = [compare_errdown, compare_errup], yerr = [CKSerr_down, CKSerr_up], ls = 'None', ecolor = 'k')\n",
    "plt.ylabel('Derived stellar radii ($R_{\\odot}$)', fontsize = 'x-large')\n",
    "plt.xlabel('Stellar radii from Fulton & Petigura (2018) ($R_{\\odot}$)', fontsize = 'x-large')\n",
    "plt.xticks(fontsize = 'large')\n",
    "plt.yticks(fontsize = 'large')\n",
    "plt.show()"
   ]
  },
  {
   "cell_type": "markdown",
   "metadata": {},
   "source": [
    "Now for Figure 2: Comparing stellar host radii to those used in Sanchis-Ojeda et al. (2014)"
   ]
  },
  {
   "cell_type": "code",
   "execution_count": 259,
   "metadata": {
    "collapsed": true
   },
   "outputs": [],
   "source": [
    "SO_radii = np.zeros(len(kepid))\n",
    "SO_errup = np.zeros(len(kepid))\n",
    "SO_errdown = np.zeros(len(kepid))\n",
    "\n",
    "with open('USPCandidates.csv', encoding='latin-1') as File:\n",
    "    reader = csv.reader(File, delimiter=',')\n",
    "    rownum = 0\n",
    "    for row in reader:\n",
    "        if rownum > 0:\n",
    "             if row[24] != \"\":\n",
    "                for i in range(len(kepid)):\n",
    "                     if int(row[0]) == kepid[i]:\n",
    "                        SO_radii[i] = (float(row[9]))\n",
    "                        SO_errup[i] = (float(row[10]))\n",
    "                        SO_errdown[i] = (float(row[11]))\n",
    "        rownum += 1"
   ]
  },
  {
   "cell_type": "markdown",
   "metadata": {},
   "source": [
    "I'm going to identify the planets that had CKS spectroscopic data vs. the ones that didn't. The ones that didn't don't have an actual error for Teff."
   ]
  },
  {
   "cell_type": "code",
   "execution_count": 260,
   "metadata": {},
   "outputs": [
    {
     "name": "stdout",
     "output_type": "stream",
     "text": [
      "20\n",
      "42\n"
     ]
    }
   ],
   "source": [
    "noCKSkepid = []\n",
    "\n",
    "for i in range(len(tefferr)):\n",
    "    if tefferr[i] == 0:\n",
    "        noCKSkepid.append(kepid[i])\n",
    "\n",
    "noCKSkepidrad = [star_radii[kepid.index(i)] for i in noCKSkepid]\n",
    "radiibuds = [SO_radii[kepid.index(i)] for i in noCKSkepid] ## corresponding radii\n",
    "\n",
    "otherrad = [star_radii[kepid.index(i)] for i in kepid if i not in noCKSkepid]\n",
    "radiibuds2 = [SO_radii[kepid.index(i)] for i in kepid if i not in noCKSkepid]\n",
    "\n",
    "print(len(noCKSkepid))\n",
    "print(len(otherrad))"
   ]
  },
  {
   "cell_type": "code",
   "execution_count": 261,
   "metadata": {},
   "outputs": [
    {
     "data": {
      "image/png": "[encoded data removed]",
      "text/plain": [
       "<Figure size 432x288 with 1 Axes>"
      ]
     },
     "metadata": {},
     "output_type": "display_data"
    }
   ],
   "source": [
    "y = np.linspace(0.5, 2.5, 50)\n",
    "\n",
    "f  = plt.figure()\n",
    "plt.plot(radiibuds,noCKSkepidrad, 'o', color = myblue)\n",
    "plt.plot(radiibuds2, otherrad, 'o', color = (0.9, 0.2, 0.0))\n",
    "plt.errorbar(SO_radii, star_radii, yerr = [raderrdown, raderrup], xerr = [SO_errdown, SO_errup], ls = 'None', color = 'k')\n",
    "plt.plot(y,y, color = mygold)\n",
    "plt.xlabel(\"Stellar radii from SO-14 ($R_{\\odot}$)\", fontsize = 'x-large')\n",
    "plt.ylabel('Revised stellar radii ($R_{\\odot}$)', fontsize = 'x-large')\n",
    "plt.xticks(fontsize = 'large')\n",
    "plt.yticks(fontsize = 'large')\n",
    "f.savefig(\"PosterFig1.pdf\", bbox_inches = \"tight\")\n",
    "plt.show()\n",
    "## double check consistent with CKS"
   ]
  },
  {
   "cell_type": "code",
   "execution_count": 262,
   "metadata": {},
   "outputs": [
    {
     "data": {
      "text/plain": [
       "array([0.35, 0.48, 0.09, 0.06, 0.19, 0.36, 0.28, 0.35, 0.05, 0.07, 0.11,\n",
       "       0.24, 0.2 , 0.37, 0.33, 0.07, 0.31, 0.69, 0.37, 0.22, 0.45, 0.41,\n",
       "       0.38, 0.12, 0.17, 0.12, 0.34, 0.38, 0.14, 0.16, 0.42, 0.19, 0.68,\n",
       "       0.47, 0.41, 0.34, 0.23, 0.19, 0.04, 0.14, 0.42, 0.09, 0.15, 0.15,\n",
       "       0.15, 0.17, 0.23, 0.04, 0.11, 0.39, 0.21, 0.36, 0.08, 0.02, 0.09,\n",
       "       0.3 , 0.3 , 0.04, 0.11, 0.38, 1.9 , 0.37])"
      ]
     },
     "execution_count": 262,
     "metadata": {},
     "output_type": "execute_result"
    }
   ],
   "source": [
    "SO_errup"
   ]
  },
  {
   "cell_type": "code",
   "execution_count": 263,
   "metadata": {},
   "outputs": [
    {
     "name": "stdout",
     "output_type": "stream",
     "text": [
      "1.9\n",
      "[0.84 1.02 0.7  0.74 0.79 0.87 0.89 0.9  0.6  0.71 0.72 0.86 0.78 0.84\n",
      " 0.89 0.73 0.78 0.82 0.87 0.78 1.09 0.96 0.82 0.83 0.78 0.73 0.94 1.03\n",
      " 0.76 0.75 0.96 1.1  0.89 1.01 0.87 0.8  0.77 0.82 0.54 0.8  1.16 0.7\n",
      " 0.72 0.79 0.92 0.8  0.74 0.53 0.78 0.99 1.07 0.93 0.74 1.06 0.63 0.86\n",
      " 0.93 0.62 0.75 0.92 0.86 0.93]\n"
     ]
    }
   ],
   "source": [
    "print(np.max(SO_errup))\n",
    "print(SO_radii)"
   ]
  },
  {
   "cell_type": "markdown",
   "metadata": {},
   "source": [
    "This is a strange value in the Sanchis-Ojeda data, but I checked and it's really there."
   ]
  },
  {
   "cell_type": "code",
   "execution_count": 393,
   "metadata": {},
   "outputs": [
    {
     "name": "stderr",
     "output_type": "stream",
     "text": [
      "WARNING:matplotlib.legend:No handles with labels found to put in legend.\n"
     ]
    },
    {
     "data": {
      "image/png": "[encoded data removed]",
      "text/plain": [
       "<Figure size 432x288 with 1 Axes>"
      ]
     },
     "metadata": {},
     "output_type": "display_data"
    },
    {
     "name": "stdout",
     "output_type": "stream",
     "text": [
      "1.8326544798203341 9.656002130909627 4.061402030356385 0.9765401508228847\n",
      "Power_divergenceResult(statistic=0.10726864454939301, pvalue=1.0)\n",
      "0.025607780521583547\n"
     ]
    }
   ],
   "source": [
    "from scipy.optimize import curve_fit\n",
    "from scipy import stats\n",
    "\n",
    "snr = []\n",
    "prob = []   \n",
    "\n",
    "with open('SNRProb.csv') as File:\n",
    "     reader = csv.reader(File, delimiter=',')\n",
    "     rownum = 0\n",
    "     for row in reader:\n",
    "         if rownum > 5:\n",
    "             snr.append(float(row[0]))\n",
    "             prob.append(float(row[1]))\n",
    "         rownum += 1\n",
    "         \n",
    "\n",
    "def Logistic(x,a,b,c,d):\n",
    "    return (((a-d)/(1+(x/c)**b)) + d)\n",
    "\n",
    "pguess = [0,10,10,1]\n",
    "par, con = curve_fit(Logistic, snr, prob, p0=pguess)\n",
    "a  = par[0]\n",
    "b = par[1]\n",
    "c = par[2]\n",
    "d = par[3]\n",
    "logisticfit = Logistic(snr,0,b,c,d)  \n",
    "\n",
    "# print(\"y = ((a-d)/(1+(x/c)**b)) + d\")\n",
    "# print(\"a =\", a, \"b =\", b, \"c =\",c, \"d = \", d)\n",
    "\n",
    "def Gamma(x,a,b,c,d):\n",
    "    return d*stats.gamma.cdf(x,a,b,c)\n",
    "\n",
    "pguess2 = [2,5,3,0.95]\n",
    "par2, con2 = curve_fit(Gamma,snr,prob,p0=pguess2)\n",
    "a2  = par2[0]\n",
    "b2 = par2[1]\n",
    "c2 = par2[2]\n",
    "d2 = par2[3]\n",
    "gammafit = Gamma(snr,a2,b2,c2,d2)\n",
    "\n",
    "plt.plot(snr, prob,'o', color = myblue)\n",
    "#plt.plot(snr, logisticfit,color = (0.9, 0.2, 0), label = 'Logistic fit', linewidth  = 3)\n",
    "plt.plot(snr,gammafit,color = (0.9, 0.2, 0), linewidth = 3)\n",
    "plt.xlabel('Signal-to-noise ratio', fontsize = 'x-large')\n",
    "plt.ylabel('Planet detection probability', fontsize = 'x-large')\n",
    "plt.xticks(fontsize = 14)\n",
    "plt.yticks(fontsize = 14)\n",
    "plt.legend()\n",
    "plt.show()\n",
    "\n",
    "print(a2,b2,c2,d2)\n",
    "\n",
    "gammafit1 = [i for i in gammafit if i != 0]\n",
    "prob1 = [prob[i] for i in range(0,len(prob)) if gammafit[i] != 0]\n",
    "\n",
    "print(stats.chisquare(prob1,gammafit1,ddof = 3))\n",
    "#print(stats.chisquare(prob,logisticfit,ddof = 2))\n",
    "\n",
    "chisq=np.sum((prob-gammafit)**2)\n",
    "print(chisq)\n",
    "# chisq1=np.sum((prob-logisticfit)**2)\n",
    "# print(chisq1)\n"
   ]
  },
  {
   "cell_type": "markdown",
   "metadata": {},
   "source": [
    "So in the paper, I make the claim that my stellar host radii are more exact than those of Sanchis-Ojeda et al. So I need to back up that claim by comparing the size of their uncertainties to mine."
   ]
  },
  {
   "cell_type": "code",
   "execution_count": 265,
   "metadata": {},
   "outputs": [
    {
     "name": "stdout",
     "output_type": "stream",
     "text": [
      "SO Medians\n",
      "0.2805605247465712\n",
      "0.08333333333333334\n",
      "SO Averages\n",
      "0.31602739314926265\n",
      "0.0877996195121639\n",
      "My medians\n",
      "0.020343091354947135\n",
      "0.019847009755324788\n",
      "My averages\n",
      "0.026086203525390886\n",
      "0.026117441332621096\n"
     ]
    }
   ],
   "source": [
    "so_dev_up = [i/j for i,j in zip(SO_errup, SO_radii)]\n",
    "so_dev_down = [i/j for i,j in zip(SO_errdown, SO_radii)]\n",
    "print(\"SO Medians\")\n",
    "print(np.median(so_dev_up))\n",
    "print(np.median(so_dev_down))\n",
    "\n",
    "print(\"SO Averages\")\n",
    "print(np.average(so_dev_up))\n",
    "print(np.average(so_dev_down))\n",
    "\n",
    "mydev_up = [i/j for i,j in zip(raderrup, star_radii)]\n",
    "mydev_down = [i/j for i,j in zip(raderrdown, star_radii)]\n",
    "print(\"My medians\")\n",
    "print(np.median(mydev_up))\n",
    "print(np.median(mydev_down))\n",
    "\n",
    "print(\"My averages\")\n",
    "print(np.average(mydev_up))\n",
    "print(np.average(mydev_down))"
   ]
  },
  {
   "cell_type": "code",
   "execution_count": 204,
   "metadata": {},
   "outputs": [
    {
     "data": {
      "text/plain": [
       "62"
      ]
     },
     "execution_count": 204,
     "metadata": {},
     "output_type": "execute_result"
    }
   ],
   "source": [
    "adivr = [adivr[i] for i in range(0,len(kepid)) if kepid[i] != 11030475]\n",
    "len(adivr)"
   ]
  },
  {
   "cell_type": "code",
   "execution_count": 209,
   "metadata": {},
   "outputs": [],
   "source": [
    "a_hope = [i*j for i, j in zip(adivr, magradii)]"
   ]
  },
  {
   "cell_type": "code",
   "execution_count": 210,
   "metadata": {},
   "outputs": [
    {
     "name": "stdout",
     "output_type": "stream",
     "text": [
      "[3313469.7957913587, 2584036.317121426, 2714294.2152613997, 1772884.159940001, 2143068.1879994078, 3543767.5210273163, 2801799.4278695458, 3630484.6636752333, 1144529.225037405, 2441145.36062295, 2621737.6457685567, 2235937.443659193, 2677255.9007173027, 4120907.1268979167, 6319991.856759419, 2954889.5548668257, 2654737.4137539663, 2296263.1825336064, 2302558.7957747364, 3040407.297719784, 4138341.6071832594, 2031672.7723260163, 3075898.019511547, 2729229.8502186122, 5561909.691438591, 2189436.0060557513, 2155860.538114208, 5832289.402442471, 2608687.1633906933, 2820931.203554932, 2147080.4062184496, 2672585.9754614686, 2336192.310409733, 6722232.192411267, 3794308.6598805953, 3098016.3572701863, 1600442.7809916383, 3222482.3200247292, 3893544.505952112, 2977680.71811518, 2377906.207632494, 2566034.9218412396, 1899308.2983503554, 2774016.27310899, 2367026.1759551046, 2713272.7674144977, 3349766.080054444, 2278494.07623878, 2558266.5178632326, 3468061.23860263, 2280928.675453437, 2785569.5815232927, 2474823.19717925, 2568310.861173996, 4526431.5694433525, 2819000.8881157264, 2907463.153159022, 2795016.5341381603, 1445454.9633131241, 3421992.945103477, 2385987.0813516434, 1849302.9843809663]\n"
     ]
    }
   ],
   "source": [
    "print([i*Sunradius/1000 for i in a_hope])"
   ]
  },
  {
   "cell_type": "code",
   "execution_count": 211,
   "metadata": {},
   "outputs": [],
   "source": [
    "per = [per[i] for i in range(0,len(kepid)) if kepid[i] != 11030475]\n"
   ]
  },
  {
   "cell_type": "code",
   "execution_count": 212,
   "metadata": {},
   "outputs": [
    {
     "name": "stdout",
     "output_type": "stream",
     "text": [
      "[0.1973335, 0.48765719, 0.76669043, 0.35500753, 0.25255594, 0.74092963, 0.6364249, 0.30598391, 0.30160087, 0.97730809, 0.92831093, 0.57103885, 0.81316598, 0.89638348, 0.75445863, 0.86838702, 0.67933587, 0.62628076, 0.70862545, 0.88183821, 0.93512027, 0.675652, 0.92103467, 0.97486662, 0.82628363, 0.56785704, 0.66502914, 0.7165313, 0.76401932, 0.63400313, 0.60992303, 0.67737578, 0.63816268, 0.96896529, 0.96852469, 0.96286621, 0.35251639, 0.76985432, 0.70194345, 0.55884253, 0.69384332, 0.82715274, 0.57736948, 0.66308666, 0.68920948, 0.66407444, 0.76295078, 0.63133223, 0.92785963, 0.93846561, 0.66931017, 0.9849389, 0.8399616, 0.8374906, 0.59701811, 0.76486301, 0.52417582, 0.78916057, 0.341842, 0.93875053, 0.84338039, 0.53835457]\n"
     ]
    }
   ],
   "source": [
    "print(per)"
   ]
  },
  {
   "cell_type": "code",
   "execution_count": 213,
   "metadata": {},
   "outputs": [
    {
     "data": {
      "text/plain": [
       "62"
      ]
     },
     "execution_count": 213,
     "metadata": {},
     "output_type": "execute_result"
    }
   ],
   "source": [
    "len(per)"
   ]
  },
  {
   "cell_type": "code",
   "execution_count": 219,
   "metadata": {},
   "outputs": [],
   "source": [
    "np.savetxt(\"USP_planet_info.txt\", (kepid, koi, per), header = \"kepid, koi, period\")"
   ]
  },
  {
   "cell_type": "code",
   "execution_count": 268,
   "metadata": {},
   "outputs": [
    {
     "name": "stdout",
     "output_type": "stream",
     "text": [
      "['KIC', 'iso_mass', 'iso_mass_err1', 'iso_mass_err2', 'iso_teff', 'iso_teff_err1', 'iso_teff_err2', 'iso_logg', 'iso_logg_err1', 'iso_logg_err2', 'iso_feh', 'iso_feh_err1', 'iso_feh_err2', 'iso_rad', 'iso_rad_err1', 'iso_rad_err2', 'iso_rho', 'iso_rho_err1', 'iso_rho_err2', 'iso_lum', 'iso_lum_err1', 'iso_lum_err2', 'iso_age', 'unReAgeFlag', 'iso_age_err1', 'iso_age_err2', 'iso_dis', 'iso_dis_err1', 'iso_dis_err2', 'iso_avs', 'iso_gof', 'TAMS\\\\\\\\']\n"
     ]
    }
   ],
   "source": [
    "berger = \"GKSPCPapTable2_Final.txt\"\n",
    "\n",
    "berger_kic = []\n",
    "berger_masses = []\n",
    "berger_errup = []\n",
    "berger_errdown = []\n",
    "\n",
    "import csv\n",
    "\n",
    "with open('GKSPCPapTable2_Final.txt') as csv_file:\n",
    "    read = csv.reader(csv_file, delimiter = '&')\n",
    "    line_count = 0\n",
    "    for row in read:\n",
    "        if line_count == 0:\n",
    "            print(row)\n",
    "        else:\n",
    "            berger_kic.append(int(row[0]))\n",
    "            berger_masses.append(float(row[1]))\n",
    "            berger_errup.append(float(row[2]))\n",
    "            berger_errdown.append(float(row[3]))\n",
    "        line_count += 1\n",
    "    "
   ]
  },
  {
   "cell_type": "code",
   "execution_count": 255,
   "metadata": {},
   "outputs": [
    {
     "data": {
      "text/plain": [
       "[2718885, 8435766, 9642018, 11187332, 11550689, 9149789, 8416523]"
      ]
     },
     "execution_count": 255,
     "metadata": {},
     "output_type": "execute_result"
    }
   ],
   "source": [
    "short_per_kic = [kepid[i] for i in range(len(per))  if per[i]*24 < 10]\n",
    "short_per_kic"
   ]
  },
  {
   "cell_type": "code",
   "execution_count": 256,
   "metadata": {},
   "outputs": [
    {
     "data": {
      "text/plain": [
       "4719"
      ]
     },
     "execution_count": 256,
     "metadata": {},
     "output_type": "execute_result"
    }
   ],
   "source": [
    "berger_kic.index(2718885)"
   ]
  },
  {
   "cell_type": "code",
   "execution_count": 269,
   "metadata": {},
   "outputs": [
    {
     "name": "stdout",
     "output_type": "stream",
     "text": [
      "0.962\n",
      "0.072\n",
      "-0.068\n"
     ]
    }
   ],
   "source": [
    "print(berger_masses[4719])\n",
    "print(berger_errup[4719])\n",
    "print(berger_errdown[4719])\n"
   ]
  },
  {
   "cell_type": "code",
   "execution_count": 267,
   "metadata": {},
   "outputs": [
    {
     "data": {
      "text/plain": [
       "1.237260675984421"
      ]
     },
     "execution_count": 267,
     "metadata": {},
     "output_type": "execute_result"
    }
   ],
   "source": [
    "star_masses[kepid.index(2718885)]"
   ]
  },
  {
   "cell_type": "code",
   "execution_count": 380,
   "metadata": {},
   "outputs": [
    {
     "name": "stdout",
     "output_type": "stream",
     "text": [
      "My mass:  1.237260675984421 +- 0.060560339781036844\n",
      "Berger mass:  0.962 + 0.072 - -0.068\n",
      "My mass:  0.7973818372793132 +- 0.024546366311703524\n",
      "Berger mass:  0.758 + 0.039 - -0.041\n",
      "My mass:  0.8581983271074611 +- 0.03603897346853866\n",
      "Berger mass:  0.822 + 0.042 - -0.052\n",
      "My mass:  0.9261311461783054 +- 0.051744198763105355\n",
      "Berger mass:  0.891 + 0.065 - -0.063\n",
      "My mass:  0.6693011106837968 +- 0.02254291820176131\n",
      "Berger mass:  0.64 + 0.022 - -0.017\n",
      "My mass:  0.8495123685268771 +- 0.03708184392561279\n",
      "Berger mass:  0.839 + 0.036 - -0.049\n",
      "My mass:  0.7902910274334713 +- 0.0303085987335196\n",
      "Berger mass:  0.766 + 0.036 - -0.041\n"
     ]
    }
   ],
   "source": [
    "my_short_period_masses = np.zeros((2, len(short_per_kic)))\n",
    "berger_short_period_masses = np.zeros((3, len(short_per_kic)))\n",
    "for index, i in enumerate(short_per_kic):\n",
    "    berger_index = berger_kic.index(i)\n",
    "    my_index = kepid.index(i)\n",
    "    print(\"My mass: \", star_masses[my_index], \"+-\", star_mass_sigma[my_index])\n",
    "    print(\"Berger mass: \", berger_masses[berger_index], \"+\", berger_errup[berger_index], \n",
    "          \"-\", berger_errdown[berger_index])\n",
    "    my_short_period_masses[0][index] = star_masses[my_index]\n",
    "    my_short_period_masses[1][index] = star_mass_sigma[my_index]\n",
    "    berger_short_period_masses[0][index] = berger_masses[berger_index]\n",
    "    berger_short_period_masses[1][index] = berger_errup[berger_index]\n",
    "    berger_short_period_masses[2][index] = abs(berger_errdown[berger_index])"
   ]
  },
  {
   "cell_type": "code",
   "execution_count": 381,
   "metadata": {},
   "outputs": [
    {
     "data": {
      "image/png": "[encoded data removed]",
      "text/plain": [
       "<Figure size 432x288 with 1 Axes>"
      ]
     },
     "metadata": {},
     "output_type": "display_data"
    }
   ],
   "source": [
    "plt.plot(my_short_period_masses[0], berger_short_period_masses[0], 'o')\n",
    "plt.errorbar(my_short_period_masses[0], berger_short_period_masses[0], xerr = my_short_period_masses[1],\n",
    "            yerr = [berger_short_period_masses[2], berger_short_period_masses[1]], c = 'k', linestyle = 'None')\n",
    "plt.plot(np.linspace(0,1.3), np.linspace(0,1.3))\n",
    "plt.xlabel(\"My masses\")\n",
    "plt.ylabel(\"Berger masses\")\n",
    "plt.show()"
   ]
  },
  {
   "cell_type": "code",
   "execution_count": 51,
   "metadata": {},
   "outputs": [
    {
     "data": {
      "text/plain": [
       "2718885"
      ]
     },
     "execution_count": 51,
     "metadata": {},
     "output_type": "execute_result"
    }
   ],
   "source": [
    "kepid[0]"
   ]
  },
  {
   "cell_type": "code",
   "execution_count": 383,
   "metadata": {},
   "outputs": [
    {
     "data": {
      "text/plain": [
       "4.736003999999999"
      ]
     },
     "execution_count": 383,
     "metadata": {},
     "output_type": "execute_result"
    }
   ],
   "source": [
    "per[0] * 24"
   ]
  },
  {
   "cell_type": "markdown",
   "metadata": {},
   "source": [
    "### Calculate semimajor axis using Kepler's 3rd law"
   ]
  },
  {
   "cell_type": "code",
   "execution_count": 384,
   "metadata": {},
   "outputs": [],
   "source": [
    "#my_short_period_masses[0][0] = 0.9530990489476084"
   ]
  },
  {
   "cell_type": "code",
   "execution_count": 52,
   "metadata": {},
   "outputs": [
    {
     "ename": "NameError",
     "evalue": "name 'my_short_period_masses' is not defined",
     "output_type": "error",
     "traceback": [
      "\u001b[0;31m---------------------------------------------------------------------------\u001b[0m",
      "\u001b[0;31mNameError\u001b[0m                                 Traceback (most recent call last)",
      "\u001b[0;32m<ipython-input-52-3fdfb9cd221e>\u001b[0m in \u001b[0;36m<module>\u001b[0;34m()\u001b[0m\n\u001b[0;32m----> 1\u001b[0;31m \u001b[0mmy_short_period_masses\u001b[0m\u001b[0;34m\u001b[0m\u001b[0;34m\u001b[0m\u001b[0m\n\u001b[0m",
      "\u001b[0;31mNameError\u001b[0m: name 'my_short_period_masses' is not defined"
     ]
    }
   ],
   "source": [
    "my_short_period_masses"
   ]
  },
  {
   "cell_type": "code",
   "execution_count": 53,
   "metadata": {},
   "outputs": [],
   "source": [
    "G = 6.67e-11\n",
    "Msun = 1.989e30 ## kg\n",
    "\n",
    "per_seconds = [i * 24 * 3600 for i in per]"
   ]
  },
  {
   "cell_type": "code",
   "execution_count": 47,
   "metadata": {},
   "outputs": [],
   "source": [
    "def a(M, per):\n",
    "    per = per * 24 * 3600\n",
    "    return ((((G * M * Msun) / (4 * np.pi * np.pi)) * per * per)**(1/3) ) * 1e-3"
   ]
  },
  {
   "cell_type": "code",
   "execution_count": 48,
   "metadata": {},
   "outputs": [
    {
     "data": {
      "text/plain": [
       "1065130.279455202"
      ]
     },
     "execution_count": 48,
     "metadata": {},
     "output_type": "execute_result"
    }
   ],
   "source": [
    "a(star_masses[0], per[0])"
   ]
  },
  {
   "cell_type": "code",
   "execution_count": 49,
   "metadata": {},
   "outputs": [
    {
     "data": {
      "text/plain": [
       "0.99940098053599"
      ]
     },
     "execution_count": 49,
     "metadata": {},
     "output_type": "execute_result"
    }
   ],
   "source": [
    "a(1, 365) / 1.496e8"
   ]
  },
  {
   "cell_type": "code",
   "execution_count": 41,
   "metadata": {},
   "outputs": [
    {
     "ename": "NameError",
     "evalue": "name 'my_short_period_masses' is not defined",
     "output_type": "error",
     "traceback": [
      "\u001b[0;31m---------------------------------------------------------------------------\u001b[0m",
      "\u001b[0;31mNameError\u001b[0m                                 Traceback (most recent call last)",
      "\u001b[0;32m<ipython-input-41-41bf3aa983e2>\u001b[0m in \u001b[0;36m<module>\u001b[0;34m()\u001b[0m\n\u001b[1;32m      1\u001b[0m a_in_m = [(((G * M * Msun) / (4 * np.pi * np.pi)) * per * per)**(1/3) for M, per in \n\u001b[0;32m----> 2\u001b[0;31m         zip(my_short_period_masses[0], [i * 24 * 3600 for i in per if i*24 < 10.])]\n\u001b[0m",
      "\u001b[0;31mNameError\u001b[0m: name 'my_short_period_masses' is not defined"
     ]
    }
   ],
   "source": [
    "a_in_m = [(((G * M * Msun) / (4 * np.pi * np.pi)) * per * per)**(1/3) for M, per in \n",
    "        zip(my_short_period_masses[0], [i * 24 * 3600 for i in per if i*24 < 10.])]"
   ]
  },
  {
   "cell_type": "code",
   "execution_count": 50,
   "metadata": {},
   "outputs": [
    {
     "data": {
      "text/plain": [
       "999.40098053599"
      ]
     },
     "execution_count": 50,
     "metadata": {},
     "output_type": "execute_result"
    }
   ],
   "source": [
    "(((G * 1 * Msun) / (4 * np.pi * np.pi)) * 365*24*3600 *365* 24*3600)**(1/3) / 1.496e8"
   ]
  },
  {
   "cell_type": "code",
   "execution_count": 388,
   "metadata": {},
   "outputs": [
    {
     "data": {
      "text/plain": [
       "[1065198151.8830173,\n",
       " 1360995255.9953754,\n",
       " 1111502390.8822532,\n",
       " 1295684743.4857702,\n",
       " 1151608946.9934976,\n",
       " 1383520397.9951775,\n",
       " 1323189622.0071685]"
      ]
     },
     "execution_count": 388,
     "metadata": {},
     "output_type": "execute_result"
    }
   ],
   "source": [
    "a_in_m"
   ]
  },
  {
   "cell_type": "code",
   "execution_count": 389,
   "metadata": {},
   "outputs": [],
   "source": [
    "a_in_km = np.array(a_in_m) * 1e-3"
   ]
  },
  {
   "cell_type": "code",
   "execution_count": 390,
   "metadata": {},
   "outputs": [
    {
     "data": {
      "text/plain": [
       "array([1065198.15188302, 1360995.25599538, 1111502.39088225,\n",
       "       1295684.74348577, 1151608.9469935 , 1383520.39799518,\n",
       "       1323189.62200717])"
      ]
     },
     "execution_count": 390,
     "metadata": {},
     "output_type": "execute_result"
    }
   ],
   "source": [
    "a_in_km"
   ]
  },
  {
   "cell_type": "code",
   "execution_count": 348,
   "metadata": {},
   "outputs": [
    {
     "data": {
      "text/plain": [
       "62"
      ]
     },
     "execution_count": 348,
     "metadata": {},
     "output_type": "execute_result"
    }
   ],
   "source": [
    "len(planet_radii_samples)"
   ]
  },
  {
   "cell_type": "code",
   "execution_count": 349,
   "metadata": {},
   "outputs": [],
   "source": [
    "short_per_indices = [i for i in range(len(per))  if per[i]*24 < 10]"
   ]
  },
  {
   "cell_type": "code",
   "execution_count": 350,
   "metadata": {},
   "outputs": [],
   "source": [
    "short_per_radii_samples = np.array([planet_radii_samples[i] for i in short_per_indices]).flatten()"
   ]
  },
  {
   "cell_type": "code",
   "execution_count": 351,
   "metadata": {},
   "outputs": [
    {
     "data": {
      "text/plain": [
       "(7000,)"
      ]
     },
     "execution_count": 351,
     "metadata": {},
     "output_type": "execute_result"
    }
   ],
   "source": [
    "np.shape(short_per_radii_samples)"
   ]
  },
  {
   "cell_type": "code",
   "execution_count": 352,
   "metadata": {},
   "outputs": [],
   "source": [
    "short_per_a_km = np.array([a * np.ones(1000) for a in a_in_km]).flatten()\n",
    "short_per_per_days = np.array([i * np.ones(1000) for i in per if i * 24 < 10.]).flatten()\n",
    "short_per_cmf = 0.33 * np.ones_like(short_per_radii_samples)"
   ]
  },
  {
   "cell_type": "code",
   "execution_count": 353,
   "metadata": {},
   "outputs": [],
   "source": [
    "np.savetxt(\"short_per_interp_inputs.txt\", [short_per_radii_samples, short_per_a_km, short_per_per_days, short_per_cmf],\n",
    "          header = \"radius sample, a (km), per (days), CMF\")"
   ]
  },
  {
   "cell_type": "markdown",
   "metadata": {},
   "source": [
    "## Running isochrones without photometric bands"
   ]
  },
  {
   "cell_type": "code",
   "execution_count": 54,
   "metadata": {},
   "outputs": [],
   "source": [
    "bands = ['K']\n",
    "mist2 = MIST_Isochrone(bands = bands)\n",
    "star_radii2 = []\n",
    "star_rad_sigma2 = []\n",
    "star_rad_array2 = []\n",
    "star_masses2 = []\n",
    "star_mass_sigma2 = []\n",
    "deltaarray2 = []\n",
    "fifteen2 = []\n",
    "eightyfive2 = []\n",
    "num_samples = 1000\n",
    "planet_radii_samples2 = []"
   ]
  },
  {
   "cell_type": "code",
   "execution_count": null,
   "metadata": {},
   "outputs": [
    {
     "name": "stderr",
     "output_type": "stream",
     "text": [
      "/Users/anasofiauzsoy/anaconda/lib/python3.6/site-packages/isochrones/mist/grid.py:190: FutureWarning: read_table is deprecated, use read_csv instead, passing sep='\\t'.\n",
      "  skip_blank_lines=True, names=column_names)\n",
      "/Users/anasofiauzsoy/anaconda/lib/python3.6/site-packages/isochrones/mist/grid.py:195: DtypeWarning: Columns (8) have mixed types. Specify dtype option on import or set low_memory=False.\n",
      "  df = super(MISTModelGrid, self).df_all(phot)\n",
      "/Users/anasofiauzsoy/anaconda/lib/python3.6/site-packages/pandas/core/generic.py:2377: PerformanceWarning: \n",
      "your performance may suffer as PyTables will pickle object types that it cannot\n",
      "map directly to c-types [inferred_type->mixed,key->block2_values] [items->['[Fe/H]']]\n",
      "\n",
      "  return pytables.to_hdf(path_or_buf, key, self, **kwargs)\n"
     ]
    },
    {
     "name": "stdout",
     "output_type": "stream",
     "text": [
      "0\n",
      "1\n",
      "2\n",
      "3\n",
      "4\n"
     ]
    },
    {
     "name": "stderr",
     "output_type": "stream",
     "text": [
      "/Users/anasofiauzsoy/anaconda/lib/python3.6/site-packages/numpy/lib/function_base.py:3821: RuntimeWarning: Invalid value encountered in percentile\n",
      "  >>> np.quantile(a, 0.5)\n"
     ]
    },
    {
     "name": "stdout",
     "output_type": "stream",
     "text": [
      "5\n",
      "6\n",
      "7\n",
      "8\n",
      "9\n",
      "10\n",
      "11\n",
      "12\n",
      "13\n",
      "14\n",
      "15\n",
      "16\n",
      "17\n",
      "18\n",
      "19\n",
      "20\n",
      "21\n",
      "22\n",
      "23\n",
      "24\n",
      "25\n",
      "26\n",
      "27\n",
      "28\n",
      "29\n",
      "30\n",
      "31\n",
      "32\n",
      "33\n",
      "34\n",
      "35\n",
      "36\n",
      "37\n",
      "38\n",
      "39\n",
      "40\n",
      "41\n",
      "42\n",
      "43\n",
      "44\n",
      "45\n"
     ]
    }
   ],
   "source": [
    "for i in range(0, len(kepid2)):\n",
    "    radiisamples = []\n",
    "    mags = {'Kepler':(kepmag[i],0.05)}\n",
    "    if (tefferr[i] != 0):\n",
    "        try:\n",
    "            model = StarModel(mist2, logg = (logg[i],loggerr[i]), teff = (teff[i], tefferr[i]),feh = (feh[i],feherr[i]), parallax = (parallax2[i],perror2[i]), **mags)\n",
    "        except:\n",
    "            model = StarModel(mist2, parallax = (parallax2[i], perror2[i]), **mags)    \n",
    "    else:\n",
    "        model = StarModel(mist2, parallax = (parallax2[i], perror2[i]), **mags)\n",
    "    StarModel.fit_multinest(model,n_live_points=1000, basename=None, verbose=False, refit=True, overwrite=True,test=False)\n",
    "    star_radii2.append(model.samples.radius_0_0.quantile(0.5))\n",
    "    star_masses2.append(model.samples.mass_0_0.quantile(0.5))\n",
    "    star_rad_sigma2.append(np.std(model.samples.radius_0_0))\n",
    "    star_mass_sigma2.append(np.std(model.samples.mass_0_0))\n",
    "    fifteen2.append(np.percentile(model.samples.radius_0_0, 15.85))\n",
    "    eightyfive2.append(np.percentile(model.samples.radius_0_0, 84.15))\n",
    "    star_rad_array = np.random.choice(model.samples.radius_0_0, num_samples) ## star radii\n",
    "    deltaarray = np.random.normal(delta[i],derror[i], num_samples)\n",
    "    for j in range(len(star_rad_array)):\n",
    "        if deltaarray[j] > 0:\n",
    "            radiisamples.append((star_rad_array[j]*Sunradius*np.sqrt(deltaarray[j]/1000000))/Earthradius)\n",
    "        else:\n",
    "            radiisamples.append(np.nan)\n",
    "    planet_radii_samples2.append(radiisamples)\n",
    "    print(i)"
   ]
  },
  {
   "cell_type": "code",
   "execution_count": 357,
   "metadata": {},
   "outputs": [
    {
     "data": {
      "text/plain": [
       "(62, 62)"
      ]
     },
     "execution_count": 357,
     "metadata": {},
     "output_type": "execute_result"
    }
   ],
   "source": [
    "len(star_masses), len(star_masses2)"
   ]
  },
  {
   "cell_type": "code",
   "execution_count": 374,
   "metadata": {},
   "outputs": [
    {
     "data": {
      "image/png": "[encoded data removed]",
      "text/plain": [
       "<Figure size 432x288 with 1 Axes>"
      ]
     },
     "metadata": {},
     "output_type": "display_data"
    }
   ],
   "source": [
    "plt.plot(star_masses, star_masses2, 'o')\n",
    "plt.errorbar(star_masses, star_masses2, xerr = star_mass_sigma, yerr = star_mass_sigma2, linestyle = 'None', c = 'k')\n",
    "plt.plot(np.linspace(0.6, 2), np.linspace(0.6, 2))\n",
    "plt.xlabel(\"Isochrones mass with all photometric bands\")\n",
    "plt.ylabel(\"Isochrones mass with only Kepler band\")\n",
    "plt.show()"
   ]
  },
  {
   "cell_type": "code",
   "execution_count": 369,
   "metadata": {},
   "outputs": [
    {
     "data": {
      "text/plain": [
       "[1.1476784436950653,\n",
       " 0.9962431748665481,\n",
       " 0.7557836860963465,\n",
       " 0.8089263726939996,\n",
       " 0.8661423144464417,\n",
       " 0.8716657311544639,\n",
       " 0.9488365063631623,\n",
       " 0.9334769126917974,\n",
       " 0.6481575679053396,\n",
       " 0.7161112070268475,\n",
       " 0.664944275935735,\n",
       " 0.8596087070004356,\n",
       " 0.9359116632317451,\n",
       " 0.9548914972850078,\n",
       " 1.0371760919659598,\n",
       " 0.7157830182799094,\n",
       " 0.9034219806820949,\n",
       " 0.7989961280650311,\n",
       " 0.943280963270393,\n",
       " 0.8185828843745226,\n",
       " 1.191774814766074,\n",
       " 1.015545520141728,\n",
       " 1.2470391975752089,\n",
       " 0.8776297561188625,\n",
       " 1.0856813570874044,\n",
       " 0.7739030291475081,\n",
       " 1.03335219406113,\n",
       " 0.8925738846697834,\n",
       " 0.7539724576089691,\n",
       " 0.794693249506518,\n",
       " 0.8922674830344753,\n",
       " 1.9257547990174757,\n",
       " 0.8613504996078447,\n",
       " 1.3646282138615682,\n",
       " 0.9711848485984373,\n",
       " 0.9513134807733994,\n",
       " 0.8663508724871412,\n",
       " 0.8478424063862919,\n",
       " 0.6540591415617676,\n",
       " 0.8083886091776638,\n",
       " 1.0211423345384651,\n",
       " 0.7484994396936061,\n",
       " 0.6990767836583955,\n",
       " 0.846264601991477,\n",
       " 1.0417444322538434,\n",
       " 0.8248372468595736,\n",
       " 0.8377778770843051,\n",
       " 0.7451387760154963,\n",
       " 0.7393203089696184,\n",
       " 0.9357129931065492,\n",
       " 1.0750101016345197,\n",
       " 0.9945107119877175,\n",
       " 0.7499997281176309,\n",
       " 1.010824829374741,\n",
       " 0.7902712018042509,\n",
       " 0.8586194753202347,\n",
       " 0.8938715969670891,\n",
       " 0.6463786657574017,\n",
       " 0.7989241718071995,\n",
       " 0.9710784655764501,\n",
       " 0.784681544410106,\n",
       " 0.9504048958208039]"
      ]
     },
     "execution_count": 369,
     "metadata": {},
     "output_type": "execute_result"
    }
   ],
   "source": [
    "star_masses2"
   ]
  },
  {
   "cell_type": "code",
   "execution_count": 376,
   "metadata": {},
   "outputs": [
    {
     "data": {
      "text/plain": [
       "9"
      ]
     },
     "execution_count": 376,
     "metadata": {},
     "output_type": "execute_result"
    }
   ],
   "source": [
    "len(falsepositives)"
   ]
  },
  {
   "cell_type": "code",
   "execution_count": 378,
   "metadata": {},
   "outputs": [
    {
     "name": "stdout",
     "output_type": "stream",
     "text": [
      "1.1190778616259538\n"
     ]
    }
   ],
   "source": [
    "for i in range(0, 1):\n",
    "    radiisamples = []\n",
    "    mags = {'Kepler':(kepmag[i],0.05)}\n",
    "#     if (tefferr[i] != 0):\n",
    "#         #try:\n",
    "#         model = StarModel(mist, logg = (logg[i],loggerr[i]), teff = (teff[i], tefferr[i]),feh = (feh[i],feherr[i]), parallax = (parallax2[i], perror2[i]))\n",
    "#         #except:\n",
    "#             #model = StarModel(mist, parallax = (parallax2[i], perror2[i]), **mags)    \n",
    "#     else:\n",
    "    model = StarModel(mist2, parallax = (parallax2[i], perror2[i]), **mags)\n",
    "    StarModel.fit_multinest(model,n_live_points=1000, basename=None, verbose=False, refit=True, overwrite=True,test=False)\n",
    "    print(model.samples.mass_0_0.quantile(0.5))"
   ]
  },
  {
   "cell_type": "code",
   "execution_count": 394,
   "metadata": {},
   "outputs": [
    {
     "data": {
      "text/plain": [
       "0.02214886227133261"
      ]
     },
     "execution_count": 394,
     "metadata": {},
     "output_type": "execute_result"
    }
   ],
   "source": [
    "3313469.7957913587 / 1.496e8"
   ]
  },
  {
   "cell_type": "code",
   "execution_count": null,
   "metadata": {},
   "outputs": [],
   "source": []
  }
 ],
 "metadata": {
  "kernelspec": {
   "display_name": "Python 3",
   "language": "python",
   "name": "python3"
  },
  "language_info": {
   "codemirror_mode": {
    "name": "ipython",
    "version": 3
   },
   "file_extension": ".py",
   "mimetype": "text/x-python",
   "name": "python",
   "nbconvert_exporter": "python",
   "pygments_lexer": "ipython3",
   "version": "3.6.8"
  }
 },
 "nbformat": 4,
 "nbformat_minor": 2
}
