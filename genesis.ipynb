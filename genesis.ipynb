{
 "cells": [
  {
   "cell_type": "code",
   "execution_count": 203,
   "metadata": {},
   "outputs": [],
   "source": [
    "import numpy as np\n",
    "import matplotlib.pyplot as plt\n",
    "import h5py\n",
    "import scipy.stats\n",
    "\n",
    "from matplotlib import animation\n",
    "from IPython.display import HTML\n",
    "\n",
    "plt.rcParams['axes.formatter.min_exponent'] = 3"
   ]
  },
  {
   "cell_type": "code",
   "execution_count": 204,
   "metadata": {},
   "outputs": [
    {
     "name": "stdout",
     "output_type": "stream",
     "text": [
      "Genesis database\n"
     ]
    }
   ],
   "source": [
    "hf= h5py.File('genesis_all.hdf5','r')\n",
    "print(hf.attrs['info'])"
   ]
  },
  {
   "cell_type": "code",
   "execution_count": 205,
   "metadata": {},
   "outputs": [
    {
     "data": {
      "text/plain": [
       "['Gen-HM',\n",
       " 'Gen-I',\n",
       " 'Gen-IO',\n",
       " 'Gen-M-s10',\n",
       " 'Gen-M-s22',\n",
       " 'Gen-M-s50',\n",
       " 'Gen-O',\n",
       " 'Gen-O-p1',\n",
       " 'Gen-O-p2',\n",
       " 'Gen-O-s10',\n",
       " 'Gen-O-s22',\n",
       " 'Gen-O-s5',\n",
       " 'Gen-P',\n",
       " 'Gen-P-I',\n",
       " 'Gen-P-IO']"
      ]
     },
     "execution_count": 205,
     "metadata": {},
     "output_type": "execute_result"
    }
   ],
   "source": [
    "list(hf)"
   ]
  },
  {
   "cell_type": "code",
   "execution_count": 206,
   "metadata": {},
   "outputs": [],
   "source": [
    "def population_from_hdf5(hfset):\n",
    "    \n",
    "    # lists for storing planet porperties\n",
    "    L_mass= []\n",
    "    L_sma= []\n",
    "    L_starID= []\n",
    "    L_inc= []\n",
    "    \n",
    "    for runID, run in hfset.items():    \n",
    "        \n",
    "        #print(run['snapshots'].keys())\n",
    "    \n",
    "        ID= run['snapshots']['id'][()] # [()] is to extract to numpy arrays\n",
    "        sma= run['snapshots']['sma'][()] \n",
    "        mass= run['snapshots']['mass'][()] \n",
    "        time= run['snapshots']['t'][()]\n",
    "        inc= run['snapshots']['inc'][()]\n",
    "        \n",
    "        tgrid= np.unique(time)\n",
    "        t1= time == tgrid[-1]\n",
    "            \n",
    "        #print(\"--\")\n",
    "        # loop over each planet and add properties to big list\n",
    "        for planet in run['planets'].values():\n",
    "            # index to planet in the snapshots\n",
    "            ip= ID == planet['id'][()] \n",
    "                            \n",
    "            #print(sma[ip&t1][0])\n",
    "            L_mass.append(mass[ip&t1][0])\n",
    "            L_sma.append(sma[ip&t1][0]) \n",
    "            L_inc.append(inc[ip&t1][0]*(np.pi/180))\n",
    "            L_starID.append(runID) # identifier for each system\n",
    "            \n",
    "            break ## only get innermost planet\n",
    "        \n",
    "    starID= np.array(L_starID)\n",
    "    sma= np.array(L_sma)\n",
    "    mass= np.array(L_mass)\n",
    "    inc= np.array(L_inc)\n",
    "    \n",
    "    # sort planetary systems inside out\n",
    "    order= np.lexsort((sma,starID)) \n",
    "    \n",
    "    return dict(starID=starID[order], sma= sma[order], mass=mass[order], inc=inc[order])\n"
   ]
  },
  {
   "cell_type": "code",
   "execution_count": 207,
   "metadata": {},
   "outputs": [],
   "source": [
    "popM22 = population_from_hdf5(hf['Gen-M-s22'])\n"
   ]
  },
  {
   "cell_type": "code",
   "execution_count": 216,
   "metadata": {},
   "outputs": [],
   "source": [
    "popM22 = population_from_hdf5(hf['Gen-M-s22'])\n",
    "popHM = population_from_hdf5(hf['Gen-HM'])\n",
    "popP = population_from_hdf5(hf['Gen-P'])\n",
    "popO = population_from_hdf5(hf['Gen-O'])\n",
    "popOp2 = population_from_hdf5(hf['Gen-O-p2'])"
   ]
  },
  {
   "cell_type": "code",
   "execution_count": 209,
   "metadata": {},
   "outputs": [
    {
     "data": {
      "text/plain": [
       "188"
      ]
     },
     "execution_count": 209,
     "metadata": {},
     "output_type": "execute_result"
    }
   ],
   "source": [
    "len(np.concatenate((popM22['mass'], popHM['mass'], popO['mass'],popOp2['mass'])))"
   ]
  },
  {
   "cell_type": "code",
   "execution_count": 210,
   "metadata": {},
   "outputs": [],
   "source": [
    "masses_to_use = popM22['mass'][popM22['sma'] <= 0.05]"
   ]
  },
  {
   "cell_type": "code",
   "execution_count": 211,
   "metadata": {},
   "outputs": [],
   "source": [
    "np.savetxt(\"genesis_masses_sma_masked.txt\", masses_to_use)"
   ]
  },
  {
   "cell_type": "code",
   "execution_count": 217,
   "metadata": {},
   "outputs": [],
   "source": [
    "np.savetxt(\"genesis_masses_innermost_m22.txt\", popM22['mass'])\n",
    "np.savetxt(\"genesis_masses_innermost_HM.txt\", popHM['mass'])\n",
    "np.savetxt(\"genesis_masses_innermost_P.txt\", popP['mass'])\n",
    "np.savetxt(\"genesis_masses_innermost_O.txt\", popO['mass'])\n",
    "np.savetxt(\"genesis_masses_innermost_Op2.txt\", popOp2['mass'])"
   ]
  },
  {
   "cell_type": "code",
   "execution_count": 215,
   "metadata": {},
   "outputs": [],
   "source": [
    "np.savetxt(\"genesis_masses_innermost_popm22.txt\", popM22['mass'])"
   ]
  },
  {
   "cell_type": "code",
   "execution_count": null,
   "metadata": {},
   "outputs": [],
   "source": []
  }
 ],
 "metadata": {
  "kernelspec": {
   "display_name": "Python 3",
   "language": "python",
   "name": "python3"
  },
  "language_info": {
   "codemirror_mode": {
    "name": "ipython",
    "version": 3
   },
   "file_extension": ".py",
   "mimetype": "text/x-python",
   "name": "python",
   "nbconvert_exporter": "python",
   "pygments_lexer": "ipython3",
   "version": "3.6.8"
  }
 },
 "nbformat": 4,
 "nbformat_minor": 4
}
